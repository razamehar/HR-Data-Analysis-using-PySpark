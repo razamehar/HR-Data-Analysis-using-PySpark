{
  "cells": [
    {
      "cell_type": "markdown",
      "source": [
        "## Installs"
      ],
      "metadata": {
        "id": "z-wpG-EQ_F1p"
      }
    },
    {
      "cell_type": "code",
      "metadata": {
        "id": "407c8ab4-c10a-4c70-b999-c1897847c877"
      },
      "outputs": [],
      "source": [
        "!pip install pyspark==3.1.2 -q\n",
        "!pip install findspark -q"
      ],
      "execution_count": null
    },
    {
      "cell_type": "markdown",
      "source": [
        "## Imports"
      ],
      "metadata": {
        "id": "NgHZZEOw--5B"
      }
    },
    {
      "cell_type": "code",
      "source": [
        "import kagglehub\n",
        "import findspark\n",
        "from pyspark.sql import SparkSession\n",
        "from pyspark.ml.feature import VectorAssembler\n",
        "from pyspark.sql.functions import col, sum, when, udf\n",
        "from pyspark.sql.types import IntegerType\n",
        "from pyspark.sql import functions as F\n",
        "from pyspark.sql.functions import lit, to_date, datediff, current_date\n",
        "from pyspark.sql.functions import explode\n",
        "from datetime import datetime\n",
        "from pyspark.ml.regression import LinearRegression\n",
        "from pyspark.ml.evaluation import RegressionEvaluator\n",
        "import warnings"
      ],
      "metadata": {
        "id": "2NtP4Wts-KL2"
      },
      "execution_count": 271,
      "outputs": []
    },
    {
      "cell_type": "markdown",
      "source": [
        "## Utilities"
      ],
      "metadata": {
        "id": "_HGVyTga_JJS"
      }
    },
    {
      "cell_type": "code",
      "metadata": {
        "id": "427c19ff-b977-4b7e-b595-a2186e26b89b"
      },
      "outputs": [],
      "source": [
        "def warn(*args, **kwargs):\n",
        "    pass\n",
        "findspark.init()\n",
        "\n",
        "warnings.warn = warn\n",
        "warnings.filterwarnings('ignore')"
      ],
      "execution_count": 272
    },
    {
      "cell_type": "markdown",
      "source": [
        "## Session Initialization"
      ],
      "metadata": {
        "id": "jgCdqBvRGOP7"
      }
    },
    {
      "cell_type": "code",
      "metadata": {
        "id": "8f16a243-5918-45c9-ba56-eb703a274d7d"
      },
      "outputs": [],
      "source": [
        "spark = SparkSession.builder.appName(\"PySpark_SQL_App\").getOrCreate()"
      ],
      "execution_count": 273
    },
    {
      "cell_type": "markdown",
      "metadata": {
        "id": "28e3ac3d-9490-40db-a68a-9b2d65911995"
      },
      "source": [
        "## Download the data file and Load the dataset\n"
      ]
    },
    {
      "cell_type": "code",
      "source": [
        "path = kagglehub.dataset_download(\"rhuebner/human-resources-data-set\")\n",
        "print(\"Path to dataset files:\", path)"
      ],
      "metadata": {
        "colab": {
          "base_uri": "https://localhost:8080/"
        },
        "id": "Gbjd6lOq-CHt",
        "outputId": "6a1c0f00-830c-468f-fd69-745804e45017"
      },
      "execution_count": 274,
      "outputs": [
        {
          "output_type": "stream",
          "name": "stdout",
          "text": [
            "Path to dataset files: /root/.cache/kagglehub/datasets/rhuebner/human-resources-data-set/versions/4\n"
          ]
        }
      ]
    },
    {
      "cell_type": "code",
      "metadata": {
        "id": "76995ce9-a0f0-479f-8b8e-69f2244e9962"
      },
      "outputs": [],
      "source": [
        "hr_data = spark.read.csv(path, header=True, inferSchema=True) # Load CSV\n",
        "\n",
        "#df = spark.read.parquet(\"path_to_file.parquet\") # Load parquet\n",
        "#df = spark.read.json(\"path_to_file.json\") # Load JSON"
      ],
      "execution_count": 275
    },
    {
      "cell_type": "markdown",
      "source": [
        "## Create a temporary view"
      ],
      "metadata": {
        "id": "XI7EGL2Vmaci"
      }
    },
    {
      "cell_type": "code",
      "source": [
        "hr_data.createOrReplaceTempView(\"hr\")"
      ],
      "metadata": {
        "id": "OOWAOx5emgMx"
      },
      "execution_count": null,
      "outputs": []
    },
    {
      "cell_type": "markdown",
      "source": [
        "## Select Queries"
      ],
      "metadata": {
        "id": "ys8ZCjyImlNP"
      }
    },
    {
      "cell_type": "code",
      "source": [
        "spark.sql(\"SELECT * FROM hr\").show(3)"
      ],
      "metadata": {
        "colab": {
          "base_uri": "https://localhost:8080/"
        },
        "id": "eu6_n98JmfrR",
        "outputId": "072bb53b-1f90-49f0-c9d4-c977b3785c5a"
      },
      "execution_count": 276,
      "outputs": [
        {
          "output_type": "stream",
          "name": "stdout",
          "text": [
            "+--------------------+-----+---------+---------------+--------+-----------+------+-----------+----------------------+------+-----+----------+--------------------+-----+----+--------+---+-----------+-----------+--------------+--------+----------+-----------------+-----------------+--------------------+-----------------+--------------+---------+-----------------+----------------+----------------+---------------+--------------------+--------------------------+--------------+--------+\n",
            "|       Employee_Name|EmpID|MarriedID|MaritalStatusID|GenderID|EmpStatusID|DeptID|PerfScoreID|FromDiversityJobFairID|Salary|Termd|PositionID|            Position|State| Zip|     DOB|Sex|MaritalDesc|CitizenDesc|HispanicLatino|RaceDesc|DateofHire|DateofTermination|       TermReason|    EmploymentStatus|       Department|   ManagerName|ManagerID|RecruitmentSource|PerformanceScore|EngagementSurvey|EmpSatisfaction|SpecialProjectsCount|LastPerformanceReview_Date|DaysLateLast30|Absences|\n",
            "+--------------------+-----+---------+---------------+--------+-----------+------+-----------+----------------------+------+-----+----------+--------------------+-----+----+--------+---+-----------+-----------+--------------+--------+----------+-----------------+-----------------+--------------------+-----------------+--------------+---------+-----------------+----------------+----------------+---------------+--------------------+--------------------------+--------------+--------+\n",
            "| Adinolfi, Wilson  K|10026|        0|              0|       1|          1|     5|          4|                     0| 62506|    0|        19|Production Techni...|   MA|1960|07/10/83| M |     Single| US Citizen|            No|   White|  7/5/2011|             null|N/A-StillEmployed|              Active|Production       |Michael Albert|       22|         LinkedIn|         Exceeds|             4.6|              5|                   0|                 1/17/2019|             0|       1|\n",
            "|Ait Sidi, Karthik...|10084|        1|              1|       1|          5|     3|          3|                     0|104437|    1|        27|             Sr. DBA|   MA|2148|05/05/75| M |    Married| US Citizen|            No|   White| 3/30/2015|        6/16/2016|    career change|Voluntarily Termi...|            IT/IS|    Simon Roup|        4|           Indeed|     Fully Meets|            4.96|              3|                   6|                 2/24/2016|             0|      17|\n",
            "|   Akinkuolie, Sarah|10196|        1|              1|       0|          5|     5|          3|                     0| 64955|    1|        20|Production Techni...|   MA|1810|09/19/88|  F|    Married| US Citizen|            No|   White|  7/5/2011|        9/24/2012|            hours|Voluntarily Termi...|Production       |Kissy Sullivan|       20|         LinkedIn|     Fully Meets|            3.02|              3|                   0|                 5/15/2012|             0|       3|\n",
            "+--------------------+-----+---------+---------------+--------+-----------+------+-----------+----------------------+------+-----+----------+--------------------+-----+----+--------+---+-----------+-----------+--------------+--------+----------+-----------------+-----------------+--------------------+-----------------+--------------+---------+-----------------+----------------+----------------+---------------+--------------------+--------------------------+--------------+--------+\n",
            "only showing top 3 rows\n",
            "\n"
          ]
        }
      ]
    },
    {
      "cell_type": "code",
      "source": [
        "spark.sql(\"SELECT * FROM hr where GenderID = 1\").show(3)"
      ],
      "metadata": {
        "colab": {
          "base_uri": "https://localhost:8080/"
        },
        "id": "93y_IDljm3Qo",
        "outputId": "bb23ece2-a60a-49ec-f16b-8507adc04bf0"
      },
      "execution_count": 277,
      "outputs": [
        {
          "output_type": "stream",
          "name": "stdout",
          "text": [
            "+--------------------+-----+---------+---------------+--------+-----------+------+-----------+----------------------+------+-----+----------+--------------------+-----+----+--------+---+-----------+-----------+--------------+--------+----------+-----------------+-----------------+--------------------+-----------------+--------------+---------+-----------------+----------------+----------------+---------------+--------------------+--------------------------+--------------+--------+\n",
            "|       Employee_Name|EmpID|MarriedID|MaritalStatusID|GenderID|EmpStatusID|DeptID|PerfScoreID|FromDiversityJobFairID|Salary|Termd|PositionID|            Position|State| Zip|     DOB|Sex|MaritalDesc|CitizenDesc|HispanicLatino|RaceDesc|DateofHire|DateofTermination|       TermReason|    EmploymentStatus|       Department|   ManagerName|ManagerID|RecruitmentSource|PerformanceScore|EngagementSurvey|EmpSatisfaction|SpecialProjectsCount|LastPerformanceReview_Date|DaysLateLast30|Absences|\n",
            "+--------------------+-----+---------+---------------+--------+-----------+------+-----------+----------------------+------+-----+----------+--------------------+-----+----+--------+---+-----------+-----------+--------------+--------+----------+-----------------+-----------------+--------------------+-----------------+--------------+---------+-----------------+----------------+----------------+---------------+--------------------+--------------------------+--------------+--------+\n",
            "| Adinolfi, Wilson  K|10026|        0|              0|       1|          1|     5|          4|                     0| 62506|    0|        19|Production Techni...|   MA|1960|07/10/83| M |     Single| US Citizen|            No|   White|  7/5/2011|             null|N/A-StillEmployed|              Active|Production       |Michael Albert|       22|         LinkedIn|         Exceeds|             4.6|              5|                   0|                 1/17/2019|             0|       1|\n",
            "|Ait Sidi, Karthik...|10084|        1|              1|       1|          5|     3|          3|                     0|104437|    1|        27|             Sr. DBA|   MA|2148|05/05/75| M |    Married| US Citizen|            No|   White| 3/30/2015|        6/16/2016|    career change|Voluntarily Termi...|            IT/IS|    Simon Roup|        4|           Indeed|     Fully Meets|            4.96|              3|                   6|                 2/24/2016|             0|      17|\n",
            "|         Athwal, Sam|10062|        0|              4|       1|          1|     5|          3|                     0| 59365|    0|        19|Production Techni...|   MA|2199|02/18/83| M |    Widowed| US Citizen|            No|   White| 9/30/2013|             null|N/A-StillEmployed|              Active|Production       | Ketsia Liebig|       19|Employee Referral|     Fully Meets|             5.0|              4|                   0|                 2/25/2019|             0|      19|\n",
            "+--------------------+-----+---------+---------------+--------+-----------+------+-----------+----------------------+------+-----+----------+--------------------+-----+----+--------+---+-----------+-----------+--------------+--------+----------+-----------------+-----------------+--------------------+-----------------+--------------+---------+-----------------+----------------+----------------+---------------+--------------------+--------------------------+--------------+--------+\n",
            "only showing top 3 rows\n",
            "\n"
          ]
        }
      ]
    },
    {
      "cell_type": "code",
      "source": [
        "spark.sql(\"SELECT distinct PerformanceScore FROM hr\").show()"
      ],
      "metadata": {
        "colab": {
          "base_uri": "https://localhost:8080/"
        },
        "id": "ky1tnwonm8Gu",
        "outputId": "195e2056-6ddf-47f1-c25d-a601e2967caf"
      },
      "execution_count": 278,
      "outputs": [
        {
          "output_type": "stream",
          "name": "stdout",
          "text": [
            "+-----------------+\n",
            "| PerformanceScore|\n",
            "+-----------------+\n",
            "|Needs Improvement|\n",
            "|          Exceeds|\n",
            "|      Fully Meets|\n",
            "|              PIP|\n",
            "+-----------------+\n",
            "\n"
          ]
        }
      ]
    },
    {
      "cell_type": "code",
      "source": [
        "spark.sql(\"SELECT avg(Salary) as AvgSal, max(Salary) as MaxSal, min(Salary) as MinSal FROM hr where GenderID =0 \").show()"
      ],
      "metadata": {
        "colab": {
          "base_uri": "https://localhost:8080/"
        },
        "id": "1XMb3ZPAnGHP",
        "outputId": "44531b49-a732-42db-a9df-b16e87c9c367"
      },
      "execution_count": 279,
      "outputs": [
        {
          "output_type": "stream",
          "name": "stdout",
          "text": [
            "+-----------------+------+------+\n",
            "|           AvgSal|MaxSal|MinSal|\n",
            "+-----------------+------+------+\n",
            "|67786.72727272728|250000| 45046|\n",
            "+-----------------+------+------+\n",
            "\n"
          ]
        }
      ]
    },
    {
      "cell_type": "code",
      "source": [
        "spark.sql(\"SELECT count(GenderID), PerformanceScore FROM hr GROUP BY PerformanceScore \").show()"
      ],
      "metadata": {
        "colab": {
          "base_uri": "https://localhost:8080/"
        },
        "id": "BVAG6Ml6nY4l",
        "outputId": "2c5b691d-11c7-4b9b-a53a-5d0284b67915"
      },
      "execution_count": 280,
      "outputs": [
        {
          "output_type": "stream",
          "name": "stdout",
          "text": [
            "+---------------+-----------------+\n",
            "|count(GenderID)| PerformanceScore|\n",
            "+---------------+-----------------+\n",
            "|             18|Needs Improvement|\n",
            "|             37|          Exceeds|\n",
            "|            243|      Fully Meets|\n",
            "|             13|              PIP|\n",
            "+---------------+-----------------+\n",
            "\n"
          ]
        }
      ]
    },
    {
      "cell_type": "code",
      "source": [
        "spark.sql(\"SELECT * FROM hr WHERE SALARY BETWEEN 47000 AND 50000\").show()"
      ],
      "metadata": {
        "colab": {
          "base_uri": "https://localhost:8080/"
        },
        "id": "JId7W_Ufuxd-",
        "outputId": "5d973cbb-4db6-46aa-f8d3-03647f3a6992"
      },
      "execution_count": 292,
      "outputs": [
        {
          "output_type": "stream",
          "name": "stdout",
          "text": [
            "+--------------------+-----+---------+---------------+--------+-----------+------+-----------+----------------------+------+-----+----------+--------------------+-----+----+--------+---+-----------+-----------+--------------+--------------------+----------+-----------------+-----------------+--------------------+-----------------+------------------+---------+------------------+-----------------+----------------+---------------+--------------------+--------------------------+--------------+--------+\n",
            "|       Employee_Name|EmpID|MarriedID|MaritalStatusID|GenderID|EmpStatusID|DeptID|PerfScoreID|FromDiversityJobFairID|Salary|Termd|PositionID|            Position|State| Zip|     DOB|Sex|MaritalDesc|CitizenDesc|HispanicLatino|            RaceDesc|DateofHire|DateofTermination|       TermReason|    EmploymentStatus|       Department|       ManagerName|ManagerID| RecruitmentSource| PerformanceScore|EngagementSurvey|EmpSatisfaction|SpecialProjectsCount|LastPerformanceReview_Date|DaysLateLast30|Absences|\n",
            "+--------------------+-----+---------+---------------+--------+-----------+------+-----------+----------------------+------+-----+----------+--------------------+-----+----+--------+---+-----------+-----------+--------------+--------------------+----------+-----------------+-----------------+--------------------+-----------------+------------------+---------+------------------+-----------------+----------------+---------------+--------------------+--------------------------+--------------+--------+\n",
            "|    Bachiochi, Linda|10114|        0|              0|       0|          3|     5|          3|                     1| 47837|    0|        19|Production Techni...|   MA|1902|02/11/70|  F|     Single| US Citizen|            No|Black or African ...|  7/6/2009|             null|N/A-StillEmployed|              Active|Production       |    Brannon Miller|       12|Diversity Job Fair|      Fully Meets|            4.46|              3|                   0|                 1/25/2019|             0|       4|\n",
            "|     Barbara, Thomas|10242|        1|              1|       1|          5|     5|          3|                     1| 47211|    1|        19|Production Techni...|   MA|2062|02/21/74| M |    Married| US Citizen|           Yes|Black or African ...|  4/2/2012|        9/19/2016|          unhappy|Voluntarily Termi...|Production       |    Kissy Sullivan|       20|Diversity Job Fair|      Fully Meets|             4.2|              3|                   0|                  5/6/2016|             0|      15|\n",
            "|       Engdahl, Jean|10247|        0|              0|       1|          1|     5|          3|                     0| 48888|    0|        19|Production Techni...|   MA|2026|05/31/74| M |     Single| US Citizen|            No|               White|11/10/2014|             null|N/A-StillEmployed|              Active|Production       |     Kelley Spirea|       18|          LinkedIn|      Fully Meets|             4.7|              5|                   0|                 2/13/2019|             0|       8|\n",
            "|       Gordon, David|10051|        1|              1|       1|          1|     5|          3|                     0| 48285|    0|        19|Production Techni...|   MA|2169|05/21/79| M |    Married| US Citizen|            No|               White|  7/2/2012|             null|N/A-StillEmployed|              Active|Production       |     David Stanley|       14|          LinkedIn|      Fully Meets|             5.0|              3|                   0|                 1/14/2019|             0|       2|\n",
            "|       Goyal, Roxana|10256|        1|              1|       0|          3|     5|          3|                     0| 49256|    0|        19|Production Techni...|   MA|1864|10/09/74|  F|    Married| US Citizen|            No|               Asian| 8/19/2013|             null|N/A-StillEmployed|              Active|Production       |    Kissy Sullivan|       20|          LinkedIn|      Fully Meets|             4.1|              5|                   0|                 2/15/2019|             0|       3|\n",
            "|     Howard, Estelle|10182|        1|              1|       0|          1|     1|          3|                     0| 49920|    1|         2|Administrative As...|   MA|2170|09/16/85|  F|    Married| US Citizen|            No|Black or African ...| 2/16/2015|        4/15/2015| no-call, no-show|Terminated for Cause|    Admin Offices|Brandon R. LeBlanc|        1|            Indeed|      Fully Meets|            3.24|              3|                   4|                 4/15/2015|             0|       6|\n",
            "|      Lynch, Lindsay|10004|        0|              0|       0|          5|     5|          4|                     1| 47434|    1|        19|Production Techni...|   MA|1844|02/14/73|  F|     Single| US Citizen|           Yes|Black or African ...| 11/7/2011|       11/14/2015| Another position|Voluntarily Termi...|Production       |    Webster Butler|       39|Diversity Job Fair|          Exceeds|             5.0|              4|                   0|                  2/2/2015|             0|      17|\n",
            "|    Newman, Richard |10063|        1|              1|       1|          3|     5|          3|                     0| 48495|    0|        19|Production Techni...|   MA|2136|04/08/77| M |    Married| US Citizen|            No|               White| 5/12/2014|             null|N/A-StillEmployed|              Active|Production       |     Ketsia Liebig|       19|          LinkedIn|      Fully Meets|             5.0|              5|                   0|                 2/18/2019|             0|      11|\n",
            "|     Osturnka, Adeel|10021|        1|              1|       1|          1|     5|          4|                     0| 47414|    0|        19|Production Techni...|   MA|2478|12/11/76| M |    Married| US Citizen|            No|               White| 9/30/2013|             null|N/A-StillEmployed|              Active|Production       |     Kelley Spirea|       18|          LinkedIn|          Exceeds|             5.0|              3|                   0|                  2/7/2019|             0|      13|\n",
            "|         Pitt, Brad |10164|        0|              0|       1|          1|     5|          3|                     0| 47001|    0|        19|Production Techni...|   MA|2451|11/23/81| M |     Single| US Citizen|            No|               White| 11/5/2007|             null|N/A-StillEmployed|              Active|Production       |     David Stanley|       14|     Google Search|      Fully Meets|            3.66|              3|                   0|                 2/25/2019|             0|      15|\n",
            "|Saar-Beckles, Mel...|10295|        0|              0|       0|          2|     5|          2|                     1| 47750|    0|        19|Production Techni...|   MA|1801|06/06/68|  F|     Single| US Citizen|            No|Black or African ...|  7/4/2016|             null|N/A-StillEmployed|              Active|Production       |     Kelley Spirea|       18|Diversity Job Fair|Needs Improvement|             2.6|              4|                   0|                 2/18/2019|             5|       4|\n",
            "| Stanford,Barbara  M|10278|        0|              2|       0|          1|     5|          3|                     0| 47961|    0|        19|Production Techni...|   MA|2050|08/25/82|  F|   Divorced| US Citizen|            No|   Two or more races| 1/10/2011|             null|N/A-StillEmployed|              Active|Production       |    Kissy Sullivan|       20|     Google Search|      Fully Meets|             4.1|              4|                   0|                  2/7/2019|             0|       9|\n",
            "|  Theamstern, Sophia|10141|        0|              0|       0|          5|     5|          3|                     0| 48413|    1|        19|Production Techni...|   MA|2066|05/09/65|  F|     Single| US Citizen|            No|               White|  7/5/2011|         9/5/2016| return to school|Voluntarily Termi...|Production       |          Amy Dunn|       11|            Indeed|      Fully Meets|            3.98|              4|                   0|                  3/2/2016|             0|       1|\n",
            "|       Volk, Colleen|10022|        1|              1|       0|          4|     5|          4|                     0| 49773|    1|        19|Production Techni...|   MA|2747|06/03/86|  F|    Married| US Citizen|            No|               White| 9/26/2011|         2/8/2016| gross misconduct|Terminated for Cause|Production       |     Kelley Spirea|       18|     Google Search|          Exceeds|             4.3|              5|                   0|                  2/1/2015|             0|      18|\n",
            "|  Ybarra, Catherine |10301|        0|              0|       0|          5|     5|          1|                     0| 48513|    1|        19|Production Techni...|   MA|2458|05/04/82|  F|     Single| US Citizen|            No|               Asian|  9/2/2008|        9/29/2015| Another position|Voluntarily Termi...|Production       |    Brannon Miller|       12|     Google Search|              PIP|             3.2|              2|                   0|                  9/2/2015|             5|       4|\n",
            "+--------------------+-----+---------+---------------+--------+-----------+------+-----------+----------------------+------+-----+----------+--------------------+-----+----+--------+---+-----------+-----------+--------------+--------------------+----------+-----------------+-----------------+--------------------+-----------------+------------------+---------+------------------+-----------------+----------------+---------------+--------------------+--------------------------+--------------+--------+\n",
            "\n"
          ]
        }
      ]
    },
    {
      "cell_type": "markdown",
      "source": [
        "## Keep the streams running"
      ],
      "metadata": {
        "id": "iUFjQLltvoI9"
      }
    },
    {
      "cell_type": "markdown",
      "source": [
        "In case of streaming data (incoming data), we can keep the streaming running"
      ],
      "metadata": {
        "id": "fq5asHSAvqnA"
      }
    },
    {
      "cell_type": "code",
      "source": [
        "high_salary_stream = spark.sql(\"SELECT * FROM hr WHERE SALARY > 150000\")\n",
        "high_salary_stream.show()"
      ],
      "metadata": {
        "colab": {
          "base_uri": "https://localhost:8080/"
        },
        "id": "1nTF8yyZvypp",
        "outputId": "79a2f003-6d7b-4ba9-ac94-7d8d4723206f"
      },
      "execution_count": 305,
      "outputs": [
        {
          "output_type": "stream",
          "name": "stdout",
          "text": [
            "+----------------+-----+---------+---------------+--------+-----------+------+-----------+----------------------+------+-----+----------+--------------------+-----+----+--------+---+-----------+-------------------+--------------+--------------------+----------+-----------------+-----------------+----------------+-----------------+------------------+---------+------------------+-----------------+----------------+---------------+--------------------+--------------------------+--------------+--------+\n",
            "|   Employee_Name|EmpID|MarriedID|MaritalStatusID|GenderID|EmpStatusID|DeptID|PerfScoreID|FromDiversityJobFairID|Salary|Termd|PositionID|            Position|State| Zip|     DOB|Sex|MaritalDesc|        CitizenDesc|HispanicLatino|            RaceDesc|DateofHire|DateofTermination|       TermReason|EmploymentStatus|       Department|       ManagerName|ManagerID| RecruitmentSource| PerformanceScore|EngagementSurvey|EmpSatisfaction|SpecialProjectsCount|LastPerformanceReview_Date|DaysLateLast30|Absences|\n",
            "+----------------+-----+---------+---------------+--------+-----------+------+-----------+----------------------+------+-----+----------+--------------------+-----+----+--------+---+-----------+-------------------+--------------+--------------------+----------+-----------------+-----------------+----------------+-----------------+------------------+---------+------------------+-----------------+----------------+---------------+--------------------+--------------------------+--------------+--------+\n",
            "|  Corleone, Vito|10019|        0|              0|       1|          1|     5|          4|                     0|170500|    0|        10|Director of Opera...|   MA|2030|03/19/83| M |     Single|         US Citizen|            No|Black or African ...|  1/5/2009|             null|N/A-StillEmployed|          Active|Production       |        Janet King|        2|            Indeed|          Exceeds|             3.7|              5|                   0|                  2/4/2019|             0|      15|\n",
            "|     Foss, Jason|10015|        0|              0|       1|          1|     3|          4|                     0|178000|    0|        12|         IT Director|   MA|1460|07/05/80| M |     Single|         US Citizen|            No|Black or African ...| 4/15/2011|             null|N/A-StillEmployed|          Active|            IT/IS|   Jennifer Zamora|        5|            Indeed|          Exceeds|             5.0|              5|                   5|                  1/7/2019|             0|      15|\n",
            "| Houlihan, Debra|10272|        1|              1|       0|          1|     6|          3|                     0|180000|    0|        11|   Director of Sales|   RI|2908|03/17/66|  F|    Married|         US Citizen|            No|               White|  5/5/2014|             null|N/A-StillEmployed|          Active|            Sales|        Janet King|        2|          LinkedIn|      Fully Meets|             4.5|              4|                   0|                 1/21/2019|             0|      19|\n",
            "|     King, Janet|10089|        1|              1|       0|          1|     2|          3|                     0|250000|    0|        16|     President & CEO|   MA|1902|09/21/54|  F|    Married|         US Citizen|           Yes|               White|  7/2/2012|             null|N/A-StillEmployed|          Active| Executive Office|Board of Directors|        9|            Indeed|      Fully Meets|            4.83|              3|                   0|                 1/17/2019|             0|      10|\n",
            "|   Monroe, Peter|10288|        1|              1|       1|          1|     3|          2|                     1|157000|    0|        13|  IT Manager - Infra|   MA|2134|10/05/86| M |    Married|Eligible NonCitizen|           Yes|Black or African ...| 2/15/2012|             null|N/A-StillEmployed|          Active|            IT/IS|   Jennifer Zamora|        5|Diversity Job Fair|Needs Improvement|            2.39|              3|                   6|                 2/22/2019|             4|      13|\n",
            "|    Roper, Katie|10086|        0|              0|       0|          1|     3|          3|                     0|150290|    0|         7|      Data Architect|   MA|2056|11/21/72|  F|     Single|         US Citizen|            No|Black or African ...|  1/7/2017|             null|N/A-StillEmployed|          Active|            IT/IS|  Brian Champaigne|       13|            Indeed|      Fully Meets|            4.94|              3|                   5|                  2/6/2019|             0|      17|\n",
            "|Zamora, Jennifer|10010|        0|              0|       0|          1|     3|          4|                     0|220450|    0|         6|                 CIO|   MA|2067|08/30/79|  F|     Single|         US Citizen|            No|               White| 4/10/2010|             null|N/A-StillEmployed|          Active|            IT/IS|        Janet King|        2| Employee Referral|          Exceeds|             4.6|              5|                   6|                 2/21/2019|             0|      16|\n",
            "+----------------+-----+---------+---------------+--------+-----------+------+-----------+----------------------+------+-----+----------+--------------------+-----+----+--------+---+-----------+-------------------+--------------+--------------------+----------+-----------------+-----------------+----------------+-----------------+------------------+---------+------------------+-----------------+----------------+---------------+--------------------+--------------------------+--------------+--------+\n",
            "\n"
          ]
        }
      ]
    },
    {
      "cell_type": "code",
      "source": [
        "'''high_salary_stream_query = high_salary_stream.writeStream \\\n",
        "    .outputMode(\"append\") \\\n",
        "    .format(\"console\") \\\n",
        "    .queryName(\"High Salary\") \\\n",
        "    .start() '''"
      ],
      "metadata": {
        "id": "GwH6v8YlxAcq"
      },
      "execution_count": null,
      "outputs": []
    },
    {
      "cell_type": "code",
      "source": [
        "# print(\"********Critical Temperature Values*******\")\n",
        "# high_salary_stream_query.awaitTermination()"
      ],
      "metadata": {
        "id": "HkAFd5FsxE88"
      },
      "execution_count": null,
      "outputs": []
    },
    {
      "cell_type": "markdown",
      "source": [
        "## Stop the session"
      ],
      "metadata": {
        "id": "IHmXvN_Sm0sM"
      }
    },
    {
      "cell_type": "code",
      "source": [
        "spark.stop()"
      ],
      "metadata": {
        "id": "eQwYdb6jD6Qf"
      },
      "execution_count": null,
      "outputs": []
    }
  ],
  "metadata": {
    "kernelspec": {
      "display_name": "Python",
      "language": "python",
      "name": "conda-env-python-py"
    },
    "language_info": {
      "name": "python",
      "version": "3.7.12",
      "mimetype": "text/x-python",
      "codemirror_mode": {
        "name": "ipython",
        "version": 3
      },
      "pygments_lexer": "ipython3",
      "nbconvert_exporter": "python",
      "file_extension": ".py"
    },
    "prev_pub_hash": "4fa66a01fb1e16c239154b57e7d60fc8e9a8a2198ae66e7312eb2f997e32a26a",
    "colab": {
      "provenance": []
    }
  },
  "nbformat": 4,
  "nbformat_minor": 0
}