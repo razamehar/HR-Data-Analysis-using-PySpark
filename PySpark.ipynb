{
  "cells": [
    {
      "cell_type": "markdown",
      "source": [
        "## Installs"
      ],
      "metadata": {
        "id": "z-wpG-EQ_F1p"
      }
    },
    {
      "cell_type": "code",
      "metadata": {
        "colab": {
          "base_uri": "https://localhost:8080/"
        },
        "id": "407c8ab4-c10a-4c70-b999-c1897847c877",
        "outputId": "884ae938-dab4-4730-fddd-b2b184806288"
      },
      "outputs": [
        {
          "output_type": "stream",
          "name": "stdout",
          "text": [
            "\u001b[2K     \u001b[90m━━━━━━━━━━━━━━━━━━━━━━━━━━━━━━━━━━━━━━━━\u001b[0m \u001b[32m212.4/212.4 MB\u001b[0m \u001b[31m4.4 MB/s\u001b[0m eta \u001b[36m0:00:00\u001b[0m\n",
            "\u001b[?25h  Preparing metadata (setup.py) ... \u001b[?25l\u001b[?25hdone\n",
            "\u001b[2K   \u001b[90m━━━━━━━━━━━━━━━━━━━━━━━━━━━━━━━━━━━━━━━━\u001b[0m \u001b[32m198.6/198.6 kB\u001b[0m \u001b[31m10.7 MB/s\u001b[0m eta \u001b[36m0:00:00\u001b[0m\n",
            "\u001b[?25h  Building wheel for pyspark (setup.py) ... \u001b[?25l\u001b[?25hdone\n",
            "\u001b[31mERROR: pip's dependency resolver does not currently take into account all the packages that are installed. This behaviour is the source of the following dependency conflicts.\n",
            "google-spark-connect 0.5.2 requires pyspark>=3.5, but you have pyspark 3.1.2 which is incompatible.\u001b[0m\u001b[31m\n",
            "\u001b[0m"
          ]
        }
      ],
      "source": [
        "!pip install pyspark==3.1.2 -q\n",
        "!pip install findspark -q"
      ],
      "execution_count": 1
    },
    {
      "cell_type": "markdown",
      "source": [
        "## Imports"
      ],
      "metadata": {
        "id": "NgHZZEOw--5B"
      }
    },
    {
      "cell_type": "code",
      "source": [
        "import kagglehub\n",
        "import findspark\n",
        "from pyspark.sql import SparkSession\n",
        "from pyspark.ml.feature import VectorAssembler\n",
        "from pyspark.sql.functions import col, sum, when, udf\n",
        "from pyspark.sql.types import IntegerType\n",
        "from pyspark.sql import functions as F\n",
        "from pyspark.sql.functions import lit, to_date, datediff, current_date\n",
        "from pyspark.sql.functions import explode\n",
        "from datetime import datetime\n",
        "from pyspark.ml.regression import LinearRegression\n",
        "from pyspark.ml.evaluation import RegressionEvaluator\n",
        "import warnings"
      ],
      "metadata": {
        "id": "2NtP4Wts-KL2"
      },
      "execution_count": 190,
      "outputs": []
    },
    {
      "cell_type": "markdown",
      "source": [
        "## Utilities"
      ],
      "metadata": {
        "id": "_HGVyTga_JJS"
      }
    },
    {
      "cell_type": "code",
      "metadata": {
        "id": "427c19ff-b977-4b7e-b595-a2186e26b89b"
      },
      "outputs": [],
      "source": [
        "def warn(*args, **kwargs):\n",
        "    pass\n",
        "findspark.init()\n",
        "\n",
        "warnings.warn = warn\n",
        "warnings.filterwarnings('ignore')"
      ],
      "execution_count": 5
    },
    {
      "cell_type": "markdown",
      "source": [
        "## Session Initialization"
      ],
      "metadata": {
        "id": "jgCdqBvRGOP7"
      }
    },
    {
      "cell_type": "code",
      "metadata": {
        "id": "8f16a243-5918-45c9-ba56-eb703a274d7d"
      },
      "outputs": [],
      "source": [
        "spark = SparkSession.builder.appName(\"PySpark_App\").getOrCreate()"
      ],
      "execution_count": 6
    },
    {
      "cell_type": "markdown",
      "metadata": {
        "id": "28e3ac3d-9490-40db-a68a-9b2d65911995"
      },
      "source": [
        "## Download the data file and Load the dataset\n"
      ]
    },
    {
      "cell_type": "code",
      "source": [
        "path = kagglehub.dataset_download(\"rhuebner/human-resources-data-set\")\n",
        "print(\"Path to dataset files:\", path)"
      ],
      "metadata": {
        "colab": {
          "base_uri": "https://localhost:8080/"
        },
        "id": "Gbjd6lOq-CHt",
        "outputId": "9281f243-8a2f-4d1a-b0cc-512149db7356"
      },
      "execution_count": 7,
      "outputs": [
        {
          "output_type": "stream",
          "name": "stdout",
          "text": [
            "Downloading from https://www.kaggle.com/api/v1/datasets/download/rhuebner/human-resources-data-set?dataset_version_number=4...\n"
          ]
        },
        {
          "output_type": "stream",
          "name": "stderr",
          "text": [
            "100%|██████████| 16.6k/16.6k [00:00<00:00, 19.8MB/s]"
          ]
        },
        {
          "output_type": "stream",
          "name": "stdout",
          "text": [
            "Extracting files...\n",
            "Path to dataset files: /root/.cache/kagglehub/datasets/rhuebner/human-resources-data-set/versions/4\n"
          ]
        },
        {
          "output_type": "stream",
          "name": "stderr",
          "text": [
            "\n"
          ]
        }
      ]
    },
    {
      "cell_type": "code",
      "metadata": {
        "id": "76995ce9-a0f0-479f-8b8e-69f2244e9962"
      },
      "outputs": [],
      "source": [
        "hr_data = spark.read.csv(path, header=True, inferSchema=True) # Load CSV\n",
        "\n",
        "#df = spark.read.parquet(\"path_to_file.parquet\") # Load parquet\n",
        "#df = spark.read.json(\"path_to_file.json\") # Load JSON"
      ],
      "execution_count": 145
    },
    {
      "cell_type": "markdown",
      "metadata": {
        "id": "f05edb75-c6f0-4f3c-9a74-06b630863a94"
      },
      "source": [
        "## Data Exploration"
      ]
    },
    {
      "cell_type": "code",
      "metadata": {
        "colab": {
          "base_uri": "https://localhost:8080/"
        },
        "id": "5d514d19-d11b-4532-8ac8-41b7c2fd92a9",
        "outputId": "1303bebf-17ce-409e-b529-bb08eb10da22"
      },
      "outputs": [
        {
          "output_type": "stream",
          "name": "stdout",
          "text": [
            "root\n",
            " |-- Employee_Name: string (nullable = true)\n",
            " |-- EmpID: integer (nullable = true)\n",
            " |-- MarriedID: integer (nullable = true)\n",
            " |-- MaritalStatusID: integer (nullable = true)\n",
            " |-- GenderID: integer (nullable = true)\n",
            " |-- EmpStatusID: integer (nullable = true)\n",
            " |-- DeptID: integer (nullable = true)\n",
            " |-- PerfScoreID: integer (nullable = true)\n",
            " |-- FromDiversityJobFairID: integer (nullable = true)\n",
            " |-- Salary: integer (nullable = true)\n",
            " |-- Termd: integer (nullable = true)\n",
            " |-- PositionID: integer (nullable = true)\n",
            " |-- Position: string (nullable = true)\n",
            " |-- State: string (nullable = true)\n",
            " |-- Zip: integer (nullable = true)\n",
            " |-- DOB: string (nullable = true)\n",
            " |-- Sex: string (nullable = true)\n",
            " |-- MaritalDesc: string (nullable = true)\n",
            " |-- CitizenDesc: string (nullable = true)\n",
            " |-- HispanicLatino: string (nullable = true)\n",
            " |-- RaceDesc: string (nullable = true)\n",
            " |-- DateofHire: string (nullable = true)\n",
            " |-- DateofTermination: string (nullable = true)\n",
            " |-- TermReason: string (nullable = true)\n",
            " |-- EmploymentStatus: string (nullable = true)\n",
            " |-- Department: string (nullable = true)\n",
            " |-- ManagerName: string (nullable = true)\n",
            " |-- ManagerID: integer (nullable = true)\n",
            " |-- RecruitmentSource: string (nullable = true)\n",
            " |-- PerformanceScore: string (nullable = true)\n",
            " |-- EngagementSurvey: double (nullable = true)\n",
            " |-- EmpSatisfaction: integer (nullable = true)\n",
            " |-- SpecialProjectsCount: integer (nullable = true)\n",
            " |-- LastPerformanceReview_Date: string (nullable = true)\n",
            " |-- DaysLateLast30: integer (nullable = true)\n",
            " |-- Absences: integer (nullable = true)\n",
            "\n"
          ]
        }
      ],
      "source": [
        "hr_data.printSchema()\n",
        "# hr_data.dtypes # To display column data types"
      ],
      "execution_count": 146
    },
    {
      "cell_type": "code",
      "metadata": {
        "colab": {
          "base_uri": "https://localhost:8080/"
        },
        "id": "c934dd68-027b-4957-821e-8dcd7cc90880",
        "outputId": "2bfde95d-445b-46f1-e9bf-e9051bf09685"
      },
      "outputs": [
        {
          "output_type": "stream",
          "name": "stdout",
          "text": [
            "+------------------------+-----+---------+---------------+--------+-----------+------+-----------+----------------------+------+-----+----------+------------------------+-----+----+--------+---+-----------+-----------+--------------+--------+----------+-----------------+-----------------+----------------------+-----------------+--------------+---------+-----------------+----------------+----------------+---------------+--------------------+--------------------------+--------------+--------+\n",
            "|Employee_Name           |EmpID|MarriedID|MaritalStatusID|GenderID|EmpStatusID|DeptID|PerfScoreID|FromDiversityJobFairID|Salary|Termd|PositionID|Position                |State|Zip |DOB     |Sex|MaritalDesc|CitizenDesc|HispanicLatino|RaceDesc|DateofHire|DateofTermination|TermReason       |EmploymentStatus      |Department       |ManagerName   |ManagerID|RecruitmentSource|PerformanceScore|EngagementSurvey|EmpSatisfaction|SpecialProjectsCount|LastPerformanceReview_Date|DaysLateLast30|Absences|\n",
            "+------------------------+-----+---------+---------------+--------+-----------+------+-----------+----------------------+------+-----+----------+------------------------+-----+----+--------+---+-----------+-----------+--------------+--------+----------+-----------------+-----------------+----------------------+-----------------+--------------+---------+-----------------+----------------+----------------+---------------+--------------------+--------------------------+--------------+--------+\n",
            "|Adinolfi, Wilson  K     |10026|0        |0              |1       |1          |5     |4          |0                     |62506 |0    |19        |Production Technician I |MA   |1960|07/10/83|M  |Single     |US Citizen |No            |White   |7/5/2011  |null             |N/A-StillEmployed|Active                |Production       |Michael Albert|22       |LinkedIn         |Exceeds         |4.6             |5              |0                   |1/17/2019                 |0             |1       |\n",
            "|Ait Sidi, Karthikeyan   |10084|1        |1              |1       |5          |3     |3          |0                     |104437|1    |27        |Sr. DBA                 |MA   |2148|05/05/75|M  |Married    |US Citizen |No            |White   |3/30/2015 |6/16/2016        |career change    |Voluntarily Terminated|IT/IS            |Simon Roup    |4        |Indeed           |Fully Meets     |4.96            |3              |6                   |2/24/2016                 |0             |17      |\n",
            "|Akinkuolie, Sarah       |10196|1        |1              |0       |5          |5     |3          |0                     |64955 |1    |20        |Production Technician II|MA   |1810|09/19/88|F  |Married    |US Citizen |No            |White   |7/5/2011  |9/24/2012        |hours            |Voluntarily Terminated|Production       |Kissy Sullivan|20       |LinkedIn         |Fully Meets     |3.02            |3              |0                   |5/15/2012                 |0             |3       |\n",
            "+------------------------+-----+---------+---------------+--------+-----------+------+-----------+----------------------+------+-----+----------+------------------------+-----+----+--------+---+-----------+-----------+--------------+--------+----------+-----------------+-----------------+----------------------+-----------------+--------------+---------+-----------------+----------------+----------------+---------------+--------------------+--------------------------+--------------+--------+\n",
            "only showing top 3 rows\n",
            "\n"
          ]
        }
      ],
      "source": [
        "hr_data.show(3, truncate=False)"
      ],
      "execution_count": 147
    },
    {
      "cell_type": "code",
      "source": [
        "print(f\"Rows: {hr_data.count()}, Columns: {len(hr_data.columns)})\")"
      ],
      "metadata": {
        "colab": {
          "base_uri": "https://localhost:8080/"
        },
        "id": "wgk8pdLdENbA",
        "outputId": "0b2001d0-7e98-4f55-e83c-cf58ab8b9b0a"
      },
      "execution_count": 148,
      "outputs": [
        {
          "output_type": "stream",
          "name": "stdout",
          "text": [
            "Rows: 311, Columns: 36)\n"
          ]
        }
      ]
    },
    {
      "cell_type": "code",
      "source": [
        "# Check for duplicate rows\n",
        "total_rows = hr_data.count()\n",
        "distinct_rows = hr_data.distinct().count()\n",
        "duplicates_count = total_rows - distinct_rows\n",
        "\n",
        "print(f\"Number of duplicate rows: {duplicates_count}\")"
      ],
      "metadata": {
        "colab": {
          "base_uri": "https://localhost:8080/"
        },
        "id": "ZSBoKppcDcpQ",
        "outputId": "8186ae12-02b8-4c95-e7ab-97f4538e8788"
      },
      "execution_count": 149,
      "outputs": [
        {
          "output_type": "stream",
          "name": "stdout",
          "text": [
            "Number of duplicate rows: 0\n"
          ]
        }
      ]
    },
    {
      "cell_type": "code",
      "source": [
        "hr_data.dropDuplicates() # Drop duplicate rows, if any"
      ],
      "metadata": {
        "colab": {
          "base_uri": "https://localhost:8080/"
        },
        "id": "KJxABMJTHWgI",
        "outputId": "af76649b-125d-44d2-e729-3d9a89239585"
      },
      "execution_count": 150,
      "outputs": [
        {
          "output_type": "execute_result",
          "data": {
            "text/plain": [
              "DataFrame[Employee_Name: string, EmpID: int, MarriedID: int, MaritalStatusID: int, GenderID: int, EmpStatusID: int, DeptID: int, PerfScoreID: int, FromDiversityJobFairID: int, Salary: int, Termd: int, PositionID: int, Position: string, State: string, Zip: int, DOB: string, Sex: string, MaritalDesc: string, CitizenDesc: string, HispanicLatino: string, RaceDesc: string, DateofHire: string, DateofTermination: string, TermReason: string, EmploymentStatus: string, Department: string, ManagerName: string, ManagerID: int, RecruitmentSource: string, PerformanceScore: string, EngagementSurvey: double, EmpSatisfaction: int, SpecialProjectsCount: int, LastPerformanceReview_Date: string, DaysLateLast30: int, Absences: int]"
            ]
          },
          "metadata": {},
          "execution_count": 150
        }
      ]
    },
    {
      "cell_type": "code",
      "source": [
        "# Check for null values\n",
        "null_counts = hr_data.select([sum(col(c).isNull().cast(\"int\")).alias(c) for c in hr_data.columns])\n",
        "null_counts.show()"
      ],
      "metadata": {
        "colab": {
          "base_uri": "https://localhost:8080/"
        },
        "id": "OmRSb6ZAGCcI",
        "outputId": "d55ef863-0c16-4b40-a65d-ed7ee4742c32"
      },
      "execution_count": 153,
      "outputs": [
        {
          "output_type": "stream",
          "name": "stdout",
          "text": [
            "+-------------+-----+---------+---------------+--------+-----------+------+-----------+----------------------+------+-----+----------+--------+-----+---+---+---+-----------+-----------+--------------+--------+----------+-----------------+----------+----------------+----------+-----------+---------+-----------------+----------------+----------------+---------------+--------------------+--------------------------+--------------+--------+\n",
            "|Employee_Name|EmpID|MarriedID|MaritalStatusID|GenderID|EmpStatusID|DeptID|PerfScoreID|FromDiversityJobFairID|Salary|Termd|PositionID|Position|State|Zip|DOB|Sex|MaritalDesc|CitizenDesc|HispanicLatino|RaceDesc|DateofHire|DateofTermination|TermReason|EmploymentStatus|Department|ManagerName|ManagerID|RecruitmentSource|PerformanceScore|EngagementSurvey|EmpSatisfaction|SpecialProjectsCount|LastPerformanceReview_Date|DaysLateLast30|Absences|\n",
            "+-------------+-----+---------+---------------+--------+-----------+------+-----------+----------------------+------+-----+----------+--------+-----+---+---+---+-----------+-----------+--------------+--------+----------+-----------------+----------+----------------+----------+-----------+---------+-----------------+----------------+----------------+---------------+--------------------+--------------------------+--------------+--------+\n",
            "|            0|    0|        0|              0|       0|          0|     0|          0|                     0|     0|    0|         0|       0|    0|  0|  0|  0|          0|          0|             0|       0|         0|              207|         0|               0|         0|          0|        8|                0|               0|               0|              0|                   0|                         0|             0|       0|\n",
            "+-------------+-----+---------+---------------+--------+-----------+------+-----------+----------------------+------+-----+----------+--------+-----+---+---+---+-----------+-----------+--------------+--------+----------+-----------------+----------+----------------+----------+-----------+---------+-----------------+----------------+----------------+---------------+--------------------+--------------------------+--------------+--------+\n",
            "\n"
          ]
        }
      ]
    },
    {
      "cell_type": "code",
      "source": [
        "# Drop rows with null values\n",
        "hr_data_cleaned = hr_data.dropna()\n",
        "\n",
        "# Impute missing values (for a specific column)\n",
        "# hr_data_cleaned.fillna({\"DateofTermination\": 0})"
      ],
      "metadata": {
        "id": "FP6CPfd8GwXb"
      },
      "execution_count": 154,
      "outputs": []
    },
    {
      "cell_type": "code",
      "source": [
        "null_counts = hr_data_cleaned.select([sum(col(c).isNull().cast(\"int\")).alias(c) for c in hr_data.columns])\n",
        "null_counts.show()"
      ],
      "metadata": {
        "colab": {
          "base_uri": "https://localhost:8080/"
        },
        "id": "U-U6yz1zGx7S",
        "outputId": "1eac4df4-2545-4654-dd14-048b9dd632d7"
      },
      "execution_count": 155,
      "outputs": [
        {
          "output_type": "stream",
          "name": "stdout",
          "text": [
            "+-------------+-----+---------+---------------+--------+-----------+------+-----------+----------------------+------+-----+----------+--------+-----+---+---+---+-----------+-----------+--------------+--------+----------+-----------------+----------+----------------+----------+-----------+---------+-----------------+----------------+----------------+---------------+--------------------+--------------------------+--------------+--------+\n",
            "|Employee_Name|EmpID|MarriedID|MaritalStatusID|GenderID|EmpStatusID|DeptID|PerfScoreID|FromDiversityJobFairID|Salary|Termd|PositionID|Position|State|Zip|DOB|Sex|MaritalDesc|CitizenDesc|HispanicLatino|RaceDesc|DateofHire|DateofTermination|TermReason|EmploymentStatus|Department|ManagerName|ManagerID|RecruitmentSource|PerformanceScore|EngagementSurvey|EmpSatisfaction|SpecialProjectsCount|LastPerformanceReview_Date|DaysLateLast30|Absences|\n",
            "+-------------+-----+---------+---------------+--------+-----------+------+-----------+----------------------+------+-----+----------+--------+-----+---+---+---+-----------+-----------+--------------+--------+----------+-----------------+----------+----------------+----------+-----------+---------+-----------------+----------------+----------------+---------------+--------------------+--------------------------+--------------+--------+\n",
            "|            0|    0|        0|              0|       0|          0|     0|          0|                     0|     0|    0|         0|       0|    0|  0|  0|  0|          0|          0|             0|       0|         0|                0|         0|               0|         0|          0|        0|                0|               0|               0|              0|                   0|                         0|             0|       0|\n",
            "+-------------+-----+---------+---------------+--------+-----------+------+-----------+----------------------+------+-----+----------+--------+-----+---+---+---+-----------+-----------+--------------+--------+----------+-----------------+----------+----------------+----------+-----------+---------+-----------------+----------------+----------------+---------------+--------------------+--------------------------+--------------+--------+\n",
            "\n"
          ]
        }
      ]
    },
    {
      "cell_type": "markdown",
      "source": [
        "## Transformation"
      ],
      "metadata": {
        "id": "XGG1B7ylILSE"
      }
    },
    {
      "cell_type": "code",
      "source": [
        "# Add a new column with a constant value using lit (literal) function\n",
        "hr_data_cleaned.withColumn(\"PermanentEmployee\", lit(\"yes\")).show(3)"
      ],
      "metadata": {
        "colab": {
          "base_uri": "https://localhost:8080/",
          "height": 634
        },
        "id": "INC0gLHMIYN2",
        "outputId": "59e84c47-d6ff-4900-e777-3bc7d11fb4c6"
      },
      "execution_count": 189,
      "outputs": [
        {
          "output_type": "error",
          "ename": "Py4JJavaError",
          "evalue": "An error occurred while calling z:org.apache.spark.sql.functions.lit.\n: java.lang.RuntimeException: Unsupported literal type class java.util.ArrayList [yes, all]\n\tat org.apache.spark.sql.catalyst.expressions.Literal$.apply(literals.scala:90)\n\tat org.apache.spark.sql.catalyst.expressions.Literal$.$anonfun$create$2(literals.scala:152)\n\tat scala.util.Failure.getOrElse(Try.scala:222)\n\tat org.apache.spark.sql.catalyst.expressions.Literal$.create(literals.scala:152)\n\tat org.apache.spark.sql.functions$.typedLit(functions.scala:131)\n\tat org.apache.spark.sql.functions$.lit(functions.scala:114)\n\tat org.apache.spark.sql.functions.lit(functions.scala)\n\tat java.base/jdk.internal.reflect.NativeMethodAccessorImpl.invoke0(Native Method)\n\tat java.base/jdk.internal.reflect.NativeMethodAccessorImpl.invoke(NativeMethodAccessorImpl.java:62)\n\tat java.base/jdk.internal.reflect.DelegatingMethodAccessorImpl.invoke(DelegatingMethodAccessorImpl.java:43)\n\tat java.base/java.lang.reflect.Method.invoke(Method.java:566)\n\tat py4j.reflection.MethodInvoker.invoke(MethodInvoker.java:244)\n\tat py4j.reflection.ReflectionEngine.invoke(ReflectionEngine.java:357)\n\tat py4j.Gateway.invoke(Gateway.java:282)\n\tat py4j.commands.AbstractCommand.invokeMethod(AbstractCommand.java:132)\n\tat py4j.commands.CallCommand.execute(CallCommand.java:79)\n\tat py4j.GatewayConnection.run(GatewayConnection.java:238)\n\tat java.base/java.lang.Thread.run(Thread.java:829)\n",
          "traceback": [
            "\u001b[0;31m---------------------------------------------------------------------------\u001b[0m",
            "\u001b[0;31mPy4JJavaError\u001b[0m                             Traceback (most recent call last)",
            "\u001b[0;32m<ipython-input-189-0edb3c3b6959>\u001b[0m in \u001b[0;36m<cell line: 0>\u001b[0;34m()\u001b[0m\n\u001b[1;32m      1\u001b[0m \u001b[0;31m# Add a new column with a constant value using lit (literal) function\u001b[0m\u001b[0;34m\u001b[0m\u001b[0;34m\u001b[0m\u001b[0m\n\u001b[0;32m----> 2\u001b[0;31m \u001b[0mhr_data_cleaned\u001b[0m\u001b[0;34m.\u001b[0m\u001b[0mwithColumn\u001b[0m\u001b[0;34m(\u001b[0m\u001b[0;34m\"PermanentEmployee\"\u001b[0m\u001b[0;34m,\u001b[0m \u001b[0mlit\u001b[0m\u001b[0;34m(\u001b[0m\u001b[0;34m[\u001b[0m\u001b[0;34m\"yes\"\u001b[0m\u001b[0;34m,\u001b[0m \u001b[0;34m\"all\"\u001b[0m\u001b[0;34m]\u001b[0m\u001b[0;34m)\u001b[0m\u001b[0;34m)\u001b[0m\u001b[0;34m.\u001b[0m\u001b[0mshow\u001b[0m\u001b[0;34m(\u001b[0m\u001b[0;36m3\u001b[0m\u001b[0;34m)\u001b[0m\u001b[0;34m\u001b[0m\u001b[0;34m\u001b[0m\u001b[0m\n\u001b[0m",
            "\u001b[0;32m/usr/local/lib/python3.11/dist-packages/pyspark/sql/functions.py\u001b[0m in \u001b[0;36mlit\u001b[0;34m(col)\u001b[0m\n\u001b[1;32m     96\u001b[0m     \u001b[0;34m[\u001b[0m\u001b[0mRow\u001b[0m\u001b[0;34m(\u001b[0m\u001b[0mheight\u001b[0m\u001b[0;34m=\u001b[0m\u001b[0;36m5\u001b[0m\u001b[0;34m,\u001b[0m \u001b[0mspark_user\u001b[0m\u001b[0;34m=\u001b[0m\u001b[0;32mTrue\u001b[0m\u001b[0;34m)\u001b[0m\u001b[0;34m]\u001b[0m\u001b[0;34m\u001b[0m\u001b[0;34m\u001b[0m\u001b[0m\n\u001b[1;32m     97\u001b[0m     \"\"\"\n\u001b[0;32m---> 98\u001b[0;31m     \u001b[0;32mreturn\u001b[0m \u001b[0mcol\u001b[0m \u001b[0;32mif\u001b[0m \u001b[0misinstance\u001b[0m\u001b[0;34m(\u001b[0m\u001b[0mcol\u001b[0m\u001b[0;34m,\u001b[0m \u001b[0mColumn\u001b[0m\u001b[0;34m)\u001b[0m \u001b[0;32melse\u001b[0m \u001b[0m_invoke_function\u001b[0m\u001b[0;34m(\u001b[0m\u001b[0;34m\"lit\"\u001b[0m\u001b[0;34m,\u001b[0m \u001b[0mcol\u001b[0m\u001b[0;34m)\u001b[0m\u001b[0;34m\u001b[0m\u001b[0;34m\u001b[0m\u001b[0m\n\u001b[0m\u001b[1;32m     99\u001b[0m \u001b[0;34m\u001b[0m\u001b[0m\n\u001b[1;32m    100\u001b[0m \u001b[0;34m\u001b[0m\u001b[0m\n",
            "\u001b[0;32m/usr/local/lib/python3.11/dist-packages/pyspark/sql/functions.py\u001b[0m in \u001b[0;36m_invoke_function\u001b[0;34m(name, *args)\u001b[0m\n\u001b[1;32m     56\u001b[0m     \"\"\"\n\u001b[1;32m     57\u001b[0m     \u001b[0mjf\u001b[0m \u001b[0;34m=\u001b[0m \u001b[0m_get_get_jvm_function\u001b[0m\u001b[0;34m(\u001b[0m\u001b[0mname\u001b[0m\u001b[0;34m,\u001b[0m \u001b[0mSparkContext\u001b[0m\u001b[0;34m.\u001b[0m\u001b[0m_active_spark_context\u001b[0m\u001b[0;34m)\u001b[0m\u001b[0;34m\u001b[0m\u001b[0;34m\u001b[0m\u001b[0m\n\u001b[0;32m---> 58\u001b[0;31m     \u001b[0;32mreturn\u001b[0m \u001b[0mColumn\u001b[0m\u001b[0;34m(\u001b[0m\u001b[0mjf\u001b[0m\u001b[0;34m(\u001b[0m\u001b[0;34m*\u001b[0m\u001b[0margs\u001b[0m\u001b[0;34m)\u001b[0m\u001b[0;34m)\u001b[0m\u001b[0;34m\u001b[0m\u001b[0;34m\u001b[0m\u001b[0m\n\u001b[0m\u001b[1;32m     59\u001b[0m \u001b[0;34m\u001b[0m\u001b[0m\n\u001b[1;32m     60\u001b[0m \u001b[0;34m\u001b[0m\u001b[0m\n",
            "\u001b[0;32m/usr/local/lib/python3.11/dist-packages/py4j/java_gateway.py\u001b[0m in \u001b[0;36m__call__\u001b[0;34m(self, *args)\u001b[0m\n\u001b[1;32m   1302\u001b[0m \u001b[0;34m\u001b[0m\u001b[0m\n\u001b[1;32m   1303\u001b[0m         \u001b[0manswer\u001b[0m \u001b[0;34m=\u001b[0m \u001b[0mself\u001b[0m\u001b[0;34m.\u001b[0m\u001b[0mgateway_client\u001b[0m\u001b[0;34m.\u001b[0m\u001b[0msend_command\u001b[0m\u001b[0;34m(\u001b[0m\u001b[0mcommand\u001b[0m\u001b[0;34m)\u001b[0m\u001b[0;34m\u001b[0m\u001b[0;34m\u001b[0m\u001b[0m\n\u001b[0;32m-> 1304\u001b[0;31m         return_value = get_return_value(\n\u001b[0m\u001b[1;32m   1305\u001b[0m             answer, self.gateway_client, self.target_id, self.name)\n\u001b[1;32m   1306\u001b[0m \u001b[0;34m\u001b[0m\u001b[0m\n",
            "\u001b[0;32m/usr/local/lib/python3.11/dist-packages/pyspark/sql/utils.py\u001b[0m in \u001b[0;36mdeco\u001b[0;34m(*a, **kw)\u001b[0m\n\u001b[1;32m    109\u001b[0m     \u001b[0;32mdef\u001b[0m \u001b[0mdeco\u001b[0m\u001b[0;34m(\u001b[0m\u001b[0;34m*\u001b[0m\u001b[0ma\u001b[0m\u001b[0;34m,\u001b[0m \u001b[0;34m**\u001b[0m\u001b[0mkw\u001b[0m\u001b[0;34m)\u001b[0m\u001b[0;34m:\u001b[0m\u001b[0;34m\u001b[0m\u001b[0;34m\u001b[0m\u001b[0m\n\u001b[1;32m    110\u001b[0m         \u001b[0;32mtry\u001b[0m\u001b[0;34m:\u001b[0m\u001b[0;34m\u001b[0m\u001b[0;34m\u001b[0m\u001b[0m\n\u001b[0;32m--> 111\u001b[0;31m             \u001b[0;32mreturn\u001b[0m \u001b[0mf\u001b[0m\u001b[0;34m(\u001b[0m\u001b[0;34m*\u001b[0m\u001b[0ma\u001b[0m\u001b[0;34m,\u001b[0m \u001b[0;34m**\u001b[0m\u001b[0mkw\u001b[0m\u001b[0;34m)\u001b[0m\u001b[0;34m\u001b[0m\u001b[0;34m\u001b[0m\u001b[0m\n\u001b[0m\u001b[1;32m    112\u001b[0m         \u001b[0;32mexcept\u001b[0m \u001b[0mpy4j\u001b[0m\u001b[0;34m.\u001b[0m\u001b[0mprotocol\u001b[0m\u001b[0;34m.\u001b[0m\u001b[0mPy4JJavaError\u001b[0m \u001b[0;32mas\u001b[0m \u001b[0me\u001b[0m\u001b[0;34m:\u001b[0m\u001b[0;34m\u001b[0m\u001b[0;34m\u001b[0m\u001b[0m\n\u001b[1;32m    113\u001b[0m             \u001b[0mconverted\u001b[0m \u001b[0;34m=\u001b[0m \u001b[0mconvert_exception\u001b[0m\u001b[0;34m(\u001b[0m\u001b[0me\u001b[0m\u001b[0;34m.\u001b[0m\u001b[0mjava_exception\u001b[0m\u001b[0;34m)\u001b[0m\u001b[0;34m\u001b[0m\u001b[0;34m\u001b[0m\u001b[0m\n",
            "\u001b[0;32m/usr/local/lib/python3.11/dist-packages/py4j/protocol.py\u001b[0m in \u001b[0;36mget_return_value\u001b[0;34m(answer, gateway_client, target_id, name)\u001b[0m\n\u001b[1;32m    324\u001b[0m             \u001b[0mvalue\u001b[0m \u001b[0;34m=\u001b[0m \u001b[0mOUTPUT_CONVERTER\u001b[0m\u001b[0;34m[\u001b[0m\u001b[0mtype\u001b[0m\u001b[0;34m]\u001b[0m\u001b[0;34m(\u001b[0m\u001b[0manswer\u001b[0m\u001b[0;34m[\u001b[0m\u001b[0;36m2\u001b[0m\u001b[0;34m:\u001b[0m\u001b[0;34m]\u001b[0m\u001b[0;34m,\u001b[0m \u001b[0mgateway_client\u001b[0m\u001b[0;34m)\u001b[0m\u001b[0;34m\u001b[0m\u001b[0;34m\u001b[0m\u001b[0m\n\u001b[1;32m    325\u001b[0m             \u001b[0;32mif\u001b[0m \u001b[0manswer\u001b[0m\u001b[0;34m[\u001b[0m\u001b[0;36m1\u001b[0m\u001b[0;34m]\u001b[0m \u001b[0;34m==\u001b[0m \u001b[0mREFERENCE_TYPE\u001b[0m\u001b[0;34m:\u001b[0m\u001b[0;34m\u001b[0m\u001b[0;34m\u001b[0m\u001b[0m\n\u001b[0;32m--> 326\u001b[0;31m                 raise Py4JJavaError(\n\u001b[0m\u001b[1;32m    327\u001b[0m                     \u001b[0;34m\"An error occurred while calling {0}{1}{2}.\\n\"\u001b[0m\u001b[0;34m.\u001b[0m\u001b[0;34m\u001b[0m\u001b[0;34m\u001b[0m\u001b[0m\n\u001b[1;32m    328\u001b[0m                     format(target_id, \".\", name), value)\n",
            "\u001b[0;31mPy4JJavaError\u001b[0m: An error occurred while calling z:org.apache.spark.sql.functions.lit.\n: java.lang.RuntimeException: Unsupported literal type class java.util.ArrayList [yes, all]\n\tat org.apache.spark.sql.catalyst.expressions.Literal$.apply(literals.scala:90)\n\tat org.apache.spark.sql.catalyst.expressions.Literal$.$anonfun$create$2(literals.scala:152)\n\tat scala.util.Failure.getOrElse(Try.scala:222)\n\tat org.apache.spark.sql.catalyst.expressions.Literal$.create(literals.scala:152)\n\tat org.apache.spark.sql.functions$.typedLit(functions.scala:131)\n\tat org.apache.spark.sql.functions$.lit(functions.scala:114)\n\tat org.apache.spark.sql.functions.lit(functions.scala)\n\tat java.base/jdk.internal.reflect.NativeMethodAccessorImpl.invoke0(Native Method)\n\tat java.base/jdk.internal.reflect.NativeMethodAccessorImpl.invoke(NativeMethodAccessorImpl.java:62)\n\tat java.base/jdk.internal.reflect.DelegatingMethodAccessorImpl.invoke(DelegatingMethodAccessorImpl.java:43)\n\tat java.base/java.lang.reflect.Method.invoke(Method.java:566)\n\tat py4j.reflection.MethodInvoker.invoke(MethodInvoker.java:244)\n\tat py4j.reflection.ReflectionEngine.invoke(ReflectionEngine.java:357)\n\tat py4j.Gateway.invoke(Gateway.java:282)\n\tat py4j.commands.AbstractCommand.invokeMethod(AbstractCommand.java:132)\n\tat py4j.commands.CallCommand.execute(CallCommand.java:79)\n\tat py4j.GatewayConnection.run(GatewayConnection.java:238)\n\tat java.base/java.lang.Thread.run(Thread.java:829)\n"
          ]
        }
      ]
    },
    {
      "cell_type": "code",
      "source": [
        "# Select specific columns for analysis\n",
        "cols = [\"MaritalStatusID\",\"GenderID\", \"EmpStatusID\", \"DeptID\", \"PerfScoreID\", \"FromDiversityJobFairID\", \"Termd\", \"PositionID\", \"ManagerID\"]\n",
        "\n",
        "hr_num = hr_data_cleaned.select(cols)"
      ],
      "metadata": {
        "id": "XtaaFmCwHPJW"
      },
      "execution_count": 157,
      "outputs": []
    },
    {
      "cell_type": "markdown",
      "source": [
        "## Exploratory Data Analysis"
      ],
      "metadata": {
        "id": "YjagyGVKHN7I"
      }
    },
    {
      "cell_type": "code",
      "source": [
        "# Show summary statistics\n",
        "hr_num.select(cols).describe().show()"
      ],
      "metadata": {
        "colab": {
          "base_uri": "https://localhost:8080/"
        },
        "id": "2_7m-9vVJ_lo",
        "outputId": "5d0bebd7-fdcd-4bb4-efef-3fc26b46d3e8"
      },
      "execution_count": 158,
      "outputs": [
        {
          "output_type": "stream",
          "name": "stdout",
          "text": [
            "+-------+------------------+------------------+------------------+------------------+------------------+----------------------+-----+------------------+------------------+\n",
            "|summary|   MaritalStatusID|          GenderID|       EmpStatusID|            DeptID|       PerfScoreID|FromDiversityJobFairID|Termd|        PositionID|         ManagerID|\n",
            "+-------+------------------+------------------+------------------+------------------+------------------+----------------------+-----+------------------+------------------+\n",
            "|  count|               104|               104|               104|               104|               104|                   104|  104|               104|               104|\n",
            "|   mean|0.9423076923076923|0.4230769230769231| 4.788461538461538| 4.711538461538462|2.9038461538461537|   0.15384615384615385|  1.0|18.134615384615383|16.903846153846153|\n",
            "| stddev|0.9433149879770784|0.4964399022537007|0.6335763327177987|0.9208805086045133|0.5663583340159615|    0.3625484438800155|  0.0| 4.975781525788927|10.380638466221276|\n",
            "|    min|                 0|                 0|                 1|                 1|                 1|                     0|    1|                 2|                 1|\n",
            "|    max|                 4|                 1|                 5|                 6|                 4|                     1|    1|                30|                39|\n",
            "+-------+------------------+------------------+------------------+------------------+------------------+----------------------+-----+------------------+------------------+\n",
            "\n"
          ]
        }
      ]
    },
    {
      "cell_type": "code",
      "source": [
        "# Show unique values in a specific column\n",
        "unique_PerformanceScore = hr_data_cleaned.select([\"PerformanceScore\", \"GenderID\"]).distinct()\n",
        "unique_PerformanceScore.show()"
      ],
      "metadata": {
        "colab": {
          "base_uri": "https://localhost:8080/"
        },
        "id": "AEjCEs-jKvwX",
        "outputId": "9952ba93-8e4a-40b6-9490-3d8b33d6dfe7"
      },
      "execution_count": 159,
      "outputs": [
        {
          "output_type": "stream",
          "name": "stdout",
          "text": [
            "+-----------------+--------+\n",
            "| PerformanceScore|GenderID|\n",
            "+-----------------+--------+\n",
            "|              PIP|       1|\n",
            "|      Fully Meets|       0|\n",
            "|      Fully Meets|       1|\n",
            "|          Exceeds|       1|\n",
            "|          Exceeds|       0|\n",
            "|              PIP|       0|\n",
            "|Needs Improvement|       1|\n",
            "|Needs Improvement|       0|\n",
            "+-----------------+--------+\n",
            "\n"
          ]
        }
      ]
    },
    {
      "cell_type": "code",
      "source": [
        "unique_Last = hr_data_cleaned.select([\"DaysLateLast30\"]).distinct().show()"
      ],
      "metadata": {
        "colab": {
          "base_uri": "https://localhost:8080/"
        },
        "id": "rOpoQJb0XICC",
        "outputId": "327c6f43-80e5-4d30-9efe-f9f86ba5d79e"
      },
      "execution_count": 160,
      "outputs": [
        {
          "output_type": "stream",
          "name": "stdout",
          "text": [
            "+--------------+\n",
            "|DaysLateLast30|\n",
            "+--------------+\n",
            "|             1|\n",
            "|             6|\n",
            "|             3|\n",
            "|             5|\n",
            "|             4|\n",
            "|             0|\n",
            "+--------------+\n",
            "\n"
          ]
        }
      ]
    },
    {
      "cell_type": "code",
      "source": [
        "# Filer data by genderID and show count\n",
        "gen_0 = hr_data_cleaned.filter(hr_data_cleaned.GenderID == 0)\n",
        "gen_1 = hr_data_cleaned.filter(hr_data_cleaned.GenderID == 1)\n",
        "\n",
        "print(f\"Count of genderID=0: {gen_0.count()},: Count of genderID=1: {gen_1.count()}\")"
      ],
      "metadata": {
        "colab": {
          "base_uri": "https://localhost:8080/"
        },
        "id": "QeBsNr9WIaNH",
        "outputId": "f4888752-146a-4639-eb10-438f590c3caf"
      },
      "execution_count": 161,
      "outputs": [
        {
          "output_type": "stream",
          "name": "stdout",
          "text": [
            "Count of genderID=0: 60,: Count of genderID=1: 44\n"
          ]
        }
      ]
    },
    {
      "cell_type": "code",
      "source": [
        "# Filter data by colummn\n",
        "top_performer_data = hr_data_cleaned.filter(hr_data_cleaned.PerformanceScore == \"Exceeds\")\n",
        "absence_data = hr_data_cleaned.filter(hr_data_cleaned.Absences > 19)"
      ],
      "metadata": {
        "id": "gw6QJgqwI2VP"
      },
      "execution_count": 162,
      "outputs": []
    },
    {
      "cell_type": "code",
      "source": [
        "top_performer_data.show(3)"
      ],
      "metadata": {
        "colab": {
          "base_uri": "https://localhost:8080/"
        },
        "id": "B_c6DrrsMffX",
        "outputId": "3ed3849e-3dc5-4252-8e4e-8d0af76033ee"
      },
      "execution_count": 163,
      "outputs": [
        {
          "output_type": "stream",
          "name": "stdout",
          "text": [
            "+----------------+-----+---------+---------------+--------+-----------+------+-----------+----------------------+------+-----+----------+--------------------+-----+----+--------+---+-----------+-----------+--------------+--------------------+----------+-----------------+----------------+--------------------+--------------------+---------------+---------+------------------+----------------+----------------+---------------+--------------------+--------------------------+--------------+--------+\n",
            "|   Employee_Name|EmpID|MarriedID|MaritalStatusID|GenderID|EmpStatusID|DeptID|PerfScoreID|FromDiversityJobFairID|Salary|Termd|PositionID|            Position|State| Zip|     DOB|Sex|MaritalDesc|CitizenDesc|HispanicLatino|            RaceDesc|DateofHire|DateofTermination|      TermReason|    EmploymentStatus|          Department|    ManagerName|ManagerID| RecruitmentSource|PerformanceScore|EngagementSurvey|EmpSatisfaction|SpecialProjectsCount|LastPerformanceReview_Date|DaysLateLast30|Absences|\n",
            "+----------------+-----+---------+---------------+--------+-----------+------+-----------+----------------------+------+-----+----------+--------------------+-----+----+--------+---+-----------+-----------+--------------+--------------------+----------+-----------------+----------------+--------------------+--------------------+---------------+---------+------------------+----------------+----------------+---------------+--------------------+--------------------------+--------------+--------+\n",
            "| Johnson, George|10034|        1|              1|       1|          5|     5|          4|                     0| 46837|    1|        19|Production Techni...|   MA|2445|08/19/59| M |    Married| US Citizen|            No|               White| 11/7/2011|        4/29/2018|      more money|Voluntarily Termi...|   Production       | Michael Albert|       22|     CareerBuilder|         Exceeds|             4.7|              4|                   0|                 2/14/2018|             0|       9|\n",
            "|  Lynch, Lindsay|10004|        0|              0|       0|          5|     5|          4|                     1| 47434|    1|        19|Production Techni...|   MA|1844|02/14/73|  F|     Single| US Citizen|           Yes|Black or African ...| 11/7/2011|       11/14/2015|Another position|Voluntarily Termi...|   Production       | Webster Butler|       39|Diversity Job Fair|         Exceeds|             5.0|              4|                   0|                  2/2/2015|             0|      17|\n",
            "|Patronick, Lucas|10005|        0|              0|       1|          5|     4|          4|                     1|108987|    1|        24|   Software Engineer|   MA|1844|02/20/79| M |     Single| US Citizen|            No|Black or African ...| 11/7/2011|         9/7/2015|Another position|Voluntarily Termi...|Software Engineering|Alex Sweetwater|       10|Diversity Job Fair|         Exceeds|             5.0|              5|                   3|                 8/16/2015|             0|      13|\n",
            "+----------------+-----+---------+---------------+--------+-----------+------+-----------+----------------------+------+-----+----------+--------------------+-----+----+--------+---+-----------+-----------+--------------+--------------------+----------+-----------------+----------------+--------------------+--------------------+---------------+---------+------------------+----------------+----------------+---------------+--------------------+--------------------------+--------------+--------+\n",
            "only showing top 3 rows\n",
            "\n"
          ]
        }
      ]
    },
    {
      "cell_type": "code",
      "source": [
        "absence_data.show(3)"
      ],
      "metadata": {
        "colab": {
          "base_uri": "https://localhost:8080/"
        },
        "id": "fU8z5XJrMb0f",
        "outputId": "a06dfa9e-2651-4786-d192-a1b072211820"
      },
      "execution_count": 164,
      "outputs": [
        {
          "output_type": "stream",
          "name": "stdout",
          "text": [
            "+--------------------+-----+---------+---------------+--------+-----------+------+-----------+----------------------+------+-----+----------+--------------------+-----+-----+--------+---+-----------+-----------+--------------+-----------------+----------+-----------------+--------------------+--------------------+-----------------+-------------+---------+-----------------+----------------+----------------+---------------+--------------------+--------------------------+--------------+--------+\n",
            "|       Employee_Name|EmpID|MarriedID|MaritalStatusID|GenderID|EmpStatusID|DeptID|PerfScoreID|FromDiversityJobFairID|Salary|Termd|PositionID|            Position|State|  Zip|     DOB|Sex|MaritalDesc|CitizenDesc|HispanicLatino|         RaceDesc|DateofHire|DateofTermination|          TermReason|    EmploymentStatus|       Department|  ManagerName|ManagerID|RecruitmentSource|PerformanceScore|EngagementSurvey|EmpSatisfaction|SpecialProjectsCount|LastPerformanceReview_Date|DaysLateLast30|Absences|\n",
            "+--------------------+-----+---------+---------------+--------+-----------+------+-----------+----------------------+------+-----+----------+--------------------+-----+-----+--------+---+-----------+-----------+--------------+-----------------+----------+-----------------+--------------------+--------------------+-----------------+-------------+---------+-----------------+----------------+----------------+---------------+--------------------+--------------------------+--------------+--------+\n",
            "|       Bates, Norman|10061|        0|              0|       1|          4|     5|          3|                     0| 57834|    1|        19|Production Techni...|   MA| 2050|10/18/81| M |     Single| US Citizen|            No|            White| 2/21/2011|         8/4/2017|          attendance|Terminated for Cause|Production       |Kelley Spirea|       18|    Google Search|     Fully Meets|             5.0|              4|                   0|                  4/5/2017|             0|      20|\n",
            "|Fitzpatrick, Mich...|10093|        0|              0|       1|          5|     5|          3|                     0| 72609|    1|        20|Production Techni...|   MA| 2143|10/01/81| M |     Single| US Citizen|           Yes|            White| 5/16/2011|        6/24/2013|               hours|Voluntarily Termi...|Production       |     Amy Dunn|       11|    Google Search|     Fully Meets|            4.76|              5|                   0|                  4/5/2013|             0|      20|\n",
            "|     Guilianno, Mike|10109|        0|              0|       1|          5|     6|          3|                     0| 71707|    1|         3|  Area Sales Manager|   TN|37129|02/09/69| M |     Single| US Citizen|            No|Two or more races|  3/7/2012|       10/31/2014|relocation out of...|Voluntarily Termi...|            Sales|   John Smith|       17|         LinkedIn|     Fully Meets|             4.5|              5|                   0|                  2/1/2013|             0|      20|\n",
            "+--------------------+-----+---------+---------------+--------+-----------+------+-----------+----------------------+------+-----+----------+--------------------+-----+-----+--------+---+-----------+-----------+--------------+-----------------+----------+-----------------+--------------------+--------------------+-----------------+-------------+---------+-----------------+----------------+----------------+---------------+--------------------+--------------------------+--------------+--------+\n",
            "only showing top 3 rows\n",
            "\n"
          ]
        }
      ]
    },
    {
      "cell_type": "markdown",
      "source": [
        "## Data Manipulation"
      ],
      "metadata": {
        "id": "DW3Om0m0OGUy"
      }
    },
    {
      "cell_type": "code",
      "source": [
        "# Increment of 10% in salaries of those with Exceees performance\n",
        "top_performer_data = hr_data_cleaned.withColumn(\n",
        "    \"Salary\", when(col(\"PerformanceScore\") == \"Exceeds\", col(\"Salary\") * 1.1).otherwise(col(\"Salary\")))"
      ],
      "metadata": {
        "id": "QKIN2jkPMqTE"
      },
      "execution_count": 165,
      "outputs": []
    },
    {
      "cell_type": "code",
      "source": [
        "# Deduction of 5% from salaries for those with absences more than 19\n",
        "absence_data = hr_data_cleaned.withColumn(\n",
        "    \"Salary\", when(col(\"Absences\") > 19, col(\"Salary\") * 1.1).otherwise(col(\"Salary\")))"
      ],
      "metadata": {
        "id": "UVgWhMugJdJJ"
      },
      "execution_count": 166,
      "outputs": []
    },
    {
      "cell_type": "code",
      "source": [
        "hr_data_cleaned = hr_data_cleaned.withColumn(\"DateofHire\", to_date(col(\"DateofHire\"), \"M/d/yyyy\"))\n",
        "\n",
        "hr_data_cleaned = hr_data_cleaned.withColumn(\"DateofTermination\", to_date(col(\"DateofTermination\"), \"M/d/yyyy\"))\n",
        "\n",
        "hr_data_cleaned = hr_data_cleaned.withColumn(\"Tenure\", (datediff(col(\"DateofTermination\"), col(\"DateofHire\")) / 365).cast(\"int\"))\n",
        "\n",
        "hr_data_cleaned.select(\"DateofHire\", \"DateofTermination\", \"Tenure\").show(3, False)"
      ],
      "metadata": {
        "colab": {
          "base_uri": "https://localhost:8080/"
        },
        "id": "SIz2IpUiPj14",
        "outputId": "b41ba00c-0398-429b-e1ad-6dcdc6f9b4a5"
      },
      "execution_count": 167,
      "outputs": [
        {
          "output_type": "stream",
          "name": "stdout",
          "text": [
            "+----------+-----------------+------+\n",
            "|DateofHire|DateofTermination|Tenure|\n",
            "+----------+-----------------+------+\n",
            "|2015-03-30|2016-06-16       |1     |\n",
            "|2011-07-05|2012-09-24       |1     |\n",
            "|2011-07-11|2016-09-06       |5     |\n",
            "+----------+-----------------+------+\n",
            "only showing top 3 rows\n",
            "\n"
          ]
        }
      ]
    },
    {
      "cell_type": "markdown",
      "source": [
        "## Aggregation & Grouping"
      ],
      "metadata": {
        "id": "Jl-pNbDiYs6i"
      }
    },
    {
      "cell_type": "code",
      "source": [
        "# Show average salary per department\n",
        "hr_data_cleaned.groupBy(\"DeptID\").agg({\"Salary\": \"avg\"}).show()"
      ],
      "metadata": {
        "colab": {
          "base_uri": "https://localhost:8080/"
        },
        "id": "YpS3ppLaYvat",
        "outputId": "d9b92a1b-48c5-40a1-d5f3-1ebe768fa391"
      },
      "execution_count": 171,
      "outputs": [
        {
          "output_type": "stream",
          "name": "stdout",
          "text": [
            "+------+------------------+\n",
            "|DeptID|       avg(Salary)|\n",
            "+------+------------------+\n",
            "|     1|           62761.0|\n",
            "|     6|           68917.8|\n",
            "|     3|          107274.9|\n",
            "|     5| 59246.55421686747|\n",
            "|     4|102894.33333333333|\n",
            "+------+------------------+\n",
            "\n"
          ]
        }
      ]
    },
    {
      "cell_type": "code",
      "source": [
        "# Show min and max salaries per department\n",
        "hr_data_cleaned.groupBy(\"DeptID\").agg(\n",
        "    F.min(\"Salary\").alias(\"min(Salary)\"),\n",
        "    F.max(\"Salary\").alias(\"max(Salary)\")\n",
        ").show()"
      ],
      "metadata": {
        "colab": {
          "base_uri": "https://localhost:8080/"
        },
        "id": "zlSY3DnRZXH4",
        "outputId": "0a91d1f0-1d03-478f-dbae-c20a4eb0cdf2"
      },
      "execution_count": 172,
      "outputs": [
        {
          "output_type": "stream",
          "name": "stdout",
          "text": [
            "+------+-----------+-----------+\n",
            "|DeptID|min(Salary)|max(Salary)|\n",
            "+------+-----------+-----------+\n",
            "|     1|      49920|      83363|\n",
            "|     6|      59370|      74326|\n",
            "|     3|      75281|     148999|\n",
            "|     5|      45115|      83082|\n",
            "|     4|      99280|     108987|\n",
            "+------+-----------+-----------+\n",
            "\n"
          ]
        }
      ]
    },
    {
      "cell_type": "code",
      "source": [
        "# Show average salary and average Employee Satisfaction per department\n",
        "hr_data_cleaned.groupBy(\"DeptID\").agg({\"Salary\": \"avg\", \"EmpSatisfaction\": \"avg\"}).show()"
      ],
      "metadata": {
        "colab": {
          "base_uri": "https://localhost:8080/"
        },
        "id": "uwfSdNRsZoQs",
        "outputId": "609082fc-f741-483d-889f-84c12716a4a8"
      },
      "execution_count": 175,
      "outputs": [
        {
          "output_type": "stream",
          "name": "stdout",
          "text": [
            "+------+------------------+--------------------+\n",
            "|DeptID|       avg(Salary)|avg(EmpSatisfaction)|\n",
            "+------+------------------+--------------------+\n",
            "|     1|           62761.0|  3.6666666666666665|\n",
            "|     6|           68917.8|                 4.8|\n",
            "|     3|          107274.9|                 3.6|\n",
            "|     5| 59246.55421686747|   3.855421686746988|\n",
            "|     4|102894.33333333333|   4.333333333333333|\n",
            "+------+------------------+--------------------+\n",
            "\n"
          ]
        }
      ]
    },
    {
      "cell_type": "code",
      "source": [
        "# Show count values of Employee Satisfaction\n",
        "hr_data_cleaned.groupBy(\"EmpSatisfaction\").count().show()"
      ],
      "metadata": {
        "colab": {
          "base_uri": "https://localhost:8080/"
        },
        "id": "K8aqs34AaOXE",
        "outputId": "fce7d07c-de53-4527-d9a8-99a01ebc403d"
      },
      "execution_count": 176,
      "outputs": [
        {
          "output_type": "stream",
          "name": "stdout",
          "text": [
            "+---------------+-----+\n",
            "|EmpSatisfaction|count|\n",
            "+---------------+-----+\n",
            "|              3|   33|\n",
            "|              5|   29|\n",
            "|              4|   38|\n",
            "|              2|    4|\n",
            "+---------------+-----+\n",
            "\n"
          ]
        }
      ]
    },
    {
      "cell_type": "markdown",
      "source": [
        "## Sorting"
      ],
      "metadata": {
        "id": "IFr5MATmbhqu"
      }
    },
    {
      "cell_type": "code",
      "source": [
        "hr_data_cleaned.orderBy(\"Tenure\").show(3)"
      ],
      "metadata": {
        "colab": {
          "base_uri": "https://localhost:8080/"
        },
        "id": "chBvY2S9bklP",
        "outputId": "d93f1b8f-334b-4c43-bbd3-f5c9cdd488e5"
      },
      "execution_count": 182,
      "outputs": [
        {
          "output_type": "stream",
          "name": "stdout",
          "text": [
            "+--------------------+-----+---------+---------------+--------+-----------+------+-----------+----------------------+------+-----+----------+--------------------+-----+----+--------+---+-----------+-----------+--------------+--------+----------+-----------------+--------------------+--------------------+-----------------+--------------+---------+-----------------+----------------+----------------+---------------+--------------------+--------------------------+--------------+--------+------+\n",
            "|       Employee_Name|EmpID|MarriedID|MaritalStatusID|GenderID|EmpStatusID|DeptID|PerfScoreID|FromDiversityJobFairID|Salary|Termd|PositionID|            Position|State| Zip|     DOB|Sex|MaritalDesc|CitizenDesc|HispanicLatino|RaceDesc|DateofHire|DateofTermination|          TermReason|    EmploymentStatus|       Department|   ManagerName|ManagerID|RecruitmentSource|PerformanceScore|EngagementSurvey|EmpSatisfaction|SpecialProjectsCount|LastPerformanceReview_Date|DaysLateLast30|Absences|Tenure|\n",
            "+--------------------+-----+---------+---------------+--------+-----------+------+-----------+----------------------+------+-----+----------+--------------------+-----+----+--------+---+-----------+-----------+--------------+--------+----------+-----------------+--------------------+--------------------+-----------------+--------------+---------+-----------------+----------------+----------------+---------------+--------------------+--------------------------+--------------+--------+------+\n",
            "|       Goble, Taisha|10246|        0|              0|       0|          4|     3|          3|                     0|114800|    1|         8|Database Administ...|   MA|2127|10/23/71|  F|     Single| US Citizen|            No|   White|2015-02-16|       2015-03-15|    no-call, no-show|Terminated for Cause|            IT/IS|    Simon Roup|        4|           Indeed|     Fully Meets|             4.6|              4|                   4|                 1/20/2015|             0|      10|     0|\n",
            "|    Purinton, Janine|10262|        0|              2|       0|          5|     5|          3|                     0| 46430|    1|        19|Production Techni...|   MA|2474|09/22/70|  F|   Divorced| US Citizen|            No|   White|2012-09-24|       2013-06-18|             unhappy|Voluntarily Termi...|Production       |Kissy Sullivan|       20|           Indeed|     Fully Meets|             4.5|              5|                   0|                  4/2/2013|             0|      16|     0|\n",
            "|Homberger, Adrien...|10195|        1|              1|       0|          5|     5|          3|                     0| 63478|    1|        20|Production Techni...|   MA|2445|02/16/84|  F|    Married|Non-Citizen|            No|   White|2011-08-15|       2012-04-07|relocation out of...|Voluntarily Termi...|Production       |Michael Albert|       30|           Indeed|     Fully Meets|            3.03|              5|                   0|                  3/5/2012|             0|      16|     0|\n",
            "+--------------------+-----+---------+---------------+--------+-----------+------+-----------+----------------------+------+-----+----------+--------------------+-----+----+--------+---+-----------+-----------+--------------+--------+----------+-----------------+--------------------+--------------------+-----------------+--------------+---------+-----------------+----------------+----------------+---------------+--------------------+--------------------------+--------------+--------+------+\n",
            "only showing top 3 rows\n",
            "\n"
          ]
        }
      ]
    },
    {
      "cell_type": "markdown",
      "source": [
        "## DataFrame Caching"
      ],
      "metadata": {
        "id": "CfrQXhmxa2sy"
      }
    },
    {
      "cell_type": "code",
      "source": [
        "hr_data_cleaned.cache()  # Cache DataFrame in memory\n",
        "\n",
        "# When you cache a DataFrame, Spark keeps the data in memory,\n",
        "# which can help speed up subsequent actions and transformations that need to access the data,\n",
        "# as it avoids re-reading or recomputing the data from the source (e.g., from a file, database, etc.)."
      ],
      "metadata": {
        "colab": {
          "base_uri": "https://localhost:8080/"
        },
        "id": "inDClRvDa6XD",
        "outputId": "24ceabc4-0b3e-4253-db1d-e211bcc0016d"
      },
      "execution_count": 180,
      "outputs": [
        {
          "output_type": "execute_result",
          "data": {
            "text/plain": [
              "DataFrame[Employee_Name: string, EmpID: int, MarriedID: int, MaritalStatusID: int, GenderID: int, EmpStatusID: int, DeptID: int, PerfScoreID: int, FromDiversityJobFairID: int, Salary: int, Termd: int, PositionID: int, Position: string, State: string, Zip: int, DOB: string, Sex: string, MaritalDesc: string, CitizenDesc: string, HispanicLatino: string, RaceDesc: string, DateofHire: date, DateofTermination: date, TermReason: string, EmploymentStatus: string, Department: string, ManagerName: string, ManagerID: int, RecruitmentSource: string, PerformanceScore: string, EngagementSurvey: double, EmpSatisfaction: int, SpecialProjectsCount: int, LastPerformanceReview_Date: string, DaysLateLast30: int, Absences: int, Tenure: int]"
            ]
          },
          "metadata": {},
          "execution_count": 180
        }
      ]
    },
    {
      "cell_type": "markdown",
      "source": [
        "## Joins"
      ],
      "metadata": {
        "id": "xY-m6xHWatTS"
      }
    },
    {
      "cell_type": "code",
      "source": [
        "#df1.join(df2, df1[\"key\"] == df2[\"key\"], \"inner\").show()\n",
        "#df1.join(df2, on=\"key\", how=\"left\").show()"
      ],
      "metadata": {
        "id": "8ovpsjxuavMQ"
      },
      "execution_count": 177,
      "outputs": []
    },
    {
      "cell_type": "markdown",
      "source": [
        "## Partitioning and Repartitioning:"
      ],
      "metadata": {
        "id": "6KAdEgOocLfT"
      }
    },
    {
      "cell_type": "code",
      "source": [
        "hr_data_cleaned.repartition(5) # Divides the data into 5 subsets and runs in paralell in multiple nodes, if available"
      ],
      "metadata": {
        "colab": {
          "base_uri": "https://localhost:8080/"
        },
        "id": "Y73oEhwGcPKR",
        "outputId": "f9c37510-cb8b-4ee7-cc63-6dbdba9d9db0"
      },
      "execution_count": 185,
      "outputs": [
        {
          "output_type": "execute_result",
          "data": {
            "text/plain": [
              "DataFrame[Employee_Name: string, EmpID: int, MarriedID: int, MaritalStatusID: int, GenderID: int, EmpStatusID: int, DeptID: int, PerfScoreID: int, FromDiversityJobFairID: int, Salary: int, Termd: int, PositionID: int, Position: string, State: string, Zip: int, DOB: string, Sex: string, MaritalDesc: string, CitizenDesc: string, HispanicLatino: string, RaceDesc: string, DateofHire: date, DateofTermination: date, TermReason: string, EmploymentStatus: string, Department: string, ManagerName: string, ManagerID: int, RecruitmentSource: string, PerformanceScore: string, EngagementSurvey: double, EmpSatisfaction: int, SpecialProjectsCount: int, LastPerformanceReview_Date: string, DaysLateLast30: int, Absences: int, Tenure: int]"
            ]
          },
          "metadata": {},
          "execution_count": 185
        }
      ]
    },
    {
      "cell_type": "code",
      "source": [
        "hr_data_cleaned.coalesce(1) #Repartitioning"
      ],
      "metadata": {
        "colab": {
          "base_uri": "https://localhost:8080/"
        },
        "id": "nnmofV_XcUYg",
        "outputId": "58982993-afb0-4925-fc60-8282fffd110f"
      },
      "execution_count": 186,
      "outputs": [
        {
          "output_type": "execute_result",
          "data": {
            "text/plain": [
              "DataFrame[Employee_Name: string, EmpID: int, MarriedID: int, MaritalStatusID: int, GenderID: int, EmpStatusID: int, DeptID: int, PerfScoreID: int, FromDiversityJobFairID: int, Salary: int, Termd: int, PositionID: int, Position: string, State: string, Zip: int, DOB: string, Sex: string, MaritalDesc: string, CitizenDesc: string, HispanicLatino: string, RaceDesc: string, DateofHire: date, DateofTermination: date, TermReason: string, EmploymentStatus: string, Department: string, ManagerName: string, ManagerID: int, RecruitmentSource: string, PerformanceScore: string, EngagementSurvey: double, EmpSatisfaction: int, SpecialProjectsCount: int, LastPerformanceReview_Date: string, DaysLateLast30: int, Absences: int, Tenure: int]"
            ]
          },
          "metadata": {},
          "execution_count": 186
        }
      ]
    },
    {
      "cell_type": "markdown",
      "source": [
        "## Exploding an array into rows"
      ],
      "metadata": {
        "id": "hK4bbAF0dmCc"
      }
    },
    {
      "cell_type": "markdown",
      "source": [
        "ID\tSkills\n",
        "\n",
        "1\t[\"Python\", \"Java\"]\n",
        "\n",
        "2\t[\"SQL\", \"Spark\", \"R\"]\n",
        "\n",
        "3\t[\"Excel\", \"Power BI\"]"
      ],
      "metadata": {
        "id": "S4n0oy_Wdzbx"
      }
    },
    {
      "cell_type": "code",
      "source": [
        "# Exploding an array into rows\n",
        "hr_data_cleaned.withColumn(\"GenderID\", explode(col(\"Language\"))).show()"
      ],
      "metadata": {
        "id": "_5VG5jmheFrM"
      },
      "execution_count": null,
      "outputs": []
    },
    {
      "cell_type": "markdown",
      "source": [
        "## Group Target Variables"
      ],
      "metadata": {
        "id": "7WWNE7DRBEKQ"
      }
    },
    {
      "cell_type": "code",
      "source": [
        "assembler = VectorAssembler(inputCols=[\"MaritalStatusID\",\"GenderID\", \"EmpStatusID\", \"DeptID\", \"PerfScoreID\", \"FromDiversityJobFairID\", \"Termd\",\n",
        "                                       \"PositionID\", \"ManagerID\"], outputCol=\"features\")\n",
        "hr_transformed_data = assembler.transform(hr_data_cleaned)"
      ],
      "metadata": {
        "id": "1q4ULFfFBKbV"
      },
      "execution_count": 192,
      "outputs": []
    },
    {
      "cell_type": "code",
      "source": [
        "hr_transformed_data.select(\"features\",\"Salary\").show()"
      ],
      "metadata": {
        "colab": {
          "base_uri": "https://localhost:8080/"
        },
        "id": "Vp2g-4jWBzJw",
        "outputId": "c5858218-8abd-4163-87e1-7d60005091b5"
      },
      "execution_count": 193,
      "outputs": [
        {
          "output_type": "stream",
          "name": "stdout",
          "text": [
            "+--------------------+------+\n",
            "|            features|Salary|\n",
            "+--------------------+------+\n",
            "|[1.0,1.0,5.0,3.0,...|104437|\n",
            "|[1.0,0.0,5.0,5.0,...| 64955|\n",
            "|[2.0,0.0,5.0,5.0,...| 50825|\n",
            "|[1.0,0.0,5.0,5.0,...| 54670|\n",
            "|[1.0,1.0,5.0,5.0,...| 47211|\n",
            "|[2.0,1.0,5.0,5.0,...| 52505|\n",
            "|[0.0,1.0,4.0,5.0,...| 57834|\n",
            "|[0.0,0.0,4.0,3.0,...|110000|\n",
            "|[0.0,0.0,5.0,5.0,...| 57815|\n",
            "|[0.0,1.0,4.0,3.0,...|103613|\n",
            "|[0.0,1.0,5.0,5.0,...| 74312|\n",
            "|[1.0,0.0,5.0,5.0,...| 53492|\n",
            "|[1.0,0.0,5.0,6.0,...| 74326|\n",
            "|[0.0,0.0,5.0,5.0,...| 64786|\n",
            "|[1.0,0.0,5.0,5.0,...| 64066|\n",
            "|[1.0,1.0,5.0,5.0,...| 59369|\n",
            "|[0.0,1.0,4.0,5.0,...| 59144|\n",
            "|[1.0,1.0,5.0,5.0,...| 55722|\n",
            "|[3.0,0.0,5.0,5.0,...| 58275|\n",
            "|[1.0,0.0,5.0,5.0,...| 60070|\n",
            "+--------------------+------+\n",
            "only showing top 20 rows\n",
            "\n"
          ]
        }
      ]
    },
    {
      "cell_type": "markdown",
      "source": [
        "## Data Split"
      ],
      "metadata": {
        "id": "MVxEtfhGDlkH"
      }
    },
    {
      "cell_type": "code",
      "source": [
        "(training_data, testing_data) = hr_transformed_data.randomSplit([0.8, 0.2], seed=42)"
      ],
      "metadata": {
        "id": "i2KG6UQfB0yB"
      },
      "execution_count": 194,
      "outputs": []
    },
    {
      "cell_type": "markdown",
      "source": [
        "## Model Building"
      ],
      "metadata": {
        "id": "CZKkCdDeDrLP"
      }
    },
    {
      "cell_type": "code",
      "source": [
        "lr = LinearRegression(featuresCol=\"features\", labelCol=\"Salary\")\n",
        "model = lr.fit(training_data)"
      ],
      "metadata": {
        "id": "2HZFCYa-DpA5"
      },
      "execution_count": 195,
      "outputs": []
    },
    {
      "cell_type": "markdown",
      "source": [
        "## Model Evaluation"
      ],
      "metadata": {
        "id": "lYHoLHQJDwRr"
      }
    },
    {
      "cell_type": "code",
      "source": [
        "predictions = model.transform(testing_data)"
      ],
      "metadata": {
        "id": "G8553FbXDuAI"
      },
      "execution_count": 197,
      "outputs": []
    },
    {
      "cell_type": "code",
      "source": [
        "evaluator = RegressionEvaluator(labelCol=\"Salary\", predictionCol=\"prediction\", metricName=\"r2\")\n",
        "r2 = evaluator.evaluate(predictions)\n",
        "print(\"R Squared =\", r2)"
      ],
      "metadata": {
        "colab": {
          "base_uri": "https://localhost:8080/"
        },
        "id": "boTFuDasDxqk",
        "outputId": "0b02e38d-20e6-4683-c40c-5194ef3aff9f"
      },
      "execution_count": 198,
      "outputs": [
        {
          "output_type": "stream",
          "name": "stdout",
          "text": [
            "R Squared = 0.5789676362279946\n"
          ]
        }
      ]
    },
    {
      "cell_type": "code",
      "source": [
        "evaluator = RegressionEvaluator(labelCol=\"Salary\", predictionCol=\"prediction\", metricName=\"rmse\")\n",
        "rmse = evaluator.evaluate(predictions)\n",
        "print(\"RMSE =\", rmse)"
      ],
      "metadata": {
        "colab": {
          "base_uri": "https://localhost:8080/"
        },
        "id": "JY66aIQUD0AO",
        "outputId": "42cf354d-0cfd-4dac-d785-78cf62bfab4b"
      },
      "execution_count": 199,
      "outputs": [
        {
          "output_type": "stream",
          "name": "stdout",
          "text": [
            "RMSE = 11404.800500086089\n"
          ]
        }
      ]
    },
    {
      "cell_type": "markdown",
      "source": [
        "## Stop the Spark session"
      ],
      "metadata": {
        "id": "y4COY7WoePCJ"
      }
    },
    {
      "cell_type": "code",
      "source": [
        "spark.stop()"
      ],
      "metadata": {
        "id": "eQwYdb6jD6Qf"
      },
      "execution_count": 200,
      "outputs": []
    }
  ],
  "metadata": {
    "kernelspec": {
      "display_name": "Python",
      "language": "python",
      "name": "conda-env-python-py"
    },
    "language_info": {
      "name": "python",
      "version": "3.7.12",
      "mimetype": "text/x-python",
      "codemirror_mode": {
        "name": "ipython",
        "version": 3
      },
      "pygments_lexer": "ipython3",
      "nbconvert_exporter": "python",
      "file_extension": ".py"
    },
    "prev_pub_hash": "4fa66a01fb1e16c239154b57e7d60fc8e9a8a2198ae66e7312eb2f997e32a26a",
    "colab": {
      "provenance": [],
      "toc_visible": true
    }
  },
  "nbformat": 4,
  "nbformat_minor": 0
}