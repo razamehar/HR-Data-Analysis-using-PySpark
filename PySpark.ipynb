{
  "cells": [
    {
      "cell_type": "markdown",
      "source": [
        "## Installs"
      ],
      "metadata": {
        "id": "z-wpG-EQ_F1p"
      }
    },
    {
      "cell_type": "code",
      "metadata": {
        "id": "407c8ab4-c10a-4c70-b999-c1897847c877",
        "colab": {
          "base_uri": "https://localhost:8080/"
        },
        "outputId": "af871740-8a2b-44c2-b77d-a9302d228630"
      },
      "outputs": [
        {
          "output_type": "stream",
          "name": "stdout",
          "text": [
            "  Preparing metadata (setup.py) ... \u001b[?25l\u001b[?25hdone\n",
            "\u001b[2K   \u001b[90m━━━━━━━━━━━━━━━━━━━━━━━━━━━━━━━━━━━━━━━━\u001b[0m \u001b[32m198.6/198.6 kB\u001b[0m \u001b[31m3.3 MB/s\u001b[0m eta \u001b[36m0:00:00\u001b[0m\n",
            "\u001b[?25h  Building wheel for pyspark (setup.py) ... \u001b[?25l\u001b[?25hdone\n",
            "\u001b[31mERROR: pip's dependency resolver does not currently take into account all the packages that are installed. This behaviour is the source of the following dependency conflicts.\n",
            "google-spark-connect 0.5.2 requires pyspark>=3.5, but you have pyspark 3.1.2 which is incompatible.\u001b[0m\u001b[31m\n",
            "\u001b[0m"
          ]
        }
      ],
      "source": [
        "!pip install pyspark==3.1.2 -q\n",
        "!pip install findspark -q"
      ],
      "execution_count": null
    },
    {
      "cell_type": "markdown",
      "source": [
        "## Imports"
      ],
      "metadata": {
        "id": "NgHZZEOw--5B"
      }
    },
    {
      "cell_type": "code",
      "source": [
        "import kagglehub\n",
        "import findspark\n",
        "from pyspark.sql import SparkSession\n",
        "from pyspark.ml.feature import VectorAssembler\n",
        "from pyspark.sql.functions import col, sum, when, udf\n",
        "from pyspark.sql.types import IntegerType\n",
        "from pyspark.sql import functions as F\n",
        "from pyspark.sql.functions import lit, to_date, datediff, current_date, expr\n",
        "from pyspark.sql.functions import explode\n",
        "from datetime import datetime\n",
        "from pyspark.ml.feature import StandardScaler\n",
        "from pyspark.ml.feature import StringIndexer\n",
        "from pyspark.ml.regression import LinearRegression\n",
        "from pyspark.ml.evaluation import RegressionEvaluator\n",
        "from pyspark.ml import Pipeline\n",
        "from pyspark.ml.evaluation import MulticlassClassificationEvaluator\n",
        "from pyspark.ml.pipeline import PipelineModel\n",
        "import warnings"
      ],
      "metadata": {
        "id": "2NtP4Wts-KL2"
      },
      "execution_count": 145,
      "outputs": []
    },
    {
      "cell_type": "markdown",
      "source": [
        "## Utilities"
      ],
      "metadata": {
        "id": "_HGVyTga_JJS"
      }
    },
    {
      "cell_type": "code",
      "metadata": {
        "id": "427c19ff-b977-4b7e-b595-a2186e26b89b"
      },
      "outputs": [],
      "source": [
        "def warn(*args, **kwargs):\n",
        "    pass\n",
        "findspark.init()\n",
        "\n",
        "warnings.warn = warn\n",
        "warnings.filterwarnings('ignore')"
      ],
      "execution_count": 95
    },
    {
      "cell_type": "markdown",
      "source": [
        "## Session Initialization"
      ],
      "metadata": {
        "id": "jgCdqBvRGOP7"
      }
    },
    {
      "cell_type": "code",
      "metadata": {
        "id": "8f16a243-5918-45c9-ba56-eb703a274d7d"
      },
      "outputs": [],
      "source": [
        "spark = SparkSession.builder.appName(\"PySpark_App\").getOrCreate()"
      ],
      "execution_count": 96
    },
    {
      "cell_type": "markdown",
      "metadata": {
        "id": "28e3ac3d-9490-40db-a68a-9b2d65911995"
      },
      "source": [
        "## Download the data file and Load the dataset\n"
      ]
    },
    {
      "cell_type": "code",
      "source": [
        "path = kagglehub.dataset_download(\"rhuebner/human-resources-data-set\")\n",
        "print(\"Path to dataset files:\", path)"
      ],
      "metadata": {
        "colab": {
          "base_uri": "https://localhost:8080/"
        },
        "id": "Gbjd6lOq-CHt",
        "outputId": "be21db99-03b1-4ea7-a9d4-71deb35e733f"
      },
      "execution_count": 97,
      "outputs": [
        {
          "output_type": "stream",
          "name": "stdout",
          "text": [
            "Path to dataset files: /root/.cache/kagglehub/datasets/rhuebner/human-resources-data-set/versions/4\n"
          ]
        }
      ]
    },
    {
      "cell_type": "code",
      "metadata": {
        "id": "76995ce9-a0f0-479f-8b8e-69f2244e9962"
      },
      "outputs": [],
      "source": [
        "hr_data = spark.read.csv(path, header=True, inferSchema=True) # Load CSV\n",
        "\n",
        "#df = spark.read.parquet(\"path_to_file.parquet\") # Load parquet\n",
        "#df = spark.read.json(\"path_to_file.json\") # Load JSON"
      ],
      "execution_count": 98
    },
    {
      "cell_type": "markdown",
      "metadata": {
        "id": "f05edb75-c6f0-4f3c-9a74-06b630863a94"
      },
      "source": [
        "## Data Exploration"
      ]
    },
    {
      "cell_type": "code",
      "metadata": {
        "colab": {
          "base_uri": "https://localhost:8080/"
        },
        "id": "5d514d19-d11b-4532-8ac8-41b7c2fd92a9",
        "outputId": "77f91218-a97b-4f91-b57b-ca3e214d3b98"
      },
      "outputs": [
        {
          "output_type": "stream",
          "name": "stdout",
          "text": [
            "root\n",
            " |-- Employee_Name: string (nullable = true)\n",
            " |-- EmpID: integer (nullable = true)\n",
            " |-- MarriedID: integer (nullable = true)\n",
            " |-- MaritalStatusID: integer (nullable = true)\n",
            " |-- GenderID: integer (nullable = true)\n",
            " |-- EmpStatusID: integer (nullable = true)\n",
            " |-- DeptID: integer (nullable = true)\n",
            " |-- PerfScoreID: integer (nullable = true)\n",
            " |-- FromDiversityJobFairID: integer (nullable = true)\n",
            " |-- Salary: integer (nullable = true)\n",
            " |-- Termd: integer (nullable = true)\n",
            " |-- PositionID: integer (nullable = true)\n",
            " |-- Position: string (nullable = true)\n",
            " |-- State: string (nullable = true)\n",
            " |-- Zip: integer (nullable = true)\n",
            " |-- DOB: string (nullable = true)\n",
            " |-- Sex: string (nullable = true)\n",
            " |-- MaritalDesc: string (nullable = true)\n",
            " |-- CitizenDesc: string (nullable = true)\n",
            " |-- HispanicLatino: string (nullable = true)\n",
            " |-- RaceDesc: string (nullable = true)\n",
            " |-- DateofHire: string (nullable = true)\n",
            " |-- DateofTermination: string (nullable = true)\n",
            " |-- TermReason: string (nullable = true)\n",
            " |-- EmploymentStatus: string (nullable = true)\n",
            " |-- Department: string (nullable = true)\n",
            " |-- ManagerName: string (nullable = true)\n",
            " |-- ManagerID: integer (nullable = true)\n",
            " |-- RecruitmentSource: string (nullable = true)\n",
            " |-- PerformanceScore: string (nullable = true)\n",
            " |-- EngagementSurvey: double (nullable = true)\n",
            " |-- EmpSatisfaction: integer (nullable = true)\n",
            " |-- SpecialProjectsCount: integer (nullable = true)\n",
            " |-- LastPerformanceReview_Date: string (nullable = true)\n",
            " |-- DaysLateLast30: integer (nullable = true)\n",
            " |-- Absences: integer (nullable = true)\n",
            "\n"
          ]
        }
      ],
      "source": [
        "hr_data.printSchema()\n",
        "# hr_data.dtypes # To display column data types"
      ],
      "execution_count": 99
    },
    {
      "cell_type": "code",
      "metadata": {
        "colab": {
          "base_uri": "https://localhost:8080/"
        },
        "id": "c934dd68-027b-4957-821e-8dcd7cc90880",
        "outputId": "cedef873-3d14-49c1-cee8-90cce464749c"
      },
      "outputs": [
        {
          "output_type": "stream",
          "name": "stdout",
          "text": [
            "+------------------------+-----+---------+---------------+--------+-----------+------+-----------+----------------------+------+-----+----------+------------------------+-----+----+--------+---+-----------+-----------+--------------+--------+----------+-----------------+-----------------+----------------------+-----------------+--------------+---------+-----------------+----------------+----------------+---------------+--------------------+--------------------------+--------------+--------+\n",
            "|Employee_Name           |EmpID|MarriedID|MaritalStatusID|GenderID|EmpStatusID|DeptID|PerfScoreID|FromDiversityJobFairID|Salary|Termd|PositionID|Position                |State|Zip |DOB     |Sex|MaritalDesc|CitizenDesc|HispanicLatino|RaceDesc|DateofHire|DateofTermination|TermReason       |EmploymentStatus      |Department       |ManagerName   |ManagerID|RecruitmentSource|PerformanceScore|EngagementSurvey|EmpSatisfaction|SpecialProjectsCount|LastPerformanceReview_Date|DaysLateLast30|Absences|\n",
            "+------------------------+-----+---------+---------------+--------+-----------+------+-----------+----------------------+------+-----+----------+------------------------+-----+----+--------+---+-----------+-----------+--------------+--------+----------+-----------------+-----------------+----------------------+-----------------+--------------+---------+-----------------+----------------+----------------+---------------+--------------------+--------------------------+--------------+--------+\n",
            "|Adinolfi, Wilson  K     |10026|0        |0              |1       |1          |5     |4          |0                     |62506 |0    |19        |Production Technician I |MA   |1960|07/10/83|M  |Single     |US Citizen |No            |White   |7/5/2011  |null             |N/A-StillEmployed|Active                |Production       |Michael Albert|22       |LinkedIn         |Exceeds         |4.6             |5              |0                   |1/17/2019                 |0             |1       |\n",
            "|Ait Sidi, Karthikeyan   |10084|1        |1              |1       |5          |3     |3          |0                     |104437|1    |27        |Sr. DBA                 |MA   |2148|05/05/75|M  |Married    |US Citizen |No            |White   |3/30/2015 |6/16/2016        |career change    |Voluntarily Terminated|IT/IS            |Simon Roup    |4        |Indeed           |Fully Meets     |4.96            |3              |6                   |2/24/2016                 |0             |17      |\n",
            "|Akinkuolie, Sarah       |10196|1        |1              |0       |5          |5     |3          |0                     |64955 |1    |20        |Production Technician II|MA   |1810|09/19/88|F  |Married    |US Citizen |No            |White   |7/5/2011  |9/24/2012        |hours            |Voluntarily Terminated|Production       |Kissy Sullivan|20       |LinkedIn         |Fully Meets     |3.02            |3              |0                   |5/15/2012                 |0             |3       |\n",
            "+------------------------+-----+---------+---------------+--------+-----------+------+-----------+----------------------+------+-----+----------+------------------------+-----+----+--------+---+-----------+-----------+--------------+--------+----------+-----------------+-----------------+----------------------+-----------------+--------------+---------+-----------------+----------------+----------------+---------------+--------------------+--------------------------+--------------+--------+\n",
            "only showing top 3 rows\n",
            "\n"
          ]
        }
      ],
      "source": [
        "hr_data.show(3, truncate=False)"
      ],
      "execution_count": 100
    },
    {
      "cell_type": "code",
      "source": [
        "print(f\"Rows: {hr_data.count()}, Columns: {len(hr_data.columns)})\")"
      ],
      "metadata": {
        "colab": {
          "base_uri": "https://localhost:8080/"
        },
        "id": "wgk8pdLdENbA",
        "outputId": "7fc5e19f-ec37-4ecf-a7d7-c49fc655511c"
      },
      "execution_count": 101,
      "outputs": [
        {
          "output_type": "stream",
          "name": "stdout",
          "text": [
            "Rows: 311, Columns: 36)\n"
          ]
        }
      ]
    },
    {
      "cell_type": "code",
      "source": [
        "# Check for duplicate rows\n",
        "total_rows = hr_data.count()\n",
        "distinct_rows = hr_data.distinct().count()\n",
        "duplicates_count = total_rows - distinct_rows\n",
        "\n",
        "print(f\"Number of duplicate rows: {duplicates_count}\")"
      ],
      "metadata": {
        "colab": {
          "base_uri": "https://localhost:8080/"
        },
        "id": "ZSBoKppcDcpQ",
        "outputId": "d2dd6f07-c38f-4041-f571-82772e3264f3"
      },
      "execution_count": 102,
      "outputs": [
        {
          "output_type": "stream",
          "name": "stdout",
          "text": [
            "Number of duplicate rows: 0\n"
          ]
        }
      ]
    },
    {
      "cell_type": "code",
      "source": [
        "hr_data.dropDuplicates() # Drop duplicate rows, if any"
      ],
      "metadata": {
        "colab": {
          "base_uri": "https://localhost:8080/"
        },
        "id": "KJxABMJTHWgI",
        "outputId": "a0655708-3577-4b2b-a750-587d7715b2d5"
      },
      "execution_count": 103,
      "outputs": [
        {
          "output_type": "execute_result",
          "data": {
            "text/plain": [
              "DataFrame[Employee_Name: string, EmpID: int, MarriedID: int, MaritalStatusID: int, GenderID: int, EmpStatusID: int, DeptID: int, PerfScoreID: int, FromDiversityJobFairID: int, Salary: int, Termd: int, PositionID: int, Position: string, State: string, Zip: int, DOB: string, Sex: string, MaritalDesc: string, CitizenDesc: string, HispanicLatino: string, RaceDesc: string, DateofHire: string, DateofTermination: string, TermReason: string, EmploymentStatus: string, Department: string, ManagerName: string, ManagerID: int, RecruitmentSource: string, PerformanceScore: string, EngagementSurvey: double, EmpSatisfaction: int, SpecialProjectsCount: int, LastPerformanceReview_Date: string, DaysLateLast30: int, Absences: int]"
            ]
          },
          "metadata": {},
          "execution_count": 103
        }
      ]
    },
    {
      "cell_type": "code",
      "source": [
        "# Check for null values\n",
        "null_counts = hr_data.select([sum(col(c).isNull().cast(\"int\")).alias(c) for c in hr_data.columns])\n",
        "null_counts.show()"
      ],
      "metadata": {
        "colab": {
          "base_uri": "https://localhost:8080/"
        },
        "id": "OmRSb6ZAGCcI",
        "outputId": "f1059b3c-6390-4d90-cc89-ef60723df1ef"
      },
      "execution_count": 104,
      "outputs": [
        {
          "output_type": "stream",
          "name": "stdout",
          "text": [
            "+-------------+-----+---------+---------------+--------+-----------+------+-----------+----------------------+------+-----+----------+--------+-----+---+---+---+-----------+-----------+--------------+--------+----------+-----------------+----------+----------------+----------+-----------+---------+-----------------+----------------+----------------+---------------+--------------------+--------------------------+--------------+--------+\n",
            "|Employee_Name|EmpID|MarriedID|MaritalStatusID|GenderID|EmpStatusID|DeptID|PerfScoreID|FromDiversityJobFairID|Salary|Termd|PositionID|Position|State|Zip|DOB|Sex|MaritalDesc|CitizenDesc|HispanicLatino|RaceDesc|DateofHire|DateofTermination|TermReason|EmploymentStatus|Department|ManagerName|ManagerID|RecruitmentSource|PerformanceScore|EngagementSurvey|EmpSatisfaction|SpecialProjectsCount|LastPerformanceReview_Date|DaysLateLast30|Absences|\n",
            "+-------------+-----+---------+---------------+--------+-----------+------+-----------+----------------------+------+-----+----------+--------+-----+---+---+---+-----------+-----------+--------------+--------+----------+-----------------+----------+----------------+----------+-----------+---------+-----------------+----------------+----------------+---------------+--------------------+--------------------------+--------------+--------+\n",
            "|            0|    0|        0|              0|       0|          0|     0|          0|                     0|     0|    0|         0|       0|    0|  0|  0|  0|          0|          0|             0|       0|         0|              207|         0|               0|         0|          0|        8|                0|               0|               0|              0|                   0|                         0|             0|       0|\n",
            "+-------------+-----+---------+---------------+--------+-----------+------+-----------+----------------------+------+-----+----------+--------+-----+---+---+---+-----------+-----------+--------------+--------+----------+-----------------+----------+----------------+----------+-----------+---------+-----------------+----------------+----------------+---------------+--------------------+--------------------------+--------------+--------+\n",
            "\n"
          ]
        }
      ]
    },
    {
      "cell_type": "code",
      "source": [
        "# Drop rows with null values\n",
        "hr_data_cleaned = hr_data.dropna()\n",
        "\n",
        "# Impute missing values (for a specific column)\n",
        "# hr_data_cleaned.fillna({\"DateofTermination\": 0})"
      ],
      "metadata": {
        "id": "FP6CPfd8GwXb"
      },
      "execution_count": 105,
      "outputs": []
    },
    {
      "cell_type": "code",
      "source": [
        "null_counts = hr_data_cleaned.select([sum(col(c).isNull().cast(\"int\")).alias(c) for c in hr_data.columns])\n",
        "null_counts.show()"
      ],
      "metadata": {
        "colab": {
          "base_uri": "https://localhost:8080/"
        },
        "id": "U-U6yz1zGx7S",
        "outputId": "29322fd8-57e8-4920-8a42-b5ca5eb052d7"
      },
      "execution_count": 106,
      "outputs": [
        {
          "output_type": "stream",
          "name": "stdout",
          "text": [
            "+-------------+-----+---------+---------------+--------+-----------+------+-----------+----------------------+------+-----+----------+--------+-----+---+---+---+-----------+-----------+--------------+--------+----------+-----------------+----------+----------------+----------+-----------+---------+-----------------+----------------+----------------+---------------+--------------------+--------------------------+--------------+--------+\n",
            "|Employee_Name|EmpID|MarriedID|MaritalStatusID|GenderID|EmpStatusID|DeptID|PerfScoreID|FromDiversityJobFairID|Salary|Termd|PositionID|Position|State|Zip|DOB|Sex|MaritalDesc|CitizenDesc|HispanicLatino|RaceDesc|DateofHire|DateofTermination|TermReason|EmploymentStatus|Department|ManagerName|ManagerID|RecruitmentSource|PerformanceScore|EngagementSurvey|EmpSatisfaction|SpecialProjectsCount|LastPerformanceReview_Date|DaysLateLast30|Absences|\n",
            "+-------------+-----+---------+---------------+--------+-----------+------+-----------+----------------------+------+-----+----------+--------+-----+---+---+---+-----------+-----------+--------------+--------+----------+-----------------+----------+----------------+----------+-----------+---------+-----------------+----------------+----------------+---------------+--------------------+--------------------------+--------------+--------+\n",
            "|            0|    0|        0|              0|       0|          0|     0|          0|                     0|     0|    0|         0|       0|    0|  0|  0|  0|          0|          0|             0|       0|         0|                0|         0|               0|         0|          0|        0|                0|               0|               0|              0|                   0|                         0|             0|       0|\n",
            "+-------------+-----+---------+---------------+--------+-----------+------+-----------+----------------------+------+-----+----------+--------+-----+---+---+---+-----------+-----------+--------------+--------+----------+-----------------+----------+----------------+----------+-----------+---------+-----------------+----------------+----------------+---------------+--------------------+--------------------------+--------------+--------+\n",
            "\n"
          ]
        }
      ]
    },
    {
      "cell_type": "markdown",
      "source": [
        "## Transformation"
      ],
      "metadata": {
        "id": "XGG1B7ylILSE"
      }
    },
    {
      "cell_type": "code",
      "source": [
        "# Add a new column with a constant value using lit (literal) function\n",
        "hr_data_cleaned = hr_data_cleaned.withColumn(\"PermanentEmployee\", lit(\"yes\"))\n",
        "hr_data_cleaned.show(3)"
      ],
      "metadata": {
        "colab": {
          "base_uri": "https://localhost:8080/"
        },
        "id": "INC0gLHMIYN2",
        "outputId": "4ef98f02-2b74-4c28-afbc-1aee5fa43ba3"
      },
      "execution_count": 107,
      "outputs": [
        {
          "output_type": "stream",
          "name": "stdout",
          "text": [
            "+--------------------+-----+---------+---------------+--------+-----------+------+-----------+----------------------+------+-----+----------+--------------------+-----+----+--------+---+-----------+-----------+--------------+--------+----------+-----------------+----------------+--------------------+-----------------+--------------+---------+-----------------+----------------+----------------+---------------+--------------------+--------------------------+--------------+--------+-----------------+\n",
            "|       Employee_Name|EmpID|MarriedID|MaritalStatusID|GenderID|EmpStatusID|DeptID|PerfScoreID|FromDiversityJobFairID|Salary|Termd|PositionID|            Position|State| Zip|     DOB|Sex|MaritalDesc|CitizenDesc|HispanicLatino|RaceDesc|DateofHire|DateofTermination|      TermReason|    EmploymentStatus|       Department|   ManagerName|ManagerID|RecruitmentSource|PerformanceScore|EngagementSurvey|EmpSatisfaction|SpecialProjectsCount|LastPerformanceReview_Date|DaysLateLast30|Absences|PermanentEmployee|\n",
            "+--------------------+-----+---------+---------------+--------+-----------+------+-----------+----------------------+------+-----+----------+--------------------+-----+----+--------+---+-----------+-----------+--------------+--------+----------+-----------------+----------------+--------------------+-----------------+--------------+---------+-----------------+----------------+----------------+---------------+--------------------+--------------------------+--------------+--------+-----------------+\n",
            "|Ait Sidi, Karthik...|10084|        1|              1|       1|          5|     3|          3|                     0|104437|    1|        27|             Sr. DBA|   MA|2148|05/05/75| M |    Married| US Citizen|            No|   White| 3/30/2015|        6/16/2016|   career change|Voluntarily Termi...|            IT/IS|    Simon Roup|        4|           Indeed|     Fully Meets|            4.96|              3|                   6|                 2/24/2016|             0|      17|              yes|\n",
            "|   Akinkuolie, Sarah|10196|        1|              1|       0|          5|     5|          3|                     0| 64955|    1|        20|Production Techni...|   MA|1810|09/19/88|  F|    Married| US Citizen|            No|   White|  7/5/2011|        9/24/2012|           hours|Voluntarily Termi...|Production       |Kissy Sullivan|       20|         LinkedIn|     Fully Meets|            3.02|              3|                   0|                 5/15/2012|             0|       3|              yes|\n",
            "|    Anderson, Carol |10069|        0|              2|       0|          5|     5|          3|                     0| 50825|    1|        19|Production Techni...|   MA|2169|09/08/89|  F|   Divorced| US Citizen|            No|   White| 7/11/2011|         9/6/2016|return to school|Voluntarily Termi...|Production       |Webster Butler|       39|    Google Search|     Fully Meets|             5.0|              4|                   0|                  2/1/2016|             0|       2|              yes|\n",
            "+--------------------+-----+---------+---------------+--------+-----------+------+-----------+----------------------+------+-----+----------+--------------------+-----+----+--------+---+-----------+-----------+--------------+--------+----------+-----------------+----------------+--------------------+-----------------+--------------+---------+-----------------+----------------+----------------+---------------+--------------------+--------------------------+--------------+--------+-----------------+\n",
            "only showing top 3 rows\n",
            "\n"
          ]
        }
      ]
    },
    {
      "cell_type": "code",
      "source": [
        "# Drop columns\n",
        "hr_data_cleaned = hr_data_cleaned.drop(\"EmpStatusID\",\"FromDiversityJobFairID\")\n",
        "hr_data_cleaned.show(3)"
      ],
      "metadata": {
        "colab": {
          "base_uri": "https://localhost:8080/"
        },
        "id": "8DYZyEOMpZh9",
        "outputId": "848989d6-35ff-419b-d7cf-827602761f1a"
      },
      "execution_count": 108,
      "outputs": [
        {
          "output_type": "stream",
          "name": "stdout",
          "text": [
            "+--------------------+-----+---------+---------------+--------+------+-----------+------+-----+----------+--------------------+-----+----+--------+---+-----------+-----------+--------------+--------+----------+-----------------+----------------+--------------------+-----------------+--------------+---------+-----------------+----------------+----------------+---------------+--------------------+--------------------------+--------------+--------+-----------------+\n",
            "|       Employee_Name|EmpID|MarriedID|MaritalStatusID|GenderID|DeptID|PerfScoreID|Salary|Termd|PositionID|            Position|State| Zip|     DOB|Sex|MaritalDesc|CitizenDesc|HispanicLatino|RaceDesc|DateofHire|DateofTermination|      TermReason|    EmploymentStatus|       Department|   ManagerName|ManagerID|RecruitmentSource|PerformanceScore|EngagementSurvey|EmpSatisfaction|SpecialProjectsCount|LastPerformanceReview_Date|DaysLateLast30|Absences|PermanentEmployee|\n",
            "+--------------------+-----+---------+---------------+--------+------+-----------+------+-----+----------+--------------------+-----+----+--------+---+-----------+-----------+--------------+--------+----------+-----------------+----------------+--------------------+-----------------+--------------+---------+-----------------+----------------+----------------+---------------+--------------------+--------------------------+--------------+--------+-----------------+\n",
            "|Ait Sidi, Karthik...|10084|        1|              1|       1|     3|          3|104437|    1|        27|             Sr. DBA|   MA|2148|05/05/75| M |    Married| US Citizen|            No|   White| 3/30/2015|        6/16/2016|   career change|Voluntarily Termi...|            IT/IS|    Simon Roup|        4|           Indeed|     Fully Meets|            4.96|              3|                   6|                 2/24/2016|             0|      17|              yes|\n",
            "|   Akinkuolie, Sarah|10196|        1|              1|       0|     5|          3| 64955|    1|        20|Production Techni...|   MA|1810|09/19/88|  F|    Married| US Citizen|            No|   White|  7/5/2011|        9/24/2012|           hours|Voluntarily Termi...|Production       |Kissy Sullivan|       20|         LinkedIn|     Fully Meets|            3.02|              3|                   0|                 5/15/2012|             0|       3|              yes|\n",
            "|    Anderson, Carol |10069|        0|              2|       0|     5|          3| 50825|    1|        19|Production Techni...|   MA|2169|09/08/89|  F|   Divorced| US Citizen|            No|   White| 7/11/2011|         9/6/2016|return to school|Voluntarily Termi...|Production       |Webster Butler|       39|    Google Search|     Fully Meets|             5.0|              4|                   0|                  2/1/2016|             0|       2|              yes|\n",
            "+--------------------+-----+---------+---------------+--------+------+-----------+------+-----+----------+--------------------+-----+----+--------+---+-----------+-----------+--------------+--------+----------+-----------------+----------------+--------------------+-----------------+--------------+---------+-----------------+----------------+----------------+---------------+--------------------+--------------------------+--------------+--------+-----------------+\n",
            "only showing top 3 rows\n",
            "\n"
          ]
        }
      ]
    },
    {
      "cell_type": "code",
      "source": [
        "# Rename a column\n",
        "hr_data_cleaned = hr_data_cleaned.withColumnRenamed(\"EmpID\", \"EmpNo\")\n",
        "hr_data_cleaned.show(3)"
      ],
      "metadata": {
        "colab": {
          "base_uri": "https://localhost:8080/"
        },
        "id": "dkB29MsNqhPg",
        "outputId": "1c8f0caf-7568-43b3-d61d-77bd907e469c"
      },
      "execution_count": 109,
      "outputs": [
        {
          "output_type": "stream",
          "name": "stdout",
          "text": [
            "+--------------------+-----+---------+---------------+--------+------+-----------+------+-----+----------+--------------------+-----+----+--------+---+-----------+-----------+--------------+--------+----------+-----------------+----------------+--------------------+-----------------+--------------+---------+-----------------+----------------+----------------+---------------+--------------------+--------------------------+--------------+--------+-----------------+\n",
            "|       Employee_Name|EmpNo|MarriedID|MaritalStatusID|GenderID|DeptID|PerfScoreID|Salary|Termd|PositionID|            Position|State| Zip|     DOB|Sex|MaritalDesc|CitizenDesc|HispanicLatino|RaceDesc|DateofHire|DateofTermination|      TermReason|    EmploymentStatus|       Department|   ManagerName|ManagerID|RecruitmentSource|PerformanceScore|EngagementSurvey|EmpSatisfaction|SpecialProjectsCount|LastPerformanceReview_Date|DaysLateLast30|Absences|PermanentEmployee|\n",
            "+--------------------+-----+---------+---------------+--------+------+-----------+------+-----+----------+--------------------+-----+----+--------+---+-----------+-----------+--------------+--------+----------+-----------------+----------------+--------------------+-----------------+--------------+---------+-----------------+----------------+----------------+---------------+--------------------+--------------------------+--------------+--------+-----------------+\n",
            "|Ait Sidi, Karthik...|10084|        1|              1|       1|     3|          3|104437|    1|        27|             Sr. DBA|   MA|2148|05/05/75| M |    Married| US Citizen|            No|   White| 3/30/2015|        6/16/2016|   career change|Voluntarily Termi...|            IT/IS|    Simon Roup|        4|           Indeed|     Fully Meets|            4.96|              3|                   6|                 2/24/2016|             0|      17|              yes|\n",
            "|   Akinkuolie, Sarah|10196|        1|              1|       0|     5|          3| 64955|    1|        20|Production Techni...|   MA|1810|09/19/88|  F|    Married| US Citizen|            No|   White|  7/5/2011|        9/24/2012|           hours|Voluntarily Termi...|Production       |Kissy Sullivan|       20|         LinkedIn|     Fully Meets|            3.02|              3|                   0|                 5/15/2012|             0|       3|              yes|\n",
            "|    Anderson, Carol |10069|        0|              2|       0|     5|          3| 50825|    1|        19|Production Techni...|   MA|2169|09/08/89|  F|   Divorced| US Citizen|            No|   White| 7/11/2011|         9/6/2016|return to school|Voluntarily Termi...|Production       |Webster Butler|       39|    Google Search|     Fully Meets|             5.0|              4|                   0|                  2/1/2016|             0|       2|              yes|\n",
            "+--------------------+-----+---------+---------------+--------+------+-----------+------+-----+----------+--------------------+-----+----+--------+---+-----------+-----------+--------------+--------+----------+-----------------+----------------+--------------------+-----------------+--------------+---------+-----------------+----------------+----------------+---------------+--------------------+--------------------------+--------------+--------+-----------------+\n",
            "only showing top 3 rows\n",
            "\n"
          ]
        }
      ]
    },
    {
      "cell_type": "markdown",
      "source": [
        "## Exploratory Data Analysis"
      ],
      "metadata": {
        "id": "YjagyGVKHN7I"
      }
    },
    {
      "cell_type": "code",
      "source": [
        "# Select specific columns for analysis\n",
        "cols = [\"MaritalStatusID\",\"GenderID\", \"DeptID\", \"PerfScoreID\", \"Termd\", \"PositionID\", \"ManagerID\"]\n",
        "\n",
        "hr_num = hr_data_cleaned.select(cols)"
      ],
      "metadata": {
        "id": "XtaaFmCwHPJW"
      },
      "execution_count": 119,
      "outputs": []
    },
    {
      "cell_type": "code",
      "source": [
        "# Show summary statistics\n",
        "hr_num.select(cols).describe().show()"
      ],
      "metadata": {
        "colab": {
          "base_uri": "https://localhost:8080/"
        },
        "id": "2_7m-9vVJ_lo",
        "outputId": "81bbb99a-ff10-4b70-e874-bcd7470cedc7"
      },
      "execution_count": 120,
      "outputs": [
        {
          "output_type": "stream",
          "name": "stdout",
          "text": [
            "+-------+------------------+------------------+------------------+------------------+-----+------------------+------------------+\n",
            "|summary|   MaritalStatusID|          GenderID|            DeptID|       PerfScoreID|Termd|        PositionID|         ManagerID|\n",
            "+-------+------------------+------------------+------------------+------------------+-----+------------------+------------------+\n",
            "|  count|               104|               104|               104|               104|  104|               104|               104|\n",
            "|   mean|0.9423076923076923|0.4230769230769231| 4.711538461538462|2.9038461538461537|  1.0|18.134615384615383|16.903846153846153|\n",
            "| stddev|0.9433149879770784|0.4964399022537007|0.9208805086045133|0.5663583340159615|  0.0| 4.975781525788927|10.380638466221276|\n",
            "|    min|                 0|                 0|                 1|                 1|    1|                 2|                 1|\n",
            "|    max|                 4|                 1|                 6|                 4|    1|                30|                39|\n",
            "+-------+------------------+------------------+------------------+------------------+-----+------------------+------------------+\n",
            "\n"
          ]
        }
      ]
    },
    {
      "cell_type": "code",
      "source": [
        "# Show unique values in a specific column\n",
        "unique_PerformanceScore = hr_data_cleaned.select([\"PerformanceScore\", \"GenderID\"]).distinct()\n",
        "unique_PerformanceScore.show()"
      ],
      "metadata": {
        "colab": {
          "base_uri": "https://localhost:8080/"
        },
        "id": "AEjCEs-jKvwX",
        "outputId": "ea8a1db1-1474-4c8c-e60e-6d67b64e9343"
      },
      "execution_count": 121,
      "outputs": [
        {
          "output_type": "stream",
          "name": "stdout",
          "text": [
            "+-----------------+--------+\n",
            "| PerformanceScore|GenderID|\n",
            "+-----------------+--------+\n",
            "|              PIP|       1|\n",
            "|      Fully Meets|       0|\n",
            "|      Fully Meets|       1|\n",
            "|          Exceeds|       1|\n",
            "|          Exceeds|       0|\n",
            "|              PIP|       0|\n",
            "|Needs Improvement|       1|\n",
            "|Needs Improvement|       0|\n",
            "+-----------------+--------+\n",
            "\n"
          ]
        }
      ]
    },
    {
      "cell_type": "code",
      "source": [
        "unique_Last = hr_data_cleaned.select([\"DaysLateLast30\"]).distinct().show()"
      ],
      "metadata": {
        "colab": {
          "base_uri": "https://localhost:8080/"
        },
        "id": "rOpoQJb0XICC",
        "outputId": "01dddc74-d35e-42cc-e096-7b93a85531c3"
      },
      "execution_count": 122,
      "outputs": [
        {
          "output_type": "stream",
          "name": "stdout",
          "text": [
            "+--------------+\n",
            "|DaysLateLast30|\n",
            "+--------------+\n",
            "|             1|\n",
            "|             6|\n",
            "|             3|\n",
            "|             5|\n",
            "|             4|\n",
            "|             0|\n",
            "+--------------+\n",
            "\n"
          ]
        }
      ]
    },
    {
      "cell_type": "code",
      "source": [
        "# Filer data by genderID and show count\n",
        "gen_0 = hr_data_cleaned.filter(hr_data_cleaned.GenderID == 0)\n",
        "gen_1 = hr_data_cleaned.filter(hr_data_cleaned.GenderID == 1)\n",
        "\n",
        "print(f\"Count of genderID=0: {gen_0.count()},: Count of genderID=1: {gen_1.count()}\")"
      ],
      "metadata": {
        "colab": {
          "base_uri": "https://localhost:8080/"
        },
        "id": "QeBsNr9WIaNH",
        "outputId": "c2957a76-0780-4997-9519-d97e366b4088"
      },
      "execution_count": 123,
      "outputs": [
        {
          "output_type": "stream",
          "name": "stdout",
          "text": [
            "Count of genderID=0: 60,: Count of genderID=1: 44\n"
          ]
        }
      ]
    },
    {
      "cell_type": "code",
      "source": [
        "# Filter data by colummn\n",
        "top_performer_data = hr_data_cleaned.filter(hr_data_cleaned.PerformanceScore == \"Exceeds\")\n",
        "absence_data = hr_data_cleaned.filter(hr_data_cleaned.Absences > 19)"
      ],
      "metadata": {
        "id": "gw6QJgqwI2VP"
      },
      "execution_count": 124,
      "outputs": []
    },
    {
      "cell_type": "code",
      "source": [
        "top_performer_data.show(3)"
      ],
      "metadata": {
        "colab": {
          "base_uri": "https://localhost:8080/"
        },
        "id": "B_c6DrrsMffX",
        "outputId": "57ea6f17-8a0d-4185-e8b8-6f6a88a88d14"
      },
      "execution_count": 125,
      "outputs": [
        {
          "output_type": "stream",
          "name": "stdout",
          "text": [
            "+----------------+-----+---------+---------------+--------+------+-----------+------+-----+----------+--------------------+-----+----+--------+---+-----------+-----------+--------------+--------------------+----------+-----------------+----------------+--------------------+--------------------+---------------+---------+------------------+----------------+----------------+---------------+--------------------+--------------------------+--------------+--------+-----------------+\n",
            "|   Employee_Name|EmpNo|MarriedID|MaritalStatusID|GenderID|DeptID|PerfScoreID|Salary|Termd|PositionID|            Position|State| Zip|     DOB|Sex|MaritalDesc|CitizenDesc|HispanicLatino|            RaceDesc|DateofHire|DateofTermination|      TermReason|    EmploymentStatus|          Department|    ManagerName|ManagerID| RecruitmentSource|PerformanceScore|EngagementSurvey|EmpSatisfaction|SpecialProjectsCount|LastPerformanceReview_Date|DaysLateLast30|Absences|PermanentEmployee|\n",
            "+----------------+-----+---------+---------------+--------+------+-----------+------+-----+----------+--------------------+-----+----+--------+---+-----------+-----------+--------------+--------------------+----------+-----------------+----------------+--------------------+--------------------+---------------+---------+------------------+----------------+----------------+---------------+--------------------+--------------------------+--------------+--------+-----------------+\n",
            "| Johnson, George|10034|        1|              1|       1|     5|          4| 46837|    1|        19|Production Techni...|   MA|2445|08/19/59| M |    Married| US Citizen|            No|               White| 11/7/2011|        4/29/2018|      more money|Voluntarily Termi...|   Production       | Michael Albert|       22|     CareerBuilder|         Exceeds|             4.7|              4|                   0|                 2/14/2018|             0|       9|              yes|\n",
            "|  Lynch, Lindsay|10004|        0|              0|       0|     5|          4| 47434|    1|        19|Production Techni...|   MA|1844|02/14/73|  F|     Single| US Citizen|           Yes|Black or African ...| 11/7/2011|       11/14/2015|Another position|Voluntarily Termi...|   Production       | Webster Butler|       39|Diversity Job Fair|         Exceeds|             5.0|              4|                   0|                  2/2/2015|             0|      17|              yes|\n",
            "|Patronick, Lucas|10005|        0|              0|       1|     4|          4|108987|    1|        24|   Software Engineer|   MA|1844|02/20/79| M |     Single| US Citizen|            No|Black or African ...| 11/7/2011|         9/7/2015|Another position|Voluntarily Termi...|Software Engineering|Alex Sweetwater|       10|Diversity Job Fair|         Exceeds|             5.0|              5|                   3|                 8/16/2015|             0|      13|              yes|\n",
            "+----------------+-----+---------+---------------+--------+------+-----------+------+-----+----------+--------------------+-----+----+--------+---+-----------+-----------+--------------+--------------------+----------+-----------------+----------------+--------------------+--------------------+---------------+---------+------------------+----------------+----------------+---------------+--------------------+--------------------------+--------------+--------+-----------------+\n",
            "only showing top 3 rows\n",
            "\n"
          ]
        }
      ]
    },
    {
      "cell_type": "code",
      "source": [
        "absence_data.show(3)"
      ],
      "metadata": {
        "colab": {
          "base_uri": "https://localhost:8080/"
        },
        "id": "fU8z5XJrMb0f",
        "outputId": "7dde293a-2e78-4e75-c4d6-d2441d2caf0f"
      },
      "execution_count": 126,
      "outputs": [
        {
          "output_type": "stream",
          "name": "stdout",
          "text": [
            "+--------------------+-----+---------+---------------+--------+------+-----------+------+-----+----------+--------------------+-----+-----+--------+---+-----------+-----------+--------------+-----------------+----------+-----------------+--------------------+--------------------+-----------------+-------------+---------+-----------------+----------------+----------------+---------------+--------------------+--------------------------+--------------+--------+-----------------+\n",
            "|       Employee_Name|EmpNo|MarriedID|MaritalStatusID|GenderID|DeptID|PerfScoreID|Salary|Termd|PositionID|            Position|State|  Zip|     DOB|Sex|MaritalDesc|CitizenDesc|HispanicLatino|         RaceDesc|DateofHire|DateofTermination|          TermReason|    EmploymentStatus|       Department|  ManagerName|ManagerID|RecruitmentSource|PerformanceScore|EngagementSurvey|EmpSatisfaction|SpecialProjectsCount|LastPerformanceReview_Date|DaysLateLast30|Absences|PermanentEmployee|\n",
            "+--------------------+-----+---------+---------------+--------+------+-----------+------+-----+----------+--------------------+-----+-----+--------+---+-----------+-----------+--------------+-----------------+----------+-----------------+--------------------+--------------------+-----------------+-------------+---------+-----------------+----------------+----------------+---------------+--------------------+--------------------------+--------------+--------+-----------------+\n",
            "|       Bates, Norman|10061|        0|              0|       1|     5|          3| 57834|    1|        19|Production Techni...|   MA| 2050|10/18/81| M |     Single| US Citizen|            No|            White| 2/21/2011|         8/4/2017|          attendance|Terminated for Cause|Production       |Kelley Spirea|       18|    Google Search|     Fully Meets|             5.0|              4|                   0|                  4/5/2017|             0|      20|              yes|\n",
            "|Fitzpatrick, Mich...|10093|        0|              0|       1|     5|          3| 72609|    1|        20|Production Techni...|   MA| 2143|10/01/81| M |     Single| US Citizen|           Yes|            White| 5/16/2011|        6/24/2013|               hours|Voluntarily Termi...|Production       |     Amy Dunn|       11|    Google Search|     Fully Meets|            4.76|              5|                   0|                  4/5/2013|             0|      20|              yes|\n",
            "|     Guilianno, Mike|10109|        0|              0|       1|     6|          3| 71707|    1|         3|  Area Sales Manager|   TN|37129|02/09/69| M |     Single| US Citizen|            No|Two or more races|  3/7/2012|       10/31/2014|relocation out of...|Voluntarily Termi...|            Sales|   John Smith|       17|         LinkedIn|     Fully Meets|             4.5|              5|                   0|                  2/1/2013|             0|      20|              yes|\n",
            "+--------------------+-----+---------+---------------+--------+------+-----------+------+-----+----------+--------------------+-----+-----+--------+---+-----------+-----------+--------------+-----------------+----------+-----------------+--------------------+--------------------+-----------------+-------------+---------+-----------------+----------------+----------------+---------------+--------------------+--------------------------+--------------+--------+-----------------+\n",
            "only showing top 3 rows\n",
            "\n"
          ]
        }
      ]
    },
    {
      "cell_type": "markdown",
      "source": [
        "## Data Manipulation"
      ],
      "metadata": {
        "id": "DW3Om0m0OGUy"
      }
    },
    {
      "cell_type": "code",
      "source": [
        "# Increment of 10% in salaries of those with Exceees performance\n",
        "top_performer_data = hr_data_cleaned.withColumn(\n",
        "    \"Salary\", when(col(\"PerformanceScore\") == \"Exceeds\", col(\"Salary\") * 1.1).otherwise(col(\"Salary\")))"
      ],
      "metadata": {
        "id": "QKIN2jkPMqTE"
      },
      "execution_count": 127,
      "outputs": []
    },
    {
      "cell_type": "code",
      "source": [
        "# Deduction of 5% from salaries for those with absences more than 19\n",
        "absence_data = hr_data_cleaned.withColumn(\n",
        "    \"Salary\", when(col(\"Absences\") > 19, col(\"Salary\") * 1.1).otherwise(col(\"Salary\")))"
      ],
      "metadata": {
        "id": "UVgWhMugJdJJ"
      },
      "execution_count": 128,
      "outputs": []
    },
    {
      "cell_type": "code",
      "source": [
        "hr_data_cleaned = hr_data_cleaned.withColumn(\"DateofHire\", to_date(col(\"DateofHire\"), \"M/d/yyyy\"))\n",
        "\n",
        "hr_data_cleaned = hr_data_cleaned.withColumn(\"DateofTermination\", to_date(col(\"DateofTermination\"), \"M/d/yyyy\"))\n",
        "\n",
        "hr_data_cleaned = hr_data_cleaned.withColumn(\"Tenure\", (datediff(col(\"DateofTermination\"), col(\"DateofHire\")) / 365).cast(\"int\"))\n",
        "\n",
        "hr_data_cleaned.select(\"DateofHire\", \"DateofTermination\", \"Tenure\").show(3, False)"
      ],
      "metadata": {
        "colab": {
          "base_uri": "https://localhost:8080/"
        },
        "id": "SIz2IpUiPj14",
        "outputId": "381e02f2-a52b-460f-eae1-f3c46ef24748"
      },
      "execution_count": 129,
      "outputs": [
        {
          "output_type": "stream",
          "name": "stdout",
          "text": [
            "+----------+-----------------+------+\n",
            "|DateofHire|DateofTermination|Tenure|\n",
            "+----------+-----------------+------+\n",
            "|2015-03-30|2016-06-16       |1     |\n",
            "|2011-07-05|2012-09-24       |1     |\n",
            "|2011-07-11|2016-09-06       |5     |\n",
            "+----------+-----------------+------+\n",
            "only showing top 3 rows\n",
            "\n"
          ]
        }
      ]
    },
    {
      "cell_type": "markdown",
      "source": [
        "## Save the file"
      ],
      "metadata": {
        "id": "VOEe4JyTs2lY"
      }
    },
    {
      "cell_type": "code",
      "source": [
        "hr_data_cleaned.write.mode(\"overwrite\").csv(\"new_hr_data.csv\", header=True)\n",
        "# #If you do not wish to over write use df.write.csv(\"new_hr_data.csv\", header=True)"
      ],
      "metadata": {
        "id": "gZIbvF1rs4SK"
      },
      "execution_count": 130,
      "outputs": []
    },
    {
      "cell_type": "markdown",
      "source": [
        "## Aggregation & Grouping"
      ],
      "metadata": {
        "id": "Jl-pNbDiYs6i"
      }
    },
    {
      "cell_type": "code",
      "source": [
        "# Show average salary per department\n",
        "hr_data_cleaned.groupBy(\"DeptID\").agg({\"Salary\": \"avg\"}).show()"
      ],
      "metadata": {
        "colab": {
          "base_uri": "https://localhost:8080/"
        },
        "id": "YpS3ppLaYvat",
        "outputId": "9572dd12-a3d8-4515-c65b-c72013918c90"
      },
      "execution_count": 131,
      "outputs": [
        {
          "output_type": "stream",
          "name": "stdout",
          "text": [
            "+------+------------------+\n",
            "|DeptID|       avg(Salary)|\n",
            "+------+------------------+\n",
            "|     1|           62761.0|\n",
            "|     6|           68917.8|\n",
            "|     3|          107274.9|\n",
            "|     5| 59246.55421686747|\n",
            "|     4|102894.33333333333|\n",
            "+------+------------------+\n",
            "\n"
          ]
        }
      ]
    },
    {
      "cell_type": "code",
      "source": [
        "# Show min and max salaries per department\n",
        "hr_data_cleaned.groupBy(\"DeptID\").agg(\n",
        "    F.min(\"Salary\").alias(\"min(Salary)\"),\n",
        "    F.max(\"Salary\").alias(\"max(Salary)\")\n",
        ").show()"
      ],
      "metadata": {
        "colab": {
          "base_uri": "https://localhost:8080/"
        },
        "id": "zlSY3DnRZXH4",
        "outputId": "8d6f8103-1c9a-4747-cc5f-8914318b6012"
      },
      "execution_count": 132,
      "outputs": [
        {
          "output_type": "stream",
          "name": "stdout",
          "text": [
            "+------+-----------+-----------+\n",
            "|DeptID|min(Salary)|max(Salary)|\n",
            "+------+-----------+-----------+\n",
            "|     1|      49920|      83363|\n",
            "|     6|      59370|      74326|\n",
            "|     3|      75281|     148999|\n",
            "|     5|      45115|      83082|\n",
            "|     4|      99280|     108987|\n",
            "+------+-----------+-----------+\n",
            "\n"
          ]
        }
      ]
    },
    {
      "cell_type": "code",
      "source": [
        "# Show average salary and average Employee Satisfaction per department\n",
        "hr_data_cleaned.groupBy(\"DeptID\").agg({\"Salary\": \"avg\", \"EmpSatisfaction\": \"avg\"}).show()"
      ],
      "metadata": {
        "colab": {
          "base_uri": "https://localhost:8080/"
        },
        "id": "uwfSdNRsZoQs",
        "outputId": "659ec49d-7fee-4f40-8fec-7a5b134edf4f"
      },
      "execution_count": 133,
      "outputs": [
        {
          "output_type": "stream",
          "name": "stdout",
          "text": [
            "+------+------------------+--------------------+\n",
            "|DeptID|       avg(Salary)|avg(EmpSatisfaction)|\n",
            "+------+------------------+--------------------+\n",
            "|     1|           62761.0|  3.6666666666666665|\n",
            "|     6|           68917.8|                 4.8|\n",
            "|     3|          107274.9|                 3.6|\n",
            "|     5| 59246.55421686747|   3.855421686746988|\n",
            "|     4|102894.33333333333|   4.333333333333333|\n",
            "+------+------------------+--------------------+\n",
            "\n"
          ]
        }
      ]
    },
    {
      "cell_type": "code",
      "source": [
        "# Show count values of Employee Satisfaction\n",
        "hr_data_cleaned.groupBy(\"EmpSatisfaction\").count().show()"
      ],
      "metadata": {
        "colab": {
          "base_uri": "https://localhost:8080/"
        },
        "id": "K8aqs34AaOXE",
        "outputId": "af322a60-b627-4a83-c8a7-85f1f826a099"
      },
      "execution_count": 134,
      "outputs": [
        {
          "output_type": "stream",
          "name": "stdout",
          "text": [
            "+---------------+-----+\n",
            "|EmpSatisfaction|count|\n",
            "+---------------+-----+\n",
            "|              3|   33|\n",
            "|              5|   29|\n",
            "|              4|   38|\n",
            "|              2|    4|\n",
            "+---------------+-----+\n",
            "\n"
          ]
        }
      ]
    },
    {
      "cell_type": "markdown",
      "source": [
        "## Sorting"
      ],
      "metadata": {
        "id": "IFr5MATmbhqu"
      }
    },
    {
      "cell_type": "code",
      "source": [
        "hr_data_cleaned.orderBy(\"Tenure\").show(3)"
      ],
      "metadata": {
        "colab": {
          "base_uri": "https://localhost:8080/"
        },
        "id": "chBvY2S9bklP",
        "outputId": "3b7691ec-6e30-4c20-f695-d2bcb53df76d"
      },
      "execution_count": 135,
      "outputs": [
        {
          "output_type": "stream",
          "name": "stdout",
          "text": [
            "+--------------------+-----+---------+---------------+--------+------+-----------+------+-----+----------+--------------------+-----+----+--------+---+-----------+-----------+--------------+--------+----------+-----------------+--------------------+--------------------+-----------------+--------------+---------+-----------------+----------------+----------------+---------------+--------------------+--------------------------+--------------+--------+-----------------+------+\n",
            "|       Employee_Name|EmpNo|MarriedID|MaritalStatusID|GenderID|DeptID|PerfScoreID|Salary|Termd|PositionID|            Position|State| Zip|     DOB|Sex|MaritalDesc|CitizenDesc|HispanicLatino|RaceDesc|DateofHire|DateofTermination|          TermReason|    EmploymentStatus|       Department|   ManagerName|ManagerID|RecruitmentSource|PerformanceScore|EngagementSurvey|EmpSatisfaction|SpecialProjectsCount|LastPerformanceReview_Date|DaysLateLast30|Absences|PermanentEmployee|Tenure|\n",
            "+--------------------+-----+---------+---------------+--------+------+-----------+------+-----+----------+--------------------+-----+----+--------+---+-----------+-----------+--------------+--------+----------+-----------------+--------------------+--------------------+-----------------+--------------+---------+-----------------+----------------+----------------+---------------+--------------------+--------------------------+--------------+--------+-----------------+------+\n",
            "|       Goble, Taisha|10246|        0|              0|       0|     3|          3|114800|    1|         8|Database Administ...|   MA|2127|10/23/71|  F|     Single| US Citizen|            No|   White|2015-02-16|       2015-03-15|    no-call, no-show|Terminated for Cause|            IT/IS|    Simon Roup|        4|           Indeed|     Fully Meets|             4.6|              4|                   4|                 1/20/2015|             0|      10|              yes|     0|\n",
            "|    Purinton, Janine|10262|        0|              2|       0|     5|          3| 46430|    1|        19|Production Techni...|   MA|2474|09/22/70|  F|   Divorced| US Citizen|            No|   White|2012-09-24|       2013-06-18|             unhappy|Voluntarily Termi...|Production       |Kissy Sullivan|       20|           Indeed|     Fully Meets|             4.5|              5|                   0|                  4/2/2013|             0|      16|              yes|     0|\n",
            "|Homberger, Adrien...|10195|        1|              1|       0|     5|          3| 63478|    1|        20|Production Techni...|   MA|2445|02/16/84|  F|    Married|Non-Citizen|            No|   White|2011-08-15|       2012-04-07|relocation out of...|Voluntarily Termi...|Production       |Michael Albert|       30|           Indeed|     Fully Meets|            3.03|              5|                   0|                  3/5/2012|             0|      16|              yes|     0|\n",
            "+--------------------+-----+---------+---------------+--------+------+-----------+------+-----+----------+--------------------+-----+----+--------+---+-----------+-----------+--------------+--------+----------+-----------------+--------------------+--------------------+-----------------+--------------+---------+-----------------+----------------+----------------+---------------+--------------------+--------------------------+--------------+--------+-----------------+------+\n",
            "only showing top 3 rows\n",
            "\n"
          ]
        }
      ]
    },
    {
      "cell_type": "markdown",
      "source": [
        "## DataFrame Caching"
      ],
      "metadata": {
        "id": "CfrQXhmxa2sy"
      }
    },
    {
      "cell_type": "code",
      "source": [
        "hr_data_cleaned.cache()  # Cache DataFrame in memory\n",
        "\n",
        "# When you cache a DataFrame, Spark keeps the data in memory,\n",
        "# which can help speed up subsequent actions and transformations that need to access the data,\n",
        "# as it avoids re-reading or recomputing the data from the source (e.g., from a file, database, etc.)."
      ],
      "metadata": {
        "colab": {
          "base_uri": "https://localhost:8080/"
        },
        "id": "inDClRvDa6XD",
        "outputId": "a0256ae7-0a60-4960-b135-2e499d7c25d6"
      },
      "execution_count": 136,
      "outputs": [
        {
          "output_type": "execute_result",
          "data": {
            "text/plain": [
              "DataFrame[Employee_Name: string, EmpNo: int, MarriedID: int, MaritalStatusID: int, GenderID: int, DeptID: int, PerfScoreID: int, Salary: int, Termd: int, PositionID: int, Position: string, State: string, Zip: int, DOB: string, Sex: string, MaritalDesc: string, CitizenDesc: string, HispanicLatino: string, RaceDesc: string, DateofHire: date, DateofTermination: date, TermReason: string, EmploymentStatus: string, Department: string, ManagerName: string, ManagerID: int, RecruitmentSource: string, PerformanceScore: string, EngagementSurvey: double, EmpSatisfaction: int, SpecialProjectsCount: int, LastPerformanceReview_Date: string, DaysLateLast30: int, Absences: int, PermanentEmployee: string, Tenure: int]"
            ]
          },
          "metadata": {},
          "execution_count": 136
        }
      ]
    },
    {
      "cell_type": "markdown",
      "source": [
        "## Joins"
      ],
      "metadata": {
        "id": "xY-m6xHWatTS"
      }
    },
    {
      "cell_type": "code",
      "source": [
        "#df1.join(df2, df1[\"key\"] == df2[\"key\"], \"inner\").show()\n",
        "#df1.join(df2, on=\"key\", how=\"left\").show()"
      ],
      "metadata": {
        "id": "8ovpsjxuavMQ"
      },
      "execution_count": 137,
      "outputs": []
    },
    {
      "cell_type": "markdown",
      "source": [
        "## Partitioning and Coalescing:"
      ],
      "metadata": {
        "id": "6KAdEgOocLfT"
      }
    },
    {
      "cell_type": "code",
      "source": [
        "hr_data_cleaned.repartition(5) # Divides the data into 5 subsets and runs in paralell in multiple nodes, if available"
      ],
      "metadata": {
        "colab": {
          "base_uri": "https://localhost:8080/"
        },
        "id": "Y73oEhwGcPKR",
        "outputId": "1cd44033-fa26-4c0f-be53-a4d1a078bc39"
      },
      "execution_count": 138,
      "outputs": [
        {
          "output_type": "execute_result",
          "data": {
            "text/plain": [
              "DataFrame[Employee_Name: string, EmpNo: int, MarriedID: int, MaritalStatusID: int, GenderID: int, DeptID: int, PerfScoreID: int, Salary: int, Termd: int, PositionID: int, Position: string, State: string, Zip: int, DOB: string, Sex: string, MaritalDesc: string, CitizenDesc: string, HispanicLatino: string, RaceDesc: string, DateofHire: date, DateofTermination: date, TermReason: string, EmploymentStatus: string, Department: string, ManagerName: string, ManagerID: int, RecruitmentSource: string, PerformanceScore: string, EngagementSurvey: double, EmpSatisfaction: int, SpecialProjectsCount: int, LastPerformanceReview_Date: string, DaysLateLast30: int, Absences: int, PermanentEmployee: string, Tenure: int]"
            ]
          },
          "metadata": {},
          "execution_count": 138
        }
      ]
    },
    {
      "cell_type": "code",
      "source": [
        "hr_data_cleaned.coalesce(1) #Repartitioning"
      ],
      "metadata": {
        "colab": {
          "base_uri": "https://localhost:8080/"
        },
        "id": "nnmofV_XcUYg",
        "outputId": "8ed0530d-d2d6-4daf-e13c-271329d207b4"
      },
      "execution_count": 139,
      "outputs": [
        {
          "output_type": "execute_result",
          "data": {
            "text/plain": [
              "DataFrame[Employee_Name: string, EmpNo: int, MarriedID: int, MaritalStatusID: int, GenderID: int, DeptID: int, PerfScoreID: int, Salary: int, Termd: int, PositionID: int, Position: string, State: string, Zip: int, DOB: string, Sex: string, MaritalDesc: string, CitizenDesc: string, HispanicLatino: string, RaceDesc: string, DateofHire: date, DateofTermination: date, TermReason: string, EmploymentStatus: string, Department: string, ManagerName: string, ManagerID: int, RecruitmentSource: string, PerformanceScore: string, EngagementSurvey: double, EmpSatisfaction: int, SpecialProjectsCount: int, LastPerformanceReview_Date: string, DaysLateLast30: int, Absences: int, PermanentEmployee: string, Tenure: int]"
            ]
          },
          "metadata": {},
          "execution_count": 139
        }
      ]
    },
    {
      "cell_type": "markdown",
      "source": [
        "## Exploding an array into rows"
      ],
      "metadata": {
        "id": "hK4bbAF0dmCc"
      }
    },
    {
      "cell_type": "markdown",
      "source": [
        "ID\tSkills\n",
        "\n",
        "1\t[\"Python\", \"Java\"]\n",
        "\n",
        "2\t[\"SQL\", \"Spark\", \"R\"]\n",
        "\n",
        "3\t[\"Excel\", \"Power BI\"]"
      ],
      "metadata": {
        "id": "S4n0oy_Wdzbx"
      }
    },
    {
      "cell_type": "code",
      "source": [
        "# Exploding an array into rows\n",
        "#hr_data_cleaned.withColumn(\"GenderID\", explode(col(\"Language\"))).show()"
      ],
      "metadata": {
        "id": "YcPOge-efjyf"
      },
      "execution_count": null,
      "outputs": []
    },
    {
      "cell_type": "markdown",
      "source": [
        "## Define the Pipeline"
      ],
      "metadata": {
        "id": "7WWNE7DRBEKQ"
      }
    },
    {
      "cell_type": "code",
      "source": [
        "# Assemble the input columns into a single vector\n",
        "vectorAssembler = VectorAssembler(inputCols=[\"MaritalStatusID\",\"GenderID\", \"DeptID\", \"PerfScoreID\", \"Termd\",\n",
        "                                             \"PositionID\", \"ManagerID\"], outputCol=\"features\")"
      ],
      "metadata": {
        "id": "1q4ULFfFBKbV"
      },
      "execution_count": 142,
      "outputs": []
    },
    {
      "cell_type": "code",
      "source": [
        "# Scale the features using standard scaler\n",
        "scaler = StandardScaler(inputCol=\"features\", outputCol=\"scaledFeatures\")"
      ],
      "metadata": {
        "id": "4ewuNJXH4wyR"
      },
      "execution_count": 143,
      "outputs": []
    },
    {
      "cell_type": "code",
      "source": [
        "# Create a linear regression instance\n",
        "lr = LinearRegression(featuresCol=\"features\", labelCol=\"Salary\")"
      ],
      "metadata": {
        "id": "CIYRRDda44HT"
      },
      "execution_count": 144,
      "outputs": []
    },
    {
      "cell_type": "markdown",
      "source": [
        "## Build the Pipeline"
      ],
      "metadata": {
        "id": "6r8UdiAc5Geh"
      }
    },
    {
      "cell_type": "code",
      "source": [
        "pipeline = Pipeline(stages=[vectorAssembler, scaler, lr])"
      ],
      "metadata": {
        "id": "mk5WmLe15Lzn"
      },
      "execution_count": 146,
      "outputs": []
    },
    {
      "cell_type": "markdown",
      "source": [
        "## Data Split"
      ],
      "metadata": {
        "id": "MVxEtfhGDlkH"
      }
    },
    {
      "cell_type": "code",
      "source": [
        "(training_data, testing_data) = hr_data_cleaned.randomSplit([0.8, 0.2], seed=42)"
      ],
      "metadata": {
        "id": "i2KG6UQfB0yB"
      },
      "execution_count": 148,
      "outputs": []
    },
    {
      "cell_type": "markdown",
      "source": [
        "## Fit the Pipeline"
      ],
      "metadata": {
        "id": "CZKkCdDeDrLP"
      }
    },
    {
      "cell_type": "code",
      "source": [
        "model = pipeline.fit(training_data)"
      ],
      "metadata": {
        "id": "2HZFCYa-DpA5"
      },
      "execution_count": 150,
      "outputs": []
    },
    {
      "cell_type": "markdown",
      "source": [
        "## Model Evaluation"
      ],
      "metadata": {
        "id": "lYHoLHQJDwRr"
      }
    },
    {
      "cell_type": "code",
      "source": [
        "predictions = model.transform(testing_data)"
      ],
      "metadata": {
        "id": "G8553FbXDuAI"
      },
      "execution_count": 151,
      "outputs": []
    },
    {
      "cell_type": "code",
      "source": [
        "evaluator = RegressionEvaluator(labelCol=\"Salary\", predictionCol=\"prediction\", metricName=\"r2\")\n",
        "r2 = evaluator.evaluate(predictions)\n",
        "print(\"R Squared =\", r2)"
      ],
      "metadata": {
        "colab": {
          "base_uri": "https://localhost:8080/"
        },
        "id": "boTFuDasDxqk",
        "outputId": "2f965c1b-8796-4259-ec23-170cf791abef"
      },
      "execution_count": 152,
      "outputs": [
        {
          "output_type": "stream",
          "name": "stdout",
          "text": [
            "R Squared = 0.6093782743575561\n"
          ]
        }
      ]
    },
    {
      "cell_type": "code",
      "source": [
        "evaluator = RegressionEvaluator(labelCol=\"Salary\", predictionCol=\"prediction\", metricName=\"rmse\")\n",
        "rmse = evaluator.evaluate(predictions)\n",
        "print(\"RMSE =\", rmse)"
      ],
      "metadata": {
        "colab": {
          "base_uri": "https://localhost:8080/"
        },
        "id": "JY66aIQUD0AO",
        "outputId": "e40d2384-9676-4798-ff2d-dc9b42a1edde"
      },
      "execution_count": 153,
      "outputs": [
        {
          "output_type": "stream",
          "name": "stdout",
          "text": [
            "RMSE = 10985.204590156689\n"
          ]
        }
      ]
    },
    {
      "cell_type": "markdown",
      "source": [
        "## Save the Model"
      ],
      "metadata": {
        "id": "Hyf9AhWw6VMN"
      }
    },
    {
      "cell_type": "code",
      "source": [
        "model.write().overwrite().save(\"./\")"
      ],
      "metadata": {
        "id": "-PzqK-xU6ZDi"
      },
      "execution_count": 162,
      "outputs": []
    },
    {
      "cell_type": "markdown",
      "source": [
        "## Load the Model"
      ],
      "metadata": {
        "id": "woilYo3r7ybQ"
      }
    },
    {
      "cell_type": "code",
      "source": [
        "loaded_model = PipelineModel.load(\"./\")"
      ],
      "metadata": {
        "id": "UtrYhJn_70Rc"
      },
      "execution_count": null,
      "outputs": []
    },
    {
      "cell_type": "markdown",
      "source": [
        "## Predict using the Loaded Model"
      ],
      "metadata": {
        "id": "byo_zM3g75Fv"
      }
    },
    {
      "cell_type": "code",
      "source": [
        "predictions = loaded_model.transform(testing_data)"
      ],
      "metadata": {
        "id": "f1GlKrtc780S"
      },
      "execution_count": null,
      "outputs": []
    },
    {
      "cell_type": "markdown",
      "source": [
        "## Stop the Spark session"
      ],
      "metadata": {
        "id": "y4COY7WoePCJ"
      }
    },
    {
      "cell_type": "code",
      "source": [
        "spark.stop()"
      ],
      "metadata": {
        "id": "eQwYdb6jD6Qf"
      },
      "execution_count": null,
      "outputs": []
    }
  ],
  "metadata": {
    "kernelspec": {
      "display_name": "Python",
      "language": "python",
      "name": "conda-env-python-py"
    },
    "language_info": {
      "name": "python",
      "version": "3.7.12",
      "mimetype": "text/x-python",
      "codemirror_mode": {
        "name": "ipython",
        "version": 3
      },
      "pygments_lexer": "ipython3",
      "nbconvert_exporter": "python",
      "file_extension": ".py"
    },
    "prev_pub_hash": "4fa66a01fb1e16c239154b57e7d60fc8e9a8a2198ae66e7312eb2f997e32a26a",
    "colab": {
      "provenance": [],
      "toc_visible": true
    }
  },
  "nbformat": 4,
  "nbformat_minor": 0
}