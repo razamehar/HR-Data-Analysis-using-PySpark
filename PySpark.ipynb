{
  "cells": [
    {
      "cell_type": "markdown",
      "source": [
        "## Installs"
      ],
      "metadata": {
        "id": "z-wpG-EQ_F1p"
      }
    },
    {
      "cell_type": "code",
      "metadata": {
        "id": "407c8ab4-c10a-4c70-b999-c1897847c877",
        "colab": {
          "base_uri": "https://localhost:8080/"
        },
        "outputId": "af871740-8a2b-44c2-b77d-a9302d228630"
      },
      "outputs": [
        {
          "output_type": "stream",
          "name": "stdout",
          "text": [
            "  Preparing metadata (setup.py) ... \u001b[?25l\u001b[?25hdone\n",
            "\u001b[2K   \u001b[90m━━━━━━━━━━━━━━━━━━━━━━━━━━━━━━━━━━━━━━━━\u001b[0m \u001b[32m198.6/198.6 kB\u001b[0m \u001b[31m3.3 MB/s\u001b[0m eta \u001b[36m0:00:00\u001b[0m\n",
            "\u001b[?25h  Building wheel for pyspark (setup.py) ... \u001b[?25l\u001b[?25hdone\n",
            "\u001b[31mERROR: pip's dependency resolver does not currently take into account all the packages that are installed. This behaviour is the source of the following dependency conflicts.\n",
            "google-spark-connect 0.5.2 requires pyspark>=3.5, but you have pyspark 3.1.2 which is incompatible.\u001b[0m\u001b[31m\n",
            "\u001b[0m"
          ]
        }
      ],
      "source": [
        "!pip install pyspark==3.1.2 -q\n",
        "!pip install findspark -q"
      ],
      "execution_count": 1
    },
    {
      "cell_type": "markdown",
      "source": [
        "## Imports"
      ],
      "metadata": {
        "id": "NgHZZEOw--5B"
      }
    },
    {
      "cell_type": "code",
      "source": [
        "import kagglehub\n",
        "import findspark\n",
        "from pyspark.sql import SparkSession\n",
        "from pyspark.ml.feature import VectorAssembler\n",
        "from pyspark.sql.functions import col, sum, when, udf\n",
        "from pyspark.sql.types import IntegerType\n",
        "from pyspark.sql import functions as F\n",
        "from pyspark.sql.functions import lit, to_date, datediff, current_date, expr\n",
        "from pyspark.sql.functions import explode\n",
        "from datetime import datetime\n",
        "from pyspark.ml.regression import LinearRegression\n",
        "from pyspark.ml.evaluation import RegressionEvaluator\n",
        "import warnings"
      ],
      "metadata": {
        "id": "2NtP4Wts-KL2"
      },
      "execution_count": 92,
      "outputs": []
    },
    {
      "cell_type": "markdown",
      "source": [
        "## Utilities"
      ],
      "metadata": {
        "id": "_HGVyTga_JJS"
      }
    },
    {
      "cell_type": "code",
      "metadata": {
        "id": "427c19ff-b977-4b7e-b595-a2186e26b89b"
      },
      "outputs": [],
      "source": [
        "def warn(*args, **kwargs):\n",
        "    pass\n",
        "findspark.init()\n",
        "\n",
        "warnings.warn = warn\n",
        "warnings.filterwarnings('ignore')"
      ],
      "execution_count": 3
    },
    {
      "cell_type": "markdown",
      "source": [
        "## Session Initialization"
      ],
      "metadata": {
        "id": "jgCdqBvRGOP7"
      }
    },
    {
      "cell_type": "code",
      "metadata": {
        "id": "8f16a243-5918-45c9-ba56-eb703a274d7d"
      },
      "outputs": [],
      "source": [
        "spark = SparkSession.builder.appName(\"PySpark_App\").getOrCreate()"
      ],
      "execution_count": 4
    },
    {
      "cell_type": "markdown",
      "metadata": {
        "id": "28e3ac3d-9490-40db-a68a-9b2d65911995"
      },
      "source": [
        "## Download the data file and Load the dataset\n"
      ]
    },
    {
      "cell_type": "code",
      "source": [
        "path = kagglehub.dataset_download(\"rhuebner/human-resources-data-set\")\n",
        "print(\"Path to dataset files:\", path)"
      ],
      "metadata": {
        "colab": {
          "base_uri": "https://localhost:8080/"
        },
        "id": "Gbjd6lOq-CHt",
        "outputId": "aebc66e4-a24f-4c66-ee34-b1cf0a13ff7a"
      },
      "execution_count": 5,
      "outputs": [
        {
          "output_type": "stream",
          "name": "stdout",
          "text": [
            "Downloading from https://www.kaggle.com/api/v1/datasets/download/rhuebner/human-resources-data-set?dataset_version_number=4...\n"
          ]
        },
        {
          "output_type": "stream",
          "name": "stderr",
          "text": [
            "100%|██████████| 16.6k/16.6k [00:00<00:00, 16.8MB/s]"
          ]
        },
        {
          "output_type": "stream",
          "name": "stdout",
          "text": [
            "Extracting files...\n",
            "Path to dataset files: /root/.cache/kagglehub/datasets/rhuebner/human-resources-data-set/versions/4\n"
          ]
        },
        {
          "output_type": "stream",
          "name": "stderr",
          "text": [
            "\n"
          ]
        }
      ]
    },
    {
      "cell_type": "code",
      "metadata": {
        "id": "76995ce9-a0f0-479f-8b8e-69f2244e9962"
      },
      "outputs": [],
      "source": [
        "hr_data = spark.read.csv(path, header=True, inferSchema=True) # Load CSV\n",
        "\n",
        "#df = spark.read.parquet(\"path_to_file.parquet\") # Load parquet\n",
        "#df = spark.read.json(\"path_to_file.json\") # Load JSON"
      ],
      "execution_count": 82
    },
    {
      "cell_type": "markdown",
      "metadata": {
        "id": "f05edb75-c6f0-4f3c-9a74-06b630863a94"
      },
      "source": [
        "## Data Exploration"
      ]
    },
    {
      "cell_type": "code",
      "metadata": {
        "colab": {
          "base_uri": "https://localhost:8080/"
        },
        "id": "5d514d19-d11b-4532-8ac8-41b7c2fd92a9",
        "outputId": "d3dd3f32-17a0-4ffc-9c39-855acc7e7257"
      },
      "outputs": [
        {
          "output_type": "stream",
          "name": "stdout",
          "text": [
            "root\n",
            " |-- Employee_Name: string (nullable = true)\n",
            " |-- EmpID: integer (nullable = true)\n",
            " |-- MarriedID: integer (nullable = true)\n",
            " |-- MaritalStatusID: integer (nullable = true)\n",
            " |-- GenderID: integer (nullable = true)\n",
            " |-- EmpStatusID: integer (nullable = true)\n",
            " |-- DeptID: integer (nullable = true)\n",
            " |-- PerfScoreID: integer (nullable = true)\n",
            " |-- FromDiversityJobFairID: integer (nullable = true)\n",
            " |-- Salary: integer (nullable = true)\n",
            " |-- Termd: integer (nullable = true)\n",
            " |-- PositionID: integer (nullable = true)\n",
            " |-- Position: string (nullable = true)\n",
            " |-- State: string (nullable = true)\n",
            " |-- Zip: integer (nullable = true)\n",
            " |-- DOB: string (nullable = true)\n",
            " |-- Sex: string (nullable = true)\n",
            " |-- MaritalDesc: string (nullable = true)\n",
            " |-- CitizenDesc: string (nullable = true)\n",
            " |-- HispanicLatino: string (nullable = true)\n",
            " |-- RaceDesc: string (nullable = true)\n",
            " |-- DateofHire: string (nullable = true)\n",
            " |-- DateofTermination: string (nullable = true)\n",
            " |-- TermReason: string (nullable = true)\n",
            " |-- EmploymentStatus: string (nullable = true)\n",
            " |-- Department: string (nullable = true)\n",
            " |-- ManagerName: string (nullable = true)\n",
            " |-- ManagerID: integer (nullable = true)\n",
            " |-- RecruitmentSource: string (nullable = true)\n",
            " |-- PerformanceScore: string (nullable = true)\n",
            " |-- EngagementSurvey: double (nullable = true)\n",
            " |-- EmpSatisfaction: integer (nullable = true)\n",
            " |-- SpecialProjectsCount: integer (nullable = true)\n",
            " |-- LastPerformanceReview_Date: string (nullable = true)\n",
            " |-- DaysLateLast30: integer (nullable = true)\n",
            " |-- Absences: integer (nullable = true)\n",
            "\n"
          ]
        }
      ],
      "source": [
        "hr_data.printSchema()\n",
        "# hr_data.dtypes # To display column data types"
      ],
      "execution_count": 75
    },
    {
      "cell_type": "code",
      "metadata": {
        "colab": {
          "base_uri": "https://localhost:8080/"
        },
        "id": "c934dd68-027b-4957-821e-8dcd7cc90880",
        "outputId": "3b086a3c-c444-4909-ce1e-08c6952868cd"
      },
      "outputs": [
        {
          "output_type": "stream",
          "name": "stdout",
          "text": [
            "+------------------------+-----+---------+---------------+--------+-----------+------+-----------+----------------------+------+-----+----------+------------------------+-----+----+--------+---+-----------+-----------+--------------+--------+----------+-----------------+-----------------+----------------------+-----------------+--------------+---------+-----------------+----------------+----------------+---------------+--------------------+--------------------------+--------------+--------+\n",
            "|Employee_Name           |EmpID|MarriedID|MaritalStatusID|GenderID|EmpStatusID|DeptID|PerfScoreID|FromDiversityJobFairID|Salary|Termd|PositionID|Position                |State|Zip |DOB     |Sex|MaritalDesc|CitizenDesc|HispanicLatino|RaceDesc|DateofHire|DateofTermination|TermReason       |EmploymentStatus      |Department       |ManagerName   |ManagerID|RecruitmentSource|PerformanceScore|EngagementSurvey|EmpSatisfaction|SpecialProjectsCount|LastPerformanceReview_Date|DaysLateLast30|Absences|\n",
            "+------------------------+-----+---------+---------------+--------+-----------+------+-----------+----------------------+------+-----+----------+------------------------+-----+----+--------+---+-----------+-----------+--------------+--------+----------+-----------------+-----------------+----------------------+-----------------+--------------+---------+-----------------+----------------+----------------+---------------+--------------------+--------------------------+--------------+--------+\n",
            "|Adinolfi, Wilson  K     |10026|0        |0              |1       |1          |5     |4          |0                     |62506 |0    |19        |Production Technician I |MA   |1960|07/10/83|M  |Single     |US Citizen |No            |White   |7/5/2011  |null             |N/A-StillEmployed|Active                |Production       |Michael Albert|22       |LinkedIn         |Exceeds         |4.6             |5              |0                   |1/17/2019                 |0             |1       |\n",
            "|Ait Sidi, Karthikeyan   |10084|1        |1              |1       |5          |3     |3          |0                     |104437|1    |27        |Sr. DBA                 |MA   |2148|05/05/75|M  |Married    |US Citizen |No            |White   |3/30/2015 |6/16/2016        |career change    |Voluntarily Terminated|IT/IS            |Simon Roup    |4        |Indeed           |Fully Meets     |4.96            |3              |6                   |2/24/2016                 |0             |17      |\n",
            "|Akinkuolie, Sarah       |10196|1        |1              |0       |5          |5     |3          |0                     |64955 |1    |20        |Production Technician II|MA   |1810|09/19/88|F  |Married    |US Citizen |No            |White   |7/5/2011  |9/24/2012        |hours            |Voluntarily Terminated|Production       |Kissy Sullivan|20       |LinkedIn         |Fully Meets     |3.02            |3              |0                   |5/15/2012                 |0             |3       |\n",
            "+------------------------+-----+---------+---------------+--------+-----------+------+-----------+----------------------+------+-----+----------+------------------------+-----+----+--------+---+-----------+-----------+--------------+--------+----------+-----------------+-----------------+----------------------+-----------------+--------------+---------+-----------------+----------------+----------------+---------------+--------------------+--------------------------+--------------+--------+\n",
            "only showing top 3 rows\n",
            "\n"
          ]
        }
      ],
      "source": [
        "hr_data.show(3, truncate=False)"
      ],
      "execution_count": 58
    },
    {
      "cell_type": "code",
      "source": [
        "print(f\"Rows: {hr_data.count()}, Columns: {len(hr_data.columns)})\")"
      ],
      "metadata": {
        "colab": {
          "base_uri": "https://localhost:8080/"
        },
        "id": "wgk8pdLdENbA",
        "outputId": "51e58dfe-9c6f-4864-d326-8c2509a02eaa"
      },
      "execution_count": 59,
      "outputs": [
        {
          "output_type": "stream",
          "name": "stdout",
          "text": [
            "Rows: 311, Columns: 36)\n"
          ]
        }
      ]
    },
    {
      "cell_type": "code",
      "source": [
        "# Check for duplicate rows\n",
        "total_rows = hr_data.count()\n",
        "distinct_rows = hr_data.distinct().count()\n",
        "duplicates_count = total_rows - distinct_rows\n",
        "\n",
        "print(f\"Number of duplicate rows: {duplicates_count}\")"
      ],
      "metadata": {
        "colab": {
          "base_uri": "https://localhost:8080/"
        },
        "id": "ZSBoKppcDcpQ",
        "outputId": "ff69d4be-2f03-49c1-82e8-c63021983afc"
      },
      "execution_count": 60,
      "outputs": [
        {
          "output_type": "stream",
          "name": "stdout",
          "text": [
            "Number of duplicate rows: 0\n"
          ]
        }
      ]
    },
    {
      "cell_type": "code",
      "source": [
        "hr_data.dropDuplicates() # Drop duplicate rows, if any"
      ],
      "metadata": {
        "colab": {
          "base_uri": "https://localhost:8080/"
        },
        "id": "KJxABMJTHWgI",
        "outputId": "8731b6c9-520e-4d12-e936-b9b8a2354361"
      },
      "execution_count": 76,
      "outputs": [
        {
          "output_type": "execute_result",
          "data": {
            "text/plain": [
              "DataFrame[Employee_Name: string, EmpID: int, MarriedID: int, MaritalStatusID: int, GenderID: int, EmpStatusID: int, DeptID: int, PerfScoreID: int, FromDiversityJobFairID: int, Salary: int, Termd: int, PositionID: int, Position: string, State: string, Zip: int, DOB: string, Sex: string, MaritalDesc: string, CitizenDesc: string, HispanicLatino: string, RaceDesc: string, DateofHire: string, DateofTermination: string, TermReason: string, EmploymentStatus: string, Department: string, ManagerName: string, ManagerID: int, RecruitmentSource: string, PerformanceScore: string, EngagementSurvey: double, EmpSatisfaction: int, SpecialProjectsCount: int, LastPerformanceReview_Date: string, DaysLateLast30: int, Absences: int]"
            ]
          },
          "metadata": {},
          "execution_count": 76
        }
      ]
    },
    {
      "cell_type": "code",
      "source": [
        "# Check for null values\n",
        "null_counts = hr_data.select([sum(col(c).isNull().cast(\"int\")).alias(c) for c in hr_data.columns])\n",
        "null_counts.show()"
      ],
      "metadata": {
        "colab": {
          "base_uri": "https://localhost:8080/"
        },
        "id": "OmRSb6ZAGCcI",
        "outputId": "cbe4abae-223f-413e-cbad-c621f0d628d7"
      },
      "execution_count": 83,
      "outputs": [
        {
          "output_type": "stream",
          "name": "stdout",
          "text": [
            "+-------------+-----+---------+---------------+--------+-----------+------+-----------+----------------------+------+-----+----------+--------+-----+---+---+---+-----------+-----------+--------------+--------+----------+-----------------+----------+----------------+----------+-----------+---------+-----------------+----------------+----------------+---------------+--------------------+--------------------------+--------------+--------+\n",
            "|Employee_Name|EmpID|MarriedID|MaritalStatusID|GenderID|EmpStatusID|DeptID|PerfScoreID|FromDiversityJobFairID|Salary|Termd|PositionID|Position|State|Zip|DOB|Sex|MaritalDesc|CitizenDesc|HispanicLatino|RaceDesc|DateofHire|DateofTermination|TermReason|EmploymentStatus|Department|ManagerName|ManagerID|RecruitmentSource|PerformanceScore|EngagementSurvey|EmpSatisfaction|SpecialProjectsCount|LastPerformanceReview_Date|DaysLateLast30|Absences|\n",
            "+-------------+-----+---------+---------------+--------+-----------+------+-----------+----------------------+------+-----+----------+--------+-----+---+---+---+-----------+-----------+--------------+--------+----------+-----------------+----------+----------------+----------+-----------+---------+-----------------+----------------+----------------+---------------+--------------------+--------------------------+--------------+--------+\n",
            "|            0|    0|        0|              0|       0|          0|     0|          0|                     0|     0|    0|         0|       0|    0|  0|  0|  0|          0|          0|             0|       0|         0|              207|         0|               0|         0|          0|        8|                0|               0|               0|              0|                   0|                         0|             0|       0|\n",
            "+-------------+-----+---------+---------------+--------+-----------+------+-----------+----------------------+------+-----+----------+--------+-----+---+---+---+-----------+-----------+--------------+--------+----------+-----------------+----------+----------------+----------+-----------+---------+-----------------+----------------+----------------+---------------+--------------------+--------------------------+--------------+--------+\n",
            "\n"
          ]
        }
      ]
    },
    {
      "cell_type": "code",
      "source": [
        "# Drop rows with null values\n",
        "hr_data_cleaned = hr_data.dropna()\n",
        "\n",
        "# Impute missing values (for a specific column)\n",
        "# hr_data_cleaned.fillna({\"DateofTermination\": 0})"
      ],
      "metadata": {
        "id": "FP6CPfd8GwXb"
      },
      "execution_count": 84,
      "outputs": []
    },
    {
      "cell_type": "code",
      "source": [
        "null_counts = hr_data_cleaned.select([sum(col(c).isNull().cast(\"int\")).alias(c) for c in hr_data.columns])\n",
        "null_counts.show()"
      ],
      "metadata": {
        "colab": {
          "base_uri": "https://localhost:8080/"
        },
        "id": "U-U6yz1zGx7S",
        "outputId": "bbabd744-fc21-4f03-c515-6e655cbf80c2"
      },
      "execution_count": 85,
      "outputs": [
        {
          "output_type": "stream",
          "name": "stdout",
          "text": [
            "+-------------+-----+---------+---------------+--------+-----------+------+-----------+----------------------+------+-----+----------+--------+-----+---+---+---+-----------+-----------+--------------+--------+----------+-----------------+----------+----------------+----------+-----------+---------+-----------------+----------------+----------------+---------------+--------------------+--------------------------+--------------+--------+\n",
            "|Employee_Name|EmpID|MarriedID|MaritalStatusID|GenderID|EmpStatusID|DeptID|PerfScoreID|FromDiversityJobFairID|Salary|Termd|PositionID|Position|State|Zip|DOB|Sex|MaritalDesc|CitizenDesc|HispanicLatino|RaceDesc|DateofHire|DateofTermination|TermReason|EmploymentStatus|Department|ManagerName|ManagerID|RecruitmentSource|PerformanceScore|EngagementSurvey|EmpSatisfaction|SpecialProjectsCount|LastPerformanceReview_Date|DaysLateLast30|Absences|\n",
            "+-------------+-----+---------+---------------+--------+-----------+------+-----------+----------------------+------+-----+----------+--------+-----+---+---+---+-----------+-----------+--------------+--------+----------+-----------------+----------+----------------+----------+-----------+---------+-----------------+----------------+----------------+---------------+--------------------+--------------------------+--------------+--------+\n",
            "|            0|    0|        0|              0|       0|          0|     0|          0|                     0|     0|    0|         0|       0|    0|  0|  0|  0|          0|          0|             0|       0|         0|                0|         0|               0|         0|          0|        0|                0|               0|               0|              0|                   0|                         0|             0|       0|\n",
            "+-------------+-----+---------+---------------+--------+-----------+------+-----------+----------------------+------+-----+----------+--------+-----+---+---+---+-----------+-----------+--------------+--------+----------+-----------------+----------+----------------+----------+-----------+---------+-----------------+----------------+----------------+---------------+--------------------+--------------------------+--------------+--------+\n",
            "\n"
          ]
        }
      ]
    },
    {
      "cell_type": "markdown",
      "source": [
        "## Transformation"
      ],
      "metadata": {
        "id": "XGG1B7ylILSE"
      }
    },
    {
      "cell_type": "code",
      "source": [
        "# Add a new column with a constant value using lit (literal) function\n",
        "hr_data_cleaned = hr_data_cleaned.withColumn(\"PermanentEmployee\", lit(\"yes\"))\n",
        "hr_data_cleaned.show(3)"
      ],
      "metadata": {
        "colab": {
          "base_uri": "https://localhost:8080/"
        },
        "id": "INC0gLHMIYN2",
        "outputId": "16c2ef09-583b-441a-f276-a0555bf837bd"
      },
      "execution_count": 88,
      "outputs": [
        {
          "output_type": "stream",
          "name": "stdout",
          "text": [
            "+--------------------+-----+---------+---------------+--------+-----------+------+-----------+----------------------+------+-----+----------+--------------------+-----+----+--------+---+-----------+-----------+--------------+--------+----------+-----------------+----------------+--------------------+-----------------+--------------+---------+-----------------+----------------+----------------+---------------+--------------------+--------------------------+--------------+--------+-----------------+\n",
            "|       Employee_Name|EmpID|MarriedID|MaritalStatusID|GenderID|EmpStatusID|DeptID|PerfScoreID|FromDiversityJobFairID|Salary|Termd|PositionID|            Position|State| Zip|     DOB|Sex|MaritalDesc|CitizenDesc|HispanicLatino|RaceDesc|DateofHire|DateofTermination|      TermReason|    EmploymentStatus|       Department|   ManagerName|ManagerID|RecruitmentSource|PerformanceScore|EngagementSurvey|EmpSatisfaction|SpecialProjectsCount|LastPerformanceReview_Date|DaysLateLast30|Absences|PermanentEmployee|\n",
            "+--------------------+-----+---------+---------------+--------+-----------+------+-----------+----------------------+------+-----+----------+--------------------+-----+----+--------+---+-----------+-----------+--------------+--------+----------+-----------------+----------------+--------------------+-----------------+--------------+---------+-----------------+----------------+----------------+---------------+--------------------+--------------------------+--------------+--------+-----------------+\n",
            "|Ait Sidi, Karthik...|10084|        1|              1|       1|          5|     3|          3|                     0|104437|    1|        27|             Sr. DBA|   MA|2148|05/05/75| M |    Married| US Citizen|            No|   White| 3/30/2015|        6/16/2016|   career change|Voluntarily Termi...|            IT/IS|    Simon Roup|        4|           Indeed|     Fully Meets|            4.96|              3|                   6|                 2/24/2016|             0|      17|              yes|\n",
            "|   Akinkuolie, Sarah|10196|        1|              1|       0|          5|     5|          3|                     0| 64955|    1|        20|Production Techni...|   MA|1810|09/19/88|  F|    Married| US Citizen|            No|   White|  7/5/2011|        9/24/2012|           hours|Voluntarily Termi...|Production       |Kissy Sullivan|       20|         LinkedIn|     Fully Meets|            3.02|              3|                   0|                 5/15/2012|             0|       3|              yes|\n",
            "|    Anderson, Carol |10069|        0|              2|       0|          5|     5|          3|                     0| 50825|    1|        19|Production Techni...|   MA|2169|09/08/89|  F|   Divorced| US Citizen|            No|   White| 7/11/2011|         9/6/2016|return to school|Voluntarily Termi...|Production       |Webster Butler|       39|    Google Search|     Fully Meets|             5.0|              4|                   0|                  2/1/2016|             0|       2|              yes|\n",
            "+--------------------+-----+---------+---------------+--------+-----------+------+-----------+----------------------+------+-----+----------+--------------------+-----+----+--------+---+-----------+-----------+--------------+--------+----------+-----------------+----------------+--------------------+-----------------+--------------+---------+-----------------+----------------+----------------+---------------+--------------------+--------------------------+--------------+--------+-----------------+\n",
            "only showing top 3 rows\n",
            "\n"
          ]
        }
      ]
    },
    {
      "cell_type": "code",
      "source": [
        "# Drop columns\n",
        "hr_data_cleaned = hr_data_cleaned.drop(\"EmpStatusID\",\"FromDiversityJobFairID\")\n",
        "hr_data_cleaned.show(3)"
      ],
      "metadata": {
        "colab": {
          "base_uri": "https://localhost:8080/"
        },
        "id": "8DYZyEOMpZh9",
        "outputId": "b7be3054-9dda-425c-b9e0-0c46264f1c93"
      },
      "execution_count": 90,
      "outputs": [
        {
          "output_type": "stream",
          "name": "stdout",
          "text": [
            "+--------------------+-----+---------+---------------+--------+------+-----------+------+-----+----------+--------------------+-----+----+--------+---+-----------+-----------+--------------+--------+----------+-----------------+----------------+--------------------+-----------------+--------------+---------+-----------------+----------------+----------------+---------------+--------------------+--------------------------+--------------+--------+-----------------+\n",
            "|       Employee_Name|EmpID|MarriedID|MaritalStatusID|GenderID|DeptID|PerfScoreID|Salary|Termd|PositionID|            Position|State| Zip|     DOB|Sex|MaritalDesc|CitizenDesc|HispanicLatino|RaceDesc|DateofHire|DateofTermination|      TermReason|    EmploymentStatus|       Department|   ManagerName|ManagerID|RecruitmentSource|PerformanceScore|EngagementSurvey|EmpSatisfaction|SpecialProjectsCount|LastPerformanceReview_Date|DaysLateLast30|Absences|PermanentEmployee|\n",
            "+--------------------+-----+---------+---------------+--------+------+-----------+------+-----+----------+--------------------+-----+----+--------+---+-----------+-----------+--------------+--------+----------+-----------------+----------------+--------------------+-----------------+--------------+---------+-----------------+----------------+----------------+---------------+--------------------+--------------------------+--------------+--------+-----------------+\n",
            "|Ait Sidi, Karthik...|10084|        1|              1|       1|     3|          3|104437|    1|        27|             Sr. DBA|   MA|2148|05/05/75| M |    Married| US Citizen|            No|   White| 3/30/2015|        6/16/2016|   career change|Voluntarily Termi...|            IT/IS|    Simon Roup|        4|           Indeed|     Fully Meets|            4.96|              3|                   6|                 2/24/2016|             0|      17|              yes|\n",
            "|   Akinkuolie, Sarah|10196|        1|              1|       0|     5|          3| 64955|    1|        20|Production Techni...|   MA|1810|09/19/88|  F|    Married| US Citizen|            No|   White|  7/5/2011|        9/24/2012|           hours|Voluntarily Termi...|Production       |Kissy Sullivan|       20|         LinkedIn|     Fully Meets|            3.02|              3|                   0|                 5/15/2012|             0|       3|              yes|\n",
            "|    Anderson, Carol |10069|        0|              2|       0|     5|          3| 50825|    1|        19|Production Techni...|   MA|2169|09/08/89|  F|   Divorced| US Citizen|            No|   White| 7/11/2011|         9/6/2016|return to school|Voluntarily Termi...|Production       |Webster Butler|       39|    Google Search|     Fully Meets|             5.0|              4|                   0|                  2/1/2016|             0|       2|              yes|\n",
            "+--------------------+-----+---------+---------------+--------+------+-----------+------+-----+----------+--------------------+-----+----+--------+---+-----------+-----------+--------------+--------+----------+-----------------+----------------+--------------------+-----------------+--------------+---------+-----------------+----------------+----------------+---------------+--------------------+--------------------------+--------------+--------+-----------------+\n",
            "only showing top 3 rows\n",
            "\n"
          ]
        }
      ]
    },
    {
      "cell_type": "code",
      "source": [
        "# Rename a column\n",
        "hr_data_cleaned = hr_data_cleaned.withColumnRenamed(\"EmpID\", \"EmpNo\")\n",
        "hr_data_cleaned.show(3)"
      ],
      "metadata": {
        "colab": {
          "base_uri": "https://localhost:8080/"
        },
        "id": "dkB29MsNqhPg",
        "outputId": "31b63f79-47c7-4f35-b4f7-ab17addc6587"
      },
      "execution_count": 91,
      "outputs": [
        {
          "output_type": "stream",
          "name": "stdout",
          "text": [
            "+--------------------+-----+---------+---------------+--------+------+-----------+------+-----+----------+--------------------+-----+----+--------+---+-----------+-----------+--------------+--------+----------+-----------------+----------------+--------------------+-----------------+--------------+---------+-----------------+----------------+----------------+---------------+--------------------+--------------------------+--------------+--------+-----------------+\n",
            "|       Employee_Name|EmpNo|MarriedID|MaritalStatusID|GenderID|DeptID|PerfScoreID|Salary|Termd|PositionID|            Position|State| Zip|     DOB|Sex|MaritalDesc|CitizenDesc|HispanicLatino|RaceDesc|DateofHire|DateofTermination|      TermReason|    EmploymentStatus|       Department|   ManagerName|ManagerID|RecruitmentSource|PerformanceScore|EngagementSurvey|EmpSatisfaction|SpecialProjectsCount|LastPerformanceReview_Date|DaysLateLast30|Absences|PermanentEmployee|\n",
            "+--------------------+-----+---------+---------------+--------+------+-----------+------+-----+----------+--------------------+-----+----+--------+---+-----------+-----------+--------------+--------+----------+-----------------+----------------+--------------------+-----------------+--------------+---------+-----------------+----------------+----------------+---------------+--------------------+--------------------------+--------------+--------+-----------------+\n",
            "|Ait Sidi, Karthik...|10084|        1|              1|       1|     3|          3|104437|    1|        27|             Sr. DBA|   MA|2148|05/05/75| M |    Married| US Citizen|            No|   White| 3/30/2015|        6/16/2016|   career change|Voluntarily Termi...|            IT/IS|    Simon Roup|        4|           Indeed|     Fully Meets|            4.96|              3|                   6|                 2/24/2016|             0|      17|              yes|\n",
            "|   Akinkuolie, Sarah|10196|        1|              1|       0|     5|          3| 64955|    1|        20|Production Techni...|   MA|1810|09/19/88|  F|    Married| US Citizen|            No|   White|  7/5/2011|        9/24/2012|           hours|Voluntarily Termi...|Production       |Kissy Sullivan|       20|         LinkedIn|     Fully Meets|            3.02|              3|                   0|                 5/15/2012|             0|       3|              yes|\n",
            "|    Anderson, Carol |10069|        0|              2|       0|     5|          3| 50825|    1|        19|Production Techni...|   MA|2169|09/08/89|  F|   Divorced| US Citizen|            No|   White| 7/11/2011|         9/6/2016|return to school|Voluntarily Termi...|Production       |Webster Butler|       39|    Google Search|     Fully Meets|             5.0|              4|                   0|                  2/1/2016|             0|       2|              yes|\n",
            "+--------------------+-----+---------+---------------+--------+------+-----------+------+-----+----------+--------------------+-----+----+--------+---+-----------+-----------+--------------+--------+----------+-----------------+----------------+--------------------+-----------------+--------------+---------+-----------------+----------------+----------------+---------------+--------------------+--------------------------+--------------+--------+-----------------+\n",
            "only showing top 3 rows\n",
            "\n"
          ]
        }
      ]
    },
    {
      "cell_type": "markdown",
      "source": [
        "## Exploratory Data Analysis"
      ],
      "metadata": {
        "id": "YjagyGVKHN7I"
      }
    },
    {
      "cell_type": "code",
      "source": [
        "# Select specific columns for analysis\n",
        "cols = [\"MaritalStatusID\",\"GenderID\", \"EmpStatusID\", \"DeptID\", \"PerfScoreID\", \"FromDiversityJobFairID\", \"Termd\", \"PositionID\", \"ManagerID\"]\n",
        "\n",
        "hr_num = hr_data_cleaned.select(cols)"
      ],
      "metadata": {
        "id": "XtaaFmCwHPJW"
      },
      "execution_count": 51,
      "outputs": []
    },
    {
      "cell_type": "code",
      "source": [
        "# Show summary statistics\n",
        "hr_num.select(cols).describe().show()"
      ],
      "metadata": {
        "colab": {
          "base_uri": "https://localhost:8080/"
        },
        "id": "2_7m-9vVJ_lo",
        "outputId": "c0a9f103-3760-43fd-fbdd-bcc97c2c04a9"
      },
      "execution_count": 17,
      "outputs": [
        {
          "output_type": "stream",
          "name": "stdout",
          "text": [
            "+-------+------------------+------------------+------------------+------------------+------------------+----------------------+-----+------------------+------------------+\n",
            "|summary|   MaritalStatusID|          GenderID|       EmpStatusID|            DeptID|       PerfScoreID|FromDiversityJobFairID|Termd|        PositionID|         ManagerID|\n",
            "+-------+------------------+------------------+------------------+------------------+------------------+----------------------+-----+------------------+------------------+\n",
            "|  count|               104|               104|               104|               104|               104|                   104|  104|               104|               104|\n",
            "|   mean|0.9423076923076923|0.4230769230769231| 4.788461538461538| 4.711538461538462|2.9038461538461537|   0.15384615384615385|  1.0|18.134615384615383|16.903846153846153|\n",
            "| stddev|0.9433149879770784|0.4964399022537007|0.6335763327177987|0.9208805086045133|0.5663583340159615|    0.3625484438800155|  0.0| 4.975781525788927|10.380638466221276|\n",
            "|    min|                 0|                 0|                 1|                 1|                 1|                     0|    1|                 2|                 1|\n",
            "|    max|                 4|                 1|                 5|                 6|                 4|                     1|    1|                30|                39|\n",
            "+-------+------------------+------------------+------------------+------------------+------------------+----------------------+-----+------------------+------------------+\n",
            "\n"
          ]
        }
      ]
    },
    {
      "cell_type": "code",
      "source": [
        "# Show unique values in a specific column\n",
        "unique_PerformanceScore = hr_data_cleaned.select([\"PerformanceScore\", \"GenderID\"]).distinct()\n",
        "unique_PerformanceScore.show()"
      ],
      "metadata": {
        "colab": {
          "base_uri": "https://localhost:8080/"
        },
        "id": "AEjCEs-jKvwX",
        "outputId": "ddf640ae-150d-4523-8376-7d0c2294d873"
      },
      "execution_count": 18,
      "outputs": [
        {
          "output_type": "stream",
          "name": "stdout",
          "text": [
            "+-----------------+--------+\n",
            "| PerformanceScore|GenderID|\n",
            "+-----------------+--------+\n",
            "|              PIP|       1|\n",
            "|      Fully Meets|       0|\n",
            "|      Fully Meets|       1|\n",
            "|          Exceeds|       1|\n",
            "|          Exceeds|       0|\n",
            "|              PIP|       0|\n",
            "|Needs Improvement|       1|\n",
            "|Needs Improvement|       0|\n",
            "+-----------------+--------+\n",
            "\n"
          ]
        }
      ]
    },
    {
      "cell_type": "code",
      "source": [
        "unique_Last = hr_data_cleaned.select([\"DaysLateLast30\"]).distinct().show()"
      ],
      "metadata": {
        "colab": {
          "base_uri": "https://localhost:8080/"
        },
        "id": "rOpoQJb0XICC",
        "outputId": "66ba6559-0286-4df5-becf-209adcdacbaa"
      },
      "execution_count": 19,
      "outputs": [
        {
          "output_type": "stream",
          "name": "stdout",
          "text": [
            "+--------------+\n",
            "|DaysLateLast30|\n",
            "+--------------+\n",
            "|             1|\n",
            "|             6|\n",
            "|             3|\n",
            "|             5|\n",
            "|             4|\n",
            "|             0|\n",
            "+--------------+\n",
            "\n"
          ]
        }
      ]
    },
    {
      "cell_type": "code",
      "source": [
        "# Filer data by genderID and show count\n",
        "gen_0 = hr_data_cleaned.filter(hr_data_cleaned.GenderID == 0)\n",
        "gen_1 = hr_data_cleaned.filter(hr_data_cleaned.GenderID == 1)\n",
        "\n",
        "print(f\"Count of genderID=0: {gen_0.count()},: Count of genderID=1: {gen_1.count()}\")"
      ],
      "metadata": {
        "colab": {
          "base_uri": "https://localhost:8080/"
        },
        "id": "QeBsNr9WIaNH",
        "outputId": "14beb206-1588-481b-8ac1-1064b857cd5d"
      },
      "execution_count": 20,
      "outputs": [
        {
          "output_type": "stream",
          "name": "stdout",
          "text": [
            "Count of genderID=0: 60,: Count of genderID=1: 44\n"
          ]
        }
      ]
    },
    {
      "cell_type": "code",
      "source": [
        "# Filter data by colummn\n",
        "top_performer_data = hr_data_cleaned.filter(hr_data_cleaned.PerformanceScore == \"Exceeds\")\n",
        "absence_data = hr_data_cleaned.filter(hr_data_cleaned.Absences > 19)"
      ],
      "metadata": {
        "id": "gw6QJgqwI2VP"
      },
      "execution_count": 21,
      "outputs": []
    },
    {
      "cell_type": "code",
      "source": [
        "top_performer_data.show(3)"
      ],
      "metadata": {
        "colab": {
          "base_uri": "https://localhost:8080/"
        },
        "id": "B_c6DrrsMffX",
        "outputId": "e216ec08-c08e-4c48-d56b-3ee05f4c290f"
      },
      "execution_count": 22,
      "outputs": [
        {
          "output_type": "stream",
          "name": "stdout",
          "text": [
            "+----------------+-----+---------+---------------+--------+-----------+------+-----------+----------------------+------+-----+----------+--------------------+-----+----+--------+---+-----------+-----------+--------------+--------------------+----------+-----------------+----------------+--------------------+--------------------+---------------+---------+------------------+----------------+----------------+---------------+--------------------+--------------------------+--------------+--------+\n",
            "|   Employee_Name|EmpID|MarriedID|MaritalStatusID|GenderID|EmpStatusID|DeptID|PerfScoreID|FromDiversityJobFairID|Salary|Termd|PositionID|            Position|State| Zip|     DOB|Sex|MaritalDesc|CitizenDesc|HispanicLatino|            RaceDesc|DateofHire|DateofTermination|      TermReason|    EmploymentStatus|          Department|    ManagerName|ManagerID| RecruitmentSource|PerformanceScore|EngagementSurvey|EmpSatisfaction|SpecialProjectsCount|LastPerformanceReview_Date|DaysLateLast30|Absences|\n",
            "+----------------+-----+---------+---------------+--------+-----------+------+-----------+----------------------+------+-----+----------+--------------------+-----+----+--------+---+-----------+-----------+--------------+--------------------+----------+-----------------+----------------+--------------------+--------------------+---------------+---------+------------------+----------------+----------------+---------------+--------------------+--------------------------+--------------+--------+\n",
            "| Johnson, George|10034|        1|              1|       1|          5|     5|          4|                     0| 46837|    1|        19|Production Techni...|   MA|2445|08/19/59| M |    Married| US Citizen|            No|               White| 11/7/2011|        4/29/2018|      more money|Voluntarily Termi...|   Production       | Michael Albert|       22|     CareerBuilder|         Exceeds|             4.7|              4|                   0|                 2/14/2018|             0|       9|\n",
            "|  Lynch, Lindsay|10004|        0|              0|       0|          5|     5|          4|                     1| 47434|    1|        19|Production Techni...|   MA|1844|02/14/73|  F|     Single| US Citizen|           Yes|Black or African ...| 11/7/2011|       11/14/2015|Another position|Voluntarily Termi...|   Production       | Webster Butler|       39|Diversity Job Fair|         Exceeds|             5.0|              4|                   0|                  2/2/2015|             0|      17|\n",
            "|Patronick, Lucas|10005|        0|              0|       1|          5|     4|          4|                     1|108987|    1|        24|   Software Engineer|   MA|1844|02/20/79| M |     Single| US Citizen|            No|Black or African ...| 11/7/2011|         9/7/2015|Another position|Voluntarily Termi...|Software Engineering|Alex Sweetwater|       10|Diversity Job Fair|         Exceeds|             5.0|              5|                   3|                 8/16/2015|             0|      13|\n",
            "+----------------+-----+---------+---------------+--------+-----------+------+-----------+----------------------+------+-----+----------+--------------------+-----+----+--------+---+-----------+-----------+--------------+--------------------+----------+-----------------+----------------+--------------------+--------------------+---------------+---------+------------------+----------------+----------------+---------------+--------------------+--------------------------+--------------+--------+\n",
            "only showing top 3 rows\n",
            "\n"
          ]
        }
      ]
    },
    {
      "cell_type": "code",
      "source": [
        "absence_data.show(3)"
      ],
      "metadata": {
        "colab": {
          "base_uri": "https://localhost:8080/"
        },
        "id": "fU8z5XJrMb0f",
        "outputId": "7130d1d3-48f7-4d7c-95fe-67aaa6a471c3"
      },
      "execution_count": 23,
      "outputs": [
        {
          "output_type": "stream",
          "name": "stdout",
          "text": [
            "+--------------------+-----+---------+---------------+--------+-----------+------+-----------+----------------------+------+-----+----------+--------------------+-----+-----+--------+---+-----------+-----------+--------------+-----------------+----------+-----------------+--------------------+--------------------+-----------------+-------------+---------+-----------------+----------------+----------------+---------------+--------------------+--------------------------+--------------+--------+\n",
            "|       Employee_Name|EmpID|MarriedID|MaritalStatusID|GenderID|EmpStatusID|DeptID|PerfScoreID|FromDiversityJobFairID|Salary|Termd|PositionID|            Position|State|  Zip|     DOB|Sex|MaritalDesc|CitizenDesc|HispanicLatino|         RaceDesc|DateofHire|DateofTermination|          TermReason|    EmploymentStatus|       Department|  ManagerName|ManagerID|RecruitmentSource|PerformanceScore|EngagementSurvey|EmpSatisfaction|SpecialProjectsCount|LastPerformanceReview_Date|DaysLateLast30|Absences|\n",
            "+--------------------+-----+---------+---------------+--------+-----------+------+-----------+----------------------+------+-----+----------+--------------------+-----+-----+--------+---+-----------+-----------+--------------+-----------------+----------+-----------------+--------------------+--------------------+-----------------+-------------+---------+-----------------+----------------+----------------+---------------+--------------------+--------------------------+--------------+--------+\n",
            "|       Bates, Norman|10061|        0|              0|       1|          4|     5|          3|                     0| 57834|    1|        19|Production Techni...|   MA| 2050|10/18/81| M |     Single| US Citizen|            No|            White| 2/21/2011|         8/4/2017|          attendance|Terminated for Cause|Production       |Kelley Spirea|       18|    Google Search|     Fully Meets|             5.0|              4|                   0|                  4/5/2017|             0|      20|\n",
            "|Fitzpatrick, Mich...|10093|        0|              0|       1|          5|     5|          3|                     0| 72609|    1|        20|Production Techni...|   MA| 2143|10/01/81| M |     Single| US Citizen|           Yes|            White| 5/16/2011|        6/24/2013|               hours|Voluntarily Termi...|Production       |     Amy Dunn|       11|    Google Search|     Fully Meets|            4.76|              5|                   0|                  4/5/2013|             0|      20|\n",
            "|     Guilianno, Mike|10109|        0|              0|       1|          5|     6|          3|                     0| 71707|    1|         3|  Area Sales Manager|   TN|37129|02/09/69| M |     Single| US Citizen|            No|Two or more races|  3/7/2012|       10/31/2014|relocation out of...|Voluntarily Termi...|            Sales|   John Smith|       17|         LinkedIn|     Fully Meets|             4.5|              5|                   0|                  2/1/2013|             0|      20|\n",
            "+--------------------+-----+---------+---------------+--------+-----------+------+-----------+----------------------+------+-----+----------+--------------------+-----+-----+--------+---+-----------+-----------+--------------+-----------------+----------+-----------------+--------------------+--------------------+-----------------+-------------+---------+-----------------+----------------+----------------+---------------+--------------------+--------------------------+--------------+--------+\n",
            "only showing top 3 rows\n",
            "\n"
          ]
        }
      ]
    },
    {
      "cell_type": "markdown",
      "source": [
        "## Data Manipulation"
      ],
      "metadata": {
        "id": "DW3Om0m0OGUy"
      }
    },
    {
      "cell_type": "code",
      "source": [
        "# Increment of 10% in salaries of those with Exceees performance\n",
        "top_performer_data = hr_data_cleaned.withColumn(\n",
        "    \"Salary\", when(col(\"PerformanceScore\") == \"Exceeds\", col(\"Salary\") * 1.1).otherwise(col(\"Salary\")))"
      ],
      "metadata": {
        "id": "QKIN2jkPMqTE"
      },
      "execution_count": 24,
      "outputs": []
    },
    {
      "cell_type": "code",
      "source": [
        "# Deduction of 5% from salaries for those with absences more than 19\n",
        "absence_data = hr_data_cleaned.withColumn(\n",
        "    \"Salary\", when(col(\"Absences\") > 19, col(\"Salary\") * 1.1).otherwise(col(\"Salary\")))"
      ],
      "metadata": {
        "id": "UVgWhMugJdJJ"
      },
      "execution_count": 25,
      "outputs": []
    },
    {
      "cell_type": "code",
      "source": [
        "hr_data_cleaned = hr_data_cleaned.withColumn(\"DateofHire\", to_date(col(\"DateofHire\"), \"M/d/yyyy\"))\n",
        "\n",
        "hr_data_cleaned = hr_data_cleaned.withColumn(\"DateofTermination\", to_date(col(\"DateofTermination\"), \"M/d/yyyy\"))\n",
        "\n",
        "hr_data_cleaned = hr_data_cleaned.withColumn(\"Tenure\", (datediff(col(\"DateofTermination\"), col(\"DateofHire\")) / 365).cast(\"int\"))\n",
        "\n",
        "hr_data_cleaned.select(\"DateofHire\", \"DateofTermination\", \"Tenure\").show(3, False)"
      ],
      "metadata": {
        "colab": {
          "base_uri": "https://localhost:8080/"
        },
        "id": "SIz2IpUiPj14",
        "outputId": "c66df2e0-560b-4d5d-c036-4e74876996f5"
      },
      "execution_count": 26,
      "outputs": [
        {
          "output_type": "stream",
          "name": "stdout",
          "text": [
            "+----------+-----------------+------+\n",
            "|DateofHire|DateofTermination|Tenure|\n",
            "+----------+-----------------+------+\n",
            "|2015-03-30|2016-06-16       |1     |\n",
            "|2011-07-05|2012-09-24       |1     |\n",
            "|2011-07-11|2016-09-06       |5     |\n",
            "+----------+-----------------+------+\n",
            "only showing top 3 rows\n",
            "\n"
          ]
        }
      ]
    },
    {
      "cell_type": "markdown",
      "source": [
        "## Save the file"
      ],
      "metadata": {
        "id": "VOEe4JyTs2lY"
      }
    },
    {
      "cell_type": "code",
      "source": [
        "hr_data_cleaned.write.mode(\"overwrite\").csv(\"new_hr_data.csv\", header=True)\n",
        "# #If you do not wish to over write use df.write.csv(\"new_hr_data.csv\", header=True)"
      ],
      "metadata": {
        "id": "gZIbvF1rs4SK"
      },
      "execution_count": 93,
      "outputs": []
    },
    {
      "cell_type": "markdown",
      "source": [
        "## Aggregation & Grouping"
      ],
      "metadata": {
        "id": "Jl-pNbDiYs6i"
      }
    },
    {
      "cell_type": "code",
      "source": [
        "# Show average salary per department\n",
        "hr_data_cleaned.groupBy(\"DeptID\").agg({\"Salary\": \"avg\"}).show()"
      ],
      "metadata": {
        "colab": {
          "base_uri": "https://localhost:8080/"
        },
        "id": "YpS3ppLaYvat",
        "outputId": "b49e6dda-bf03-4719-ddb9-60b8d73d2caa"
      },
      "execution_count": 27,
      "outputs": [
        {
          "output_type": "stream",
          "name": "stdout",
          "text": [
            "+------+------------------+\n",
            "|DeptID|       avg(Salary)|\n",
            "+------+------------------+\n",
            "|     1|           62761.0|\n",
            "|     6|           68917.8|\n",
            "|     3|          107274.9|\n",
            "|     5| 59246.55421686747|\n",
            "|     4|102894.33333333333|\n",
            "+------+------------------+\n",
            "\n"
          ]
        }
      ]
    },
    {
      "cell_type": "code",
      "source": [
        "# Show min and max salaries per department\n",
        "hr_data_cleaned.groupBy(\"DeptID\").agg(\n",
        "    F.min(\"Salary\").alias(\"min(Salary)\"),\n",
        "    F.max(\"Salary\").alias(\"max(Salary)\")\n",
        ").show()"
      ],
      "metadata": {
        "colab": {
          "base_uri": "https://localhost:8080/"
        },
        "id": "zlSY3DnRZXH4",
        "outputId": "eaff34c3-0077-466d-ad0e-733964f68800"
      },
      "execution_count": 28,
      "outputs": [
        {
          "output_type": "stream",
          "name": "stdout",
          "text": [
            "+------+-----------+-----------+\n",
            "|DeptID|min(Salary)|max(Salary)|\n",
            "+------+-----------+-----------+\n",
            "|     1|      49920|      83363|\n",
            "|     6|      59370|      74326|\n",
            "|     3|      75281|     148999|\n",
            "|     5|      45115|      83082|\n",
            "|     4|      99280|     108987|\n",
            "+------+-----------+-----------+\n",
            "\n"
          ]
        }
      ]
    },
    {
      "cell_type": "code",
      "source": [
        "# Show average salary and average Employee Satisfaction per department\n",
        "hr_data_cleaned.groupBy(\"DeptID\").agg({\"Salary\": \"avg\", \"EmpSatisfaction\": \"avg\"}).show()"
      ],
      "metadata": {
        "colab": {
          "base_uri": "https://localhost:8080/"
        },
        "id": "uwfSdNRsZoQs",
        "outputId": "0afc8c1b-f480-4b5d-9b74-a4adf2659d1c"
      },
      "execution_count": 29,
      "outputs": [
        {
          "output_type": "stream",
          "name": "stdout",
          "text": [
            "+------+------------------+--------------------+\n",
            "|DeptID|       avg(Salary)|avg(EmpSatisfaction)|\n",
            "+------+------------------+--------------------+\n",
            "|     1|           62761.0|  3.6666666666666665|\n",
            "|     6|           68917.8|                 4.8|\n",
            "|     3|          107274.9|                 3.6|\n",
            "|     5| 59246.55421686747|   3.855421686746988|\n",
            "|     4|102894.33333333333|   4.333333333333333|\n",
            "+------+------------------+--------------------+\n",
            "\n"
          ]
        }
      ]
    },
    {
      "cell_type": "code",
      "source": [
        "# Show count values of Employee Satisfaction\n",
        "hr_data_cleaned.groupBy(\"EmpSatisfaction\").count().show()"
      ],
      "metadata": {
        "colab": {
          "base_uri": "https://localhost:8080/"
        },
        "id": "K8aqs34AaOXE",
        "outputId": "53f7c790-d98c-410f-cc7a-99fb6a1b2ea3"
      },
      "execution_count": 30,
      "outputs": [
        {
          "output_type": "stream",
          "name": "stdout",
          "text": [
            "+---------------+-----+\n",
            "|EmpSatisfaction|count|\n",
            "+---------------+-----+\n",
            "|              3|   33|\n",
            "|              5|   29|\n",
            "|              4|   38|\n",
            "|              2|    4|\n",
            "+---------------+-----+\n",
            "\n"
          ]
        }
      ]
    },
    {
      "cell_type": "markdown",
      "source": [
        "## Sorting"
      ],
      "metadata": {
        "id": "IFr5MATmbhqu"
      }
    },
    {
      "cell_type": "code",
      "source": [
        "hr_data_cleaned.orderBy(\"Tenure\").show(3)"
      ],
      "metadata": {
        "colab": {
          "base_uri": "https://localhost:8080/"
        },
        "id": "chBvY2S9bklP",
        "outputId": "73bec9b1-922c-43a2-a476-091c4e9bd917"
      },
      "execution_count": 31,
      "outputs": [
        {
          "output_type": "stream",
          "name": "stdout",
          "text": [
            "+--------------------+-----+---------+---------------+--------+-----------+------+-----------+----------------------+------+-----+----------+--------------------+-----+----+--------+---+-----------+-----------+--------------+--------+----------+-----------------+--------------------+--------------------+-----------------+--------------+---------+-----------------+----------------+----------------+---------------+--------------------+--------------------------+--------------+--------+------+\n",
            "|       Employee_Name|EmpID|MarriedID|MaritalStatusID|GenderID|EmpStatusID|DeptID|PerfScoreID|FromDiversityJobFairID|Salary|Termd|PositionID|            Position|State| Zip|     DOB|Sex|MaritalDesc|CitizenDesc|HispanicLatino|RaceDesc|DateofHire|DateofTermination|          TermReason|    EmploymentStatus|       Department|   ManagerName|ManagerID|RecruitmentSource|PerformanceScore|EngagementSurvey|EmpSatisfaction|SpecialProjectsCount|LastPerformanceReview_Date|DaysLateLast30|Absences|Tenure|\n",
            "+--------------------+-----+---------+---------------+--------+-----------+------+-----------+----------------------+------+-----+----------+--------------------+-----+----+--------+---+-----------+-----------+--------------+--------+----------+-----------------+--------------------+--------------------+-----------------+--------------+---------+-----------------+----------------+----------------+---------------+--------------------+--------------------------+--------------+--------+------+\n",
            "|       Goble, Taisha|10246|        0|              0|       0|          4|     3|          3|                     0|114800|    1|         8|Database Administ...|   MA|2127|10/23/71|  F|     Single| US Citizen|            No|   White|2015-02-16|       2015-03-15|    no-call, no-show|Terminated for Cause|            IT/IS|    Simon Roup|        4|           Indeed|     Fully Meets|             4.6|              4|                   4|                 1/20/2015|             0|      10|     0|\n",
            "|    Purinton, Janine|10262|        0|              2|       0|          5|     5|          3|                     0| 46430|    1|        19|Production Techni...|   MA|2474|09/22/70|  F|   Divorced| US Citizen|            No|   White|2012-09-24|       2013-06-18|             unhappy|Voluntarily Termi...|Production       |Kissy Sullivan|       20|           Indeed|     Fully Meets|             4.5|              5|                   0|                  4/2/2013|             0|      16|     0|\n",
            "|Homberger, Adrien...|10195|        1|              1|       0|          5|     5|          3|                     0| 63478|    1|        20|Production Techni...|   MA|2445|02/16/84|  F|    Married|Non-Citizen|            No|   White|2011-08-15|       2012-04-07|relocation out of...|Voluntarily Termi...|Production       |Michael Albert|       30|           Indeed|     Fully Meets|            3.03|              5|                   0|                  3/5/2012|             0|      16|     0|\n",
            "+--------------------+-----+---------+---------------+--------+-----------+------+-----------+----------------------+------+-----+----------+--------------------+-----+----+--------+---+-----------+-----------+--------------+--------+----------+-----------------+--------------------+--------------------+-----------------+--------------+---------+-----------------+----------------+----------------+---------------+--------------------+--------------------------+--------------+--------+------+\n",
            "only showing top 3 rows\n",
            "\n"
          ]
        }
      ]
    },
    {
      "cell_type": "markdown",
      "source": [
        "## DataFrame Caching"
      ],
      "metadata": {
        "id": "CfrQXhmxa2sy"
      }
    },
    {
      "cell_type": "code",
      "source": [
        "hr_data_cleaned.cache()  # Cache DataFrame in memory\n",
        "\n",
        "# When you cache a DataFrame, Spark keeps the data in memory,\n",
        "# which can help speed up subsequent actions and transformations that need to access the data,\n",
        "# as it avoids re-reading or recomputing the data from the source (e.g., from a file, database, etc.)."
      ],
      "metadata": {
        "colab": {
          "base_uri": "https://localhost:8080/"
        },
        "id": "inDClRvDa6XD",
        "outputId": "d0ccf470-484c-420f-8d00-2d8a6aed3b65"
      },
      "execution_count": 32,
      "outputs": [
        {
          "output_type": "execute_result",
          "data": {
            "text/plain": [
              "DataFrame[Employee_Name: string, EmpID: int, MarriedID: int, MaritalStatusID: int, GenderID: int, EmpStatusID: int, DeptID: int, PerfScoreID: int, FromDiversityJobFairID: int, Salary: int, Termd: int, PositionID: int, Position: string, State: string, Zip: int, DOB: string, Sex: string, MaritalDesc: string, CitizenDesc: string, HispanicLatino: string, RaceDesc: string, DateofHire: date, DateofTermination: date, TermReason: string, EmploymentStatus: string, Department: string, ManagerName: string, ManagerID: int, RecruitmentSource: string, PerformanceScore: string, EngagementSurvey: double, EmpSatisfaction: int, SpecialProjectsCount: int, LastPerformanceReview_Date: string, DaysLateLast30: int, Absences: int, Tenure: int]"
            ]
          },
          "metadata": {},
          "execution_count": 32
        }
      ]
    },
    {
      "cell_type": "markdown",
      "source": [
        "## Joins"
      ],
      "metadata": {
        "id": "xY-m6xHWatTS"
      }
    },
    {
      "cell_type": "code",
      "source": [
        "#df1.join(df2, df1[\"key\"] == df2[\"key\"], \"inner\").show()\n",
        "#df1.join(df2, on=\"key\", how=\"left\").show()"
      ],
      "metadata": {
        "id": "8ovpsjxuavMQ"
      },
      "execution_count": 33,
      "outputs": []
    },
    {
      "cell_type": "markdown",
      "source": [
        "## Partitioning and Coalescing:"
      ],
      "metadata": {
        "id": "6KAdEgOocLfT"
      }
    },
    {
      "cell_type": "code",
      "source": [
        "hr_data_cleaned.repartition(5) # Divides the data into 5 subsets and runs in paralell in multiple nodes, if available"
      ],
      "metadata": {
        "colab": {
          "base_uri": "https://localhost:8080/"
        },
        "id": "Y73oEhwGcPKR",
        "outputId": "772be186-c846-4990-fc62-b46d1a6b59e4"
      },
      "execution_count": 34,
      "outputs": [
        {
          "output_type": "execute_result",
          "data": {
            "text/plain": [
              "DataFrame[Employee_Name: string, EmpID: int, MarriedID: int, MaritalStatusID: int, GenderID: int, EmpStatusID: int, DeptID: int, PerfScoreID: int, FromDiversityJobFairID: int, Salary: int, Termd: int, PositionID: int, Position: string, State: string, Zip: int, DOB: string, Sex: string, MaritalDesc: string, CitizenDesc: string, HispanicLatino: string, RaceDesc: string, DateofHire: date, DateofTermination: date, TermReason: string, EmploymentStatus: string, Department: string, ManagerName: string, ManagerID: int, RecruitmentSource: string, PerformanceScore: string, EngagementSurvey: double, EmpSatisfaction: int, SpecialProjectsCount: int, LastPerformanceReview_Date: string, DaysLateLast30: int, Absences: int, Tenure: int]"
            ]
          },
          "metadata": {},
          "execution_count": 34
        }
      ]
    },
    {
      "cell_type": "code",
      "source": [
        "hr_data_cleaned.coalesce(1) #Repartitioning"
      ],
      "metadata": {
        "colab": {
          "base_uri": "https://localhost:8080/"
        },
        "id": "nnmofV_XcUYg",
        "outputId": "b9c76f29-806e-4745-adaf-05c748ece53d"
      },
      "execution_count": 35,
      "outputs": [
        {
          "output_type": "execute_result",
          "data": {
            "text/plain": [
              "DataFrame[Employee_Name: string, EmpID: int, MarriedID: int, MaritalStatusID: int, GenderID: int, EmpStatusID: int, DeptID: int, PerfScoreID: int, FromDiversityJobFairID: int, Salary: int, Termd: int, PositionID: int, Position: string, State: string, Zip: int, DOB: string, Sex: string, MaritalDesc: string, CitizenDesc: string, HispanicLatino: string, RaceDesc: string, DateofHire: date, DateofTermination: date, TermReason: string, EmploymentStatus: string, Department: string, ManagerName: string, ManagerID: int, RecruitmentSource: string, PerformanceScore: string, EngagementSurvey: double, EmpSatisfaction: int, SpecialProjectsCount: int, LastPerformanceReview_Date: string, DaysLateLast30: int, Absences: int, Tenure: int]"
            ]
          },
          "metadata": {},
          "execution_count": 35
        }
      ]
    },
    {
      "cell_type": "markdown",
      "source": [
        "## Exploding an array into rows"
      ],
      "metadata": {
        "id": "hK4bbAF0dmCc"
      }
    },
    {
      "cell_type": "markdown",
      "source": [
        "ID\tSkills\n",
        "\n",
        "1\t[\"Python\", \"Java\"]\n",
        "\n",
        "2\t[\"SQL\", \"Spark\", \"R\"]\n",
        "\n",
        "3\t[\"Excel\", \"Power BI\"]"
      ],
      "metadata": {
        "id": "S4n0oy_Wdzbx"
      }
    },
    {
      "cell_type": "code",
      "source": [
        "# Exploding an array into rows\n",
        "#hr_data_cleaned.withColumn(\"GenderID\", explode(col(\"Language\"))).show()"
      ],
      "metadata": {
        "id": "YcPOge-efjyf"
      },
      "execution_count": 36,
      "outputs": []
    },
    {
      "cell_type": "markdown",
      "source": [
        "## Group Target Variables"
      ],
      "metadata": {
        "id": "7WWNE7DRBEKQ"
      }
    },
    {
      "cell_type": "code",
      "source": [
        "assembler = VectorAssembler(inputCols=[\"MaritalStatusID\",\"GenderID\", \"EmpStatusID\", \"DeptID\", \"PerfScoreID\", \"FromDiversityJobFairID\", \"Termd\",\n",
        "                                       \"PositionID\", \"ManagerID\"], outputCol=\"features\")\n",
        "hr_transformed_data = assembler.transform(hr_data_cleaned)"
      ],
      "metadata": {
        "id": "1q4ULFfFBKbV"
      },
      "execution_count": 37,
      "outputs": []
    },
    {
      "cell_type": "code",
      "source": [
        "hr_transformed_data.select(\"features\",\"Salary\").show()"
      ],
      "metadata": {
        "colab": {
          "base_uri": "https://localhost:8080/"
        },
        "id": "Vp2g-4jWBzJw",
        "outputId": "82ecd7fc-c86c-4ea8-bd29-50a407a57b9d"
      },
      "execution_count": 38,
      "outputs": [
        {
          "output_type": "stream",
          "name": "stdout",
          "text": [
            "+--------------------+------+\n",
            "|            features|Salary|\n",
            "+--------------------+------+\n",
            "|[1.0,1.0,5.0,3.0,...|104437|\n",
            "|[1.0,0.0,5.0,5.0,...| 64955|\n",
            "|[2.0,0.0,5.0,5.0,...| 50825|\n",
            "|[1.0,0.0,5.0,5.0,...| 54670|\n",
            "|[1.0,1.0,5.0,5.0,...| 47211|\n",
            "|[2.0,1.0,5.0,5.0,...| 52505|\n",
            "|[0.0,1.0,4.0,5.0,...| 57834|\n",
            "|[0.0,0.0,4.0,3.0,...|110000|\n",
            "|[0.0,0.0,5.0,5.0,...| 57815|\n",
            "|[0.0,1.0,4.0,3.0,...|103613|\n",
            "|[0.0,1.0,5.0,5.0,...| 74312|\n",
            "|[1.0,0.0,5.0,5.0,...| 53492|\n",
            "|[1.0,0.0,5.0,6.0,...| 74326|\n",
            "|[0.0,0.0,5.0,5.0,...| 64786|\n",
            "|[1.0,0.0,5.0,5.0,...| 64066|\n",
            "|[1.0,1.0,5.0,5.0,...| 59369|\n",
            "|[0.0,1.0,4.0,5.0,...| 59144|\n",
            "|[1.0,1.0,5.0,5.0,...| 55722|\n",
            "|[3.0,0.0,5.0,5.0,...| 58275|\n",
            "|[1.0,0.0,5.0,5.0,...| 60070|\n",
            "+--------------------+------+\n",
            "only showing top 20 rows\n",
            "\n"
          ]
        }
      ]
    },
    {
      "cell_type": "markdown",
      "source": [
        "## Data Split"
      ],
      "metadata": {
        "id": "MVxEtfhGDlkH"
      }
    },
    {
      "cell_type": "code",
      "source": [
        "(training_data, testing_data) = hr_transformed_data.randomSplit([0.8, 0.2], seed=42)"
      ],
      "metadata": {
        "id": "i2KG6UQfB0yB"
      },
      "execution_count": 39,
      "outputs": []
    },
    {
      "cell_type": "markdown",
      "source": [
        "## Model Building"
      ],
      "metadata": {
        "id": "CZKkCdDeDrLP"
      }
    },
    {
      "cell_type": "code",
      "source": [
        "lr = LinearRegression(featuresCol=\"features\", labelCol=\"Salary\")\n",
        "model = lr.fit(training_data)"
      ],
      "metadata": {
        "id": "2HZFCYa-DpA5"
      },
      "execution_count": 40,
      "outputs": []
    },
    {
      "cell_type": "markdown",
      "source": [
        "## Model Evaluation"
      ],
      "metadata": {
        "id": "lYHoLHQJDwRr"
      }
    },
    {
      "cell_type": "code",
      "source": [
        "predictions = model.transform(testing_data)"
      ],
      "metadata": {
        "id": "G8553FbXDuAI"
      },
      "execution_count": 41,
      "outputs": []
    },
    {
      "cell_type": "code",
      "source": [
        "evaluator = RegressionEvaluator(labelCol=\"Salary\", predictionCol=\"prediction\", metricName=\"r2\")\n",
        "r2 = evaluator.evaluate(predictions)\n",
        "print(\"R Squared =\", r2)"
      ],
      "metadata": {
        "colab": {
          "base_uri": "https://localhost:8080/"
        },
        "id": "boTFuDasDxqk",
        "outputId": "904972ff-2a89-4dca-de4e-172368cc03a1"
      },
      "execution_count": 42,
      "outputs": [
        {
          "output_type": "stream",
          "name": "stdout",
          "text": [
            "R Squared = 0.5789676362279946\n"
          ]
        }
      ]
    },
    {
      "cell_type": "code",
      "source": [
        "evaluator = RegressionEvaluator(labelCol=\"Salary\", predictionCol=\"prediction\", metricName=\"rmse\")\n",
        "rmse = evaluator.evaluate(predictions)\n",
        "print(\"RMSE =\", rmse)"
      ],
      "metadata": {
        "colab": {
          "base_uri": "https://localhost:8080/"
        },
        "id": "JY66aIQUD0AO",
        "outputId": "5a272ec7-6b38-4895-83e9-f4375d430080"
      },
      "execution_count": 43,
      "outputs": [
        {
          "output_type": "stream",
          "name": "stdout",
          "text": [
            "RMSE = 11404.800500086089\n"
          ]
        }
      ]
    },
    {
      "cell_type": "markdown",
      "source": [
        "## Stop the Spark session"
      ],
      "metadata": {
        "id": "y4COY7WoePCJ"
      }
    },
    {
      "cell_type": "code",
      "source": [
        "spark.stop()"
      ],
      "metadata": {
        "id": "eQwYdb6jD6Qf"
      },
      "execution_count": null,
      "outputs": []
    }
  ],
  "metadata": {
    "kernelspec": {
      "display_name": "Python",
      "language": "python",
      "name": "conda-env-python-py"
    },
    "language_info": {
      "name": "python",
      "version": "3.7.12",
      "mimetype": "text/x-python",
      "codemirror_mode": {
        "name": "ipython",
        "version": 3
      },
      "pygments_lexer": "ipython3",
      "nbconvert_exporter": "python",
      "file_extension": ".py"
    },
    "prev_pub_hash": "4fa66a01fb1e16c239154b57e7d60fc8e9a8a2198ae66e7312eb2f997e32a26a",
    "colab": {
      "provenance": [],
      "toc_visible": true
    }
  },
  "nbformat": 4,
  "nbformat_minor": 0
}